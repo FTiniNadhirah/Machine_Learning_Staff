{
 "cells": [
  {
   "cell_type": "code",
   "execution_count": 36,
   "id": "b0ddb131",
   "metadata": {},
   "outputs": [],
   "source": [
    "# %pip install tensorflow"
   ]
  },
  {
   "cell_type": "code",
   "execution_count": 37,
   "id": "bbba9621",
   "metadata": {},
   "outputs": [],
   "source": [
    "import tensorflow as tf"
   ]
  },
  {
   "cell_type": "code",
   "execution_count": 38,
   "id": "8883a704",
   "metadata": {},
   "outputs": [
    {
     "name": "stdout",
     "output_type": "stream",
     "text": [
      "2.9.1\n"
     ]
    }
   ],
   "source": [
    "# #printing the version of installed module\n",
    "print(ts.__version__)"
   ]
  },
  {
   "cell_type": "code",
   "execution_count": 39,
   "id": "73a255f1",
   "metadata": {},
   "outputs": [
    {
     "name": "stdout",
     "output_type": "stream",
     "text": [
      "Tensor(\"Add_2:0\", shape=(), dtype=int32)\n"
     ]
    }
   ],
   "source": [
    "# defining varriables\n",
    "a = 4\n",
    "b = 5\n",
    "\n",
    "# addition using tensorflow\n",
    "Sum = tf.add(a, b, name='Add')\n",
    "\n",
    "# printing the sum\n",
    "print(Sum)"
   ]
  },
  {
   "cell_type": "code",
   "execution_count": 40,
   "id": "061a7486",
   "metadata": {},
   "outputs": [],
   "source": [
    "# tf.executing_eagerly()"
   ]
  },
  {
   "cell_type": "code",
   "execution_count": 41,
   "id": "f0891b82",
   "metadata": {},
   "outputs": [
    {
     "name": "stdout",
     "output_type": "stream",
     "text": [
      "9\n"
     ]
    }
   ],
   "source": [
    "# creating session\n",
    "with tf.compat.v1.Session() as sess:\n",
    "\n",
    "    # printing the sum with session\n",
    "    print(sess.run(Sum))\n",
    " "
   ]
  },
  {
   "cell_type": "code",
   "execution_count": 45,
   "id": "336b99c3",
   "metadata": {},
   "outputs": [
    {
     "name": "stdout",
     "output_type": "stream",
     "text": [
      "15625\n",
      "10\n"
     ]
    }
   ],
   "source": [
    "x = 2\n",
    "y = 3\n",
    "add_op = tf.add(x, y, name='Add')\n",
    "mul_op = tf.multiply(x, y, name='Multiply')\n",
    "pow_op = tf.pow(add_op, mul_op, name='Power')\n",
    "useless_op = tf.multiply(x, add_op, name='Useless')\n",
    "\n",
    "with tf.compat.v1.Session() as sess:\n",
    "    pow_out, useless_out = sess.run([pow_op, useless_op])\n",
    "    print(pow_out)\n",
    "    print(useless_out)"
   ]
  },
  {
   "cell_type": "code",
   "execution_count": 46,
   "id": "b9da6062",
   "metadata": {},
   "outputs": [
    {
     "name": "stdout",
     "output_type": "stream",
     "text": [
      "9\n"
     ]
    }
   ],
   "source": [
    "# create constants\n",
    "a = tf.constant(5)\n",
    "b = tf.constant(4)\n",
    "\n",
    "# Adding constants\n",
    "Sun = a + b\n",
    "\n",
    "# launch the graph in a session\n",
    "with tf.compat.v1.Session() as sess:\n",
    "    print(sess.run(Sum))"
   ]
  },
  {
   "cell_type": "code",
   "execution_count": 48,
   "id": "bf32409b",
   "metadata": {},
   "outputs": [
    {
     "name": "stdout",
     "output_type": "stream",
     "text": [
      "5.3\n",
      "\n",
      "\n",
      "[[1 2]\n",
      " [3 4]]\n"
     ]
    }
   ],
   "source": [
    "# Creating floating number\n",
    "floating = tf.constant(5.3, name='scalar', dtype=tf.float32)\n",
    "\n",
    "# creating matrix \n",
    "matrix = tf.constant([[1, 2], [3, 4]], name='matrix')\n",
    "\n",
    "# launch the graph in a session\n",
    "with tf.compat.v1.Session() as sess:\n",
    "    print(sess.run(floating))\n",
    "    print('\\n')\n",
    "    print(sess.run(matrix))"
   ]
  },
  {
   "cell_type": "code",
   "execution_count": 50,
   "id": "188b291b",
   "metadata": {},
   "outputs": [
    {
     "ename": "AttributeError",
     "evalue": "module 'tensorflow' has no attribute 'get_variable'",
     "output_type": "error",
     "traceback": [
      "\u001b[0;31m---------------------------------------------------------------------------\u001b[0m",
      "\u001b[0;31mAttributeError\u001b[0m                            Traceback (most recent call last)",
      "Input \u001b[0;32mIn [50]\u001b[0m, in \u001b[0;36m<cell line: 1>\u001b[0;34m()\u001b[0m\n\u001b[0;32m----> 1\u001b[0m a \u001b[38;5;241m=\u001b[39m \u001b[43mtf\u001b[49m\u001b[38;5;241;43m.\u001b[39;49m\u001b[43mget_variable\u001b[49m(name\u001b[38;5;241m=\u001b[39m\u001b[38;5;124m\"\u001b[39m\u001b[38;5;124mvar1\u001b[39m\u001b[38;5;124m\"\u001b[39m, initializer\u001b[38;5;241m=\u001b[39mtf\u001b[38;5;241m.\u001b[39mconstant(\u001b[38;5;241m2\u001b[39m))\n\u001b[1;32m      2\u001b[0m b \u001b[38;5;241m=\u001b[39m tf\u001b[38;5;241m.\u001b[39mget_variable(name\u001b[38;5;241m=\u001b[39m\u001b[38;5;124m\"\u001b[39m\u001b[38;5;124mvar2\u001b[39m\u001b[38;5;124m\"\u001b[39m, initializer\u001b[38;5;241m=\u001b[39mtf\u001b[38;5;241m.\u001b[39mconstant(\u001b[38;5;241m3.543\u001b[39m))\n\u001b[1;32m      4\u001b[0m \u001b[38;5;66;03m# launch the graph in a session\u001b[39;00m\n",
      "\u001b[0;31mAttributeError\u001b[0m: module 'tensorflow' has no attribute 'get_variable'"
     ]
    }
   ],
   "source": [
    "a = tf.get_variable(name=\"var1\", initializer=tf.constant(2))\n",
    "b = tf.get_variable(name=\"var2\", initializer=tf.constant(3.543))\n",
    "\n",
    "# launch the graph in a session\n",
    "with tf.Session() as sess:\n",
    "    # now let's evaluate their value\n",
    "    print(sess.run(a))\n",
    "    print(sess.run(b))\n",
    "    print(sess.run(c))"
   ]
  },
  {
   "cell_type": "code",
   "execution_count": 57,
   "id": "feae44b8",
   "metadata": {},
   "outputs": [
    {
     "name": "stdout",
     "output_type": "stream",
     "text": [
      "2\n",
      "3.54\n"
     ]
    }
   ],
   "source": [
    "# create variables and initializing values\n",
    "integer_value = tf.compat.v1.get_variable(name=\"var1\", initializer=tf.constant(2))\n",
    "floating_value = tf.compat.v1.get_variable(name=\"var2\", initializer=tf.constant(3.54))\n",
    "\n",
    "# add an Op to initialize global variables\n",
    "init_op = tf.compat.v1.global_variables_initializer()\n",
    "\n",
    "# launch the graph in a session\n",
    "with tf.compat.v1.Session() as sess:\n",
    "    \n",
    "    # run the variable initializer operation\n",
    "    sess.run(init_op)\n",
    "    \n",
    "    # printing valus of varibles\n",
    "    print(sess.run(integer_value))\n",
    "    print(sess.run(floating_value))\n"
   ]
  },
  {
   "cell_type": "code",
   "execution_count": 62,
   "id": "e6ef039b",
   "metadata": {},
   "outputs": [
    {
     "name": "stdout",
     "output_type": "stream",
     "text": [
      "[1. 2. 3.]\n"
     ]
    }
   ],
   "source": [
    "# defining constand\n",
    "cont = tf.constant([0, 0, 0], tf.float32, name='A')\n",
    "\n",
    "# defining a place holder ( empty)\n",
    "placeHolder = tf.compat.v1.placeholder(tf.float32, shape=[3], name='B')\n",
    "\n",
    "# Adding constant and placeholder\n",
    "Sum = tf.add(cont, placeHolder, name=\"Add\")\n",
    "\n",
    "with tf.compat.v1.Session() as sess:\n",
    "    \n",
    "    # create a dictionary assigning to placeholder\n",
    "    d = {placeHolder: [1, 2, 3]}\n",
    "    \n",
    "    \n",
    "    # feed it to the placeholder\n",
    "    print(sess.run(Sum, feed_dict=d)) "
   ]
  },
  {
   "cell_type": "code",
   "execution_count": 76,
   "id": "03f6f631",
   "metadata": {},
   "outputs": [],
   "source": [
    "# To clear the defined variables and operations of the previous cell\n",
    "tf.compat.v1.reset_default_graph()   \n",
    "\n",
    "# create graph\n",
    "a = tf.constant(10,name=\"a\")\n",
    "b = tf.constant(3, name=\"b\")\n",
    "c = tf.add(a, b, name=\"addition\")\n",
    "d = tf.math.multiply(c, a, name='multiplication')\n",
    "f = tf.add(c, d, name='Final')\n",
    "\n",
    "# launch the graph in a session\n",
    "with tf.compat.v1.Session() as sess:\n",
    "    # or creating the writer inside the session\n",
    "    writer = tf.compat.v1.summary.FileWriter('./graphs', sess.graph)"
   ]
  },
  {
   "cell_type": "code",
   "execution_count": 86,
   "id": "3fa83ef0",
   "metadata": {},
   "outputs": [],
   "source": [
    "# To clear the defined variables and operations of the previous cell\n",
    "tf.compat.v1.reset_default_graph()   \n",
    "\n",
    "# create the scalar variable from normal distribution\n",
    "x_scalar = tf.compat.v1.get_variable('x_scalar', shape=[], initializer=tf.compat.v1.truncated_normal_initializer(mean=0, stddev=1))\n",
    "\n",
    "# create the scalar summary\n",
    "first_summary = tf.compat.v1.summary.scalar(name='Summary_of_random_variables', tensor=x_scalar)\n",
    "\n",
    "# initializing the global variable\n",
    "init = tf.compat.v1.global_variables_initializer()\n",
    "\n",
    "# launch the graph in a session\n",
    "with tf.compat.v1.Session() as sess:\n",
    "    \n",
    "    # creating the writer inside the session\n",
    "    writer = tf.compat.v1.summary.FileWriter('./graphs', sess.graph)\n",
    "    for step in range(100):\n",
    "        \n",
    "        # loop over several initializations of the variable\n",
    "        sess.run(init)\n",
    "        \n",
    "        # evaluate the scalar summary\n",
    "        summary = sess.run(first_summary)\n",
    "        \n",
    "        #add the summary to the writer\n",
    "        writer.add_summary(summary, step)"
   ]
  },
  {
   "cell_type": "code",
   "execution_count": 90,
   "id": "f5e3cf54",
   "metadata": {},
   "outputs": [],
   "source": [
    " # To clear the defined variables and operations of the previous cell\n",
    "tf.compat.v1.reset_default_graph()  \n",
    "\n",
    "# create the variables\n",
    "x_matrix = tf.compat.v1.get_variable('x_matrix', shape=[40, 40], initializer=tf.compat.v1.truncated_normal_initializer(mean=0, stddev=1))\n",
    "\n",
    "# A histogram summary for the non-scalar tensor\n",
    "histogram_summary = tf.compat.v1.summary.histogram('histogram_summary', x_matrix)\n",
    "\n",
    "init = tf.compat.v1.global_variables_initializer()\n",
    "\n",
    "# launch the graph in a session\n",
    "with tf.compat.v1.Session() as sess:\n",
    "    \n",
    "    # creating the writer inside the session\n",
    "    writer = tf.compat.v1.summary.FileWriter('./graphs', sess.graph)\n",
    "    for step in range(100):\n",
    "        # loop over several initializations of the variable\n",
    "        sess.run(init)\n",
    "        # evaluate the merged summaries\n",
    "        summary = sess.run(histogram_summary)\n",
    "        \n",
    "        # the histogram summary\n",
    "        writer.add_summary(summary, step)"
   ]
  },
  {
   "cell_type": "code",
   "execution_count": null,
   "id": "3be162a0",
   "metadata": {},
   "outputs": [],
   "source": [
    " # To clear the defined variables and operations of the previous cell\n",
    "tf.reset_default_graph()  \n",
    "\n",
    "# create the variables for colored and grayscale images\n",
    "w_gray = tf.get_variable('W_Grayscale', shape=[50, 30], initializer=tf.truncated_normal_initializer(mean=0, stddev=1))\n",
    "w_color = tf.get_variable('W_Color', shape=[50, 30], initializer=tf.truncated_normal_initializer(mean=0, stddev=1))\n",
    "\n",
    "# reshape the matrices to grapy and colored\n",
    "w_gray_reshaped = tf.reshape(w_gray, (2, 25, 15, 1))\n",
    "w_color_reshaped = tf.reshape(w_color, (2, 25, 15, 3))\n",
    "\n",
    "# create the image summaries\n",
    "gs_summary = tf.summary.image('Grayscale', w_gray_reshaped)\n",
    "c_summary = tf.summary.image('Color', w_color_reshaped, max_outputs=5)\n",
    "\n",
    "#merge all summaries\n",
    "merged = tf.summary.merge_all()\n",
    "\n",
    "# create the op for initializing all variables\n",
    "init = tf.global_variables_initializer()\n",
    "\n",
    "# launch the graph in a session\n",
    "with tf.Session() as sess:\n",
    "    \n",
    "    # creating the writer inside the session\n",
    "    writer = tf.summary.FileWriter('./graphs', sess.graph)\n",
    "    \n",
    "    # initialize all variables\n",
    "    sess.run(init)\n",
    "    \n",
    "    # evaluate the merged op to get the summaries\n",
    "    summary = sess.run(merged)\n",
    "    writer.add_summary(summary)"
   ]
  }
 ],
 "metadata": {
  "kernelspec": {
   "display_name": "Python 3 (ipykernel)",
   "language": "python",
   "name": "python3"
  },
  "language_info": {
   "codemirror_mode": {
    "name": "ipython",
    "version": 3
   },
   "file_extension": ".py",
   "mimetype": "text/x-python",
   "name": "python",
   "nbconvert_exporter": "python",
   "pygments_lexer": "ipython3",
   "version": "3.9.12"
  }
 },
 "nbformat": 4,
 "nbformat_minor": 5
}
