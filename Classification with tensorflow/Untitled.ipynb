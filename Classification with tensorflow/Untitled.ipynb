{
 "cells": [
  {
   "cell_type": "code",
   "execution_count": 57,
   "id": "aa28cbc3",
   "metadata": {},
   "outputs": [
    {
     "data": {
      "text/html": [
       "<div>\n",
       "<style scoped>\n",
       "    .dataframe tbody tr th:only-of-type {\n",
       "        vertical-align: middle;\n",
       "    }\n",
       "\n",
       "    .dataframe tbody tr th {\n",
       "        vertical-align: top;\n",
       "    }\n",
       "\n",
       "    .dataframe thead th {\n",
       "        text-align: right;\n",
       "    }\n",
       "</style>\n",
       "<table border=\"1\" class=\"dataframe\">\n",
       "  <thead>\n",
       "    <tr style=\"text-align: right;\">\n",
       "      <th></th>\n",
       "      <th>age</th>\n",
       "      <th>job</th>\n",
       "      <th>marital</th>\n",
       "      <th>education</th>\n",
       "      <th>default</th>\n",
       "      <th>balance</th>\n",
       "      <th>housing</th>\n",
       "      <th>loan</th>\n",
       "      <th>contact</th>\n",
       "      <th>day</th>\n",
       "      <th>month</th>\n",
       "      <th>duration</th>\n",
       "      <th>campaign</th>\n",
       "      <th>pdays</th>\n",
       "      <th>previous</th>\n",
       "      <th>poutcome</th>\n",
       "      <th>y</th>\n",
       "    </tr>\n",
       "  </thead>\n",
       "  <tbody>\n",
       "    <tr>\n",
       "      <th>0</th>\n",
       "      <td>58</td>\n",
       "      <td>management</td>\n",
       "      <td>married</td>\n",
       "      <td>tertiary</td>\n",
       "      <td>no</td>\n",
       "      <td>2143</td>\n",
       "      <td>yes</td>\n",
       "      <td>no</td>\n",
       "      <td>unknown</td>\n",
       "      <td>5</td>\n",
       "      <td>may</td>\n",
       "      <td>261</td>\n",
       "      <td>1</td>\n",
       "      <td>-1</td>\n",
       "      <td>0</td>\n",
       "      <td>unknown</td>\n",
       "      <td>no</td>\n",
       "    </tr>\n",
       "    <tr>\n",
       "      <th>1</th>\n",
       "      <td>44</td>\n",
       "      <td>technician</td>\n",
       "      <td>single</td>\n",
       "      <td>secondary</td>\n",
       "      <td>no</td>\n",
       "      <td>29</td>\n",
       "      <td>yes</td>\n",
       "      <td>no</td>\n",
       "      <td>unknown</td>\n",
       "      <td>5</td>\n",
       "      <td>may</td>\n",
       "      <td>151</td>\n",
       "      <td>1</td>\n",
       "      <td>-1</td>\n",
       "      <td>0</td>\n",
       "      <td>unknown</td>\n",
       "      <td>no</td>\n",
       "    </tr>\n",
       "    <tr>\n",
       "      <th>2</th>\n",
       "      <td>33</td>\n",
       "      <td>entrepreneur</td>\n",
       "      <td>married</td>\n",
       "      <td>secondary</td>\n",
       "      <td>no</td>\n",
       "      <td>2</td>\n",
       "      <td>yes</td>\n",
       "      <td>yes</td>\n",
       "      <td>unknown</td>\n",
       "      <td>5</td>\n",
       "      <td>may</td>\n",
       "      <td>76</td>\n",
       "      <td>1</td>\n",
       "      <td>-1</td>\n",
       "      <td>0</td>\n",
       "      <td>unknown</td>\n",
       "      <td>no</td>\n",
       "    </tr>\n",
       "    <tr>\n",
       "      <th>3</th>\n",
       "      <td>47</td>\n",
       "      <td>blue-collar</td>\n",
       "      <td>married</td>\n",
       "      <td>unknown</td>\n",
       "      <td>no</td>\n",
       "      <td>1506</td>\n",
       "      <td>yes</td>\n",
       "      <td>no</td>\n",
       "      <td>unknown</td>\n",
       "      <td>5</td>\n",
       "      <td>may</td>\n",
       "      <td>92</td>\n",
       "      <td>1</td>\n",
       "      <td>-1</td>\n",
       "      <td>0</td>\n",
       "      <td>unknown</td>\n",
       "      <td>no</td>\n",
       "    </tr>\n",
       "    <tr>\n",
       "      <th>4</th>\n",
       "      <td>33</td>\n",
       "      <td>unknown</td>\n",
       "      <td>single</td>\n",
       "      <td>unknown</td>\n",
       "      <td>no</td>\n",
       "      <td>1</td>\n",
       "      <td>no</td>\n",
       "      <td>no</td>\n",
       "      <td>unknown</td>\n",
       "      <td>5</td>\n",
       "      <td>may</td>\n",
       "      <td>198</td>\n",
       "      <td>1</td>\n",
       "      <td>-1</td>\n",
       "      <td>0</td>\n",
       "      <td>unknown</td>\n",
       "      <td>no</td>\n",
       "    </tr>\n",
       "  </tbody>\n",
       "</table>\n",
       "</div>"
      ],
      "text/plain": [
       "   age           job  marital  education default  balance housing loan  \\\n",
       "0   58    management  married   tertiary      no     2143     yes   no   \n",
       "1   44    technician   single  secondary      no       29     yes   no   \n",
       "2   33  entrepreneur  married  secondary      no        2     yes  yes   \n",
       "3   47   blue-collar  married    unknown      no     1506     yes   no   \n",
       "4   33       unknown   single    unknown      no        1      no   no   \n",
       "\n",
       "   contact  day month  duration  campaign  pdays  previous poutcome   y  \n",
       "0  unknown    5   may       261         1     -1         0  unknown  no  \n",
       "1  unknown    5   may       151         1     -1         0  unknown  no  \n",
       "2  unknown    5   may        76         1     -1         0  unknown  no  \n",
       "3  unknown    5   may        92         1     -1         0  unknown  no  \n",
       "4  unknown    5   may       198         1     -1         0  unknown  no  "
      ]
     },
     "execution_count": 57,
     "metadata": {},
     "output_type": "execute_result"
    }
   ],
   "source": [
    "# importing pandas module\n",
    "import pandas as pd\n",
    "\n",
    "# importing dataset\n",
    "data = pd.read_csv('bank-full.csv', sep=';')\n",
    "\n",
    "# heading\n",
    "data.head()"
   ]
  },
  {
   "cell_type": "code",
   "execution_count": null,
   "id": "5eb416b5",
   "metadata": {},
   "outputs": [],
   "source": []
  },
  {
   "cell_type": "code",
   "execution_count": null,
   "id": "97a89093",
   "metadata": {},
   "outputs": [],
   "source": []
  },
  {
   "cell_type": "code",
   "execution_count": 58,
   "id": "57c767a2",
   "metadata": {},
   "outputs": [
    {
     "name": "stdout",
     "output_type": "stream",
     "text": [
      "<class 'pandas.core.frame.DataFrame'>\n",
      "RangeIndex: 45211 entries, 0 to 45210\n",
      "Data columns (total 17 columns):\n",
      " #   Column     Non-Null Count  Dtype \n",
      "---  ------     --------------  ----- \n",
      " 0   age        45211 non-null  int64 \n",
      " 1   job        45211 non-null  object\n",
      " 2   marital    45211 non-null  object\n",
      " 3   education  45211 non-null  object\n",
      " 4   default    45211 non-null  object\n",
      " 5   balance    45211 non-null  int64 \n",
      " 6   housing    45211 non-null  object\n",
      " 7   loan       45211 non-null  object\n",
      " 8   contact    45211 non-null  object\n",
      " 9   day        45211 non-null  int64 \n",
      " 10  month      45211 non-null  object\n",
      " 11  duration   45211 non-null  int64 \n",
      " 12  campaign   45211 non-null  int64 \n",
      " 13  pdays      45211 non-null  int64 \n",
      " 14  previous   45211 non-null  int64 \n",
      " 15  poutcome   45211 non-null  object\n",
      " 16  y          45211 non-null  object\n",
      "dtypes: int64(7), object(10)\n",
      "memory usage: 5.9+ MB\n"
     ]
    }
   ],
   "source": [
    "# printing info dataset\n",
    "data.info()"
   ]
  },
  {
   "cell_type": "code",
   "execution_count": null,
   "id": "270cbe8c",
   "metadata": {},
   "outputs": [],
   "source": []
  },
  {
   "cell_type": "code",
   "execution_count": null,
   "id": "0f2a7e1d",
   "metadata": {},
   "outputs": [],
   "source": []
  },
  {
   "cell_type": "code",
   "execution_count": 59,
   "id": "d2e685f1",
   "metadata": {},
   "outputs": [],
   "source": [
    "# importing the module\n",
    "from sklearn import preprocessing\n",
    "  \n",
    "# creating labing encoding object\n",
    "label_encoder = preprocessing.LabelEncoder()\n",
    "  \n",
    "# Encode labels in multiple columns\n",
    "data['job']= label_encoder.fit_transform(data['job'])\n",
    "data['marital']= label_encoder.fit_transform(data['marital'])\n",
    "data['education']= label_encoder.fit_transform(data['education'])\n",
    "data['default']= label_encoder.fit_transform(data['default'])\n",
    "data['housing']= label_encoder.fit_transform(data['housing'])\n",
    "data['housing']= label_encoder.fit_transform(data['housing'])\n",
    "data['loan']= label_encoder.fit_transform(data['loan'])\n",
    "data['contact']= label_encoder.fit_transform(data['contact'])\n",
    "data['month']= label_encoder.fit_transform(data['month'])\n",
    "data['poutcome']= label_encoder.fit_transform(data['poutcome'])\n",
    "data['y']= label_encoder.fit_transform(data['y'])\n"
   ]
  },
  {
   "cell_type": "code",
   "execution_count": 60,
   "id": "9c2bcba0",
   "metadata": {},
   "outputs": [
    {
     "data": {
      "text/plain": [
       "0    39922\n",
       "1     5289\n",
       "Name: y, dtype: int64"
      ]
     },
     "execution_count": 60,
     "metadata": {},
     "output_type": "execute_result"
    }
   ],
   "source": [
    "data.y.value_counts()"
   ]
  },
  {
   "cell_type": "code",
   "execution_count": 61,
   "id": "18c7ff6a",
   "metadata": {},
   "outputs": [
    {
     "data": {
      "image/png": "[encoded data removed]",
      "text/plain": [
       "<Figure size 720x360 with 1 Axes>"
      ]
     },
     "metadata": {
      "needs_background": "light"
     },
     "output_type": "display_data"
    }
   ],
   "source": [
    "# importing matplotlib\n",
    "import matplotlib.pyplot as plt\n",
    "\n",
    "# plotting\n",
    "fig = plt.figure(figsize = (10, 5))\n",
    "\n",
    "#  Bar plot\n",
    "plt.bar(['No',\"Yes\"], data.y.value_counts(), color ='green',\n",
    "        width = 0.8)\n",
    "\n",
    "# labeling\n",
    "plt.xlabel(\"Classes\")\n",
    "plt.ylabel(\"Values\")\n",
    "plt.show()"
   ]
  },
  {
   "cell_type": "code",
   "execution_count": 62,
   "id": "8a5feeb4",
   "metadata": {},
   "outputs": [],
   "source": [
    "# splitting dataset\n",
    "X = data.drop('y', axis=1)\n",
    "y = data['y']"
   ]
  },
  {
   "cell_type": "code",
   "execution_count": 63,
   "id": "56ec3dd0",
   "metadata": {},
   "outputs": [],
   "source": [
    "# importing the module\n",
    "from sklearn.model_selection import train_test_split\n",
    "\n",
    "# splitting the dataset \n",
    "X_train, X_test, y_train, y_test = train_test_split(X, y, test_size=0.30, random_state=1)"
   ]
  },
  {
   "cell_type": "code",
   "execution_count": null,
   "id": "a7d35c5b",
   "metadata": {},
   "outputs": [],
   "source": []
  },
  {
   "cell_type": "code",
   "execution_count": 84,
   "id": "3d1770e1",
   "metadata": {},
   "outputs": [],
   "source": [
    "# importing required module\n",
    "from tensorflow.keras.layers import Dense\n",
    "from tensorflow.keras.layers import InputLayer\n",
    "from tensorflow.keras import Sequential\n",
    "\n",
    "# define model\n",
    "model = Sequential()\n",
    "\n",
    "# adding input layer with 16 nodes\n",
    "model.add(InputLayer(16))\n",
    "\n",
    "# adding hidden layer with 10 nodes\n",
    "model.add(Dense(10, activation='relu', kernel_initializer='he_normal'))\n",
    "\n",
    "# adding output layer \n",
    "model.add(Dense(1, activation='sigmoid'))\n",
    "\n"
   ]
  },
  {
   "cell_type": "code",
   "execution_count": null,
   "id": "e5f9fc1a",
   "metadata": {},
   "outputs": [
    {
     "name": "stdout",
     "output_type": "stream",
     "text": [
      "Epoch 1/50\n",
      "989/989 [==============================] - 2s 2ms/step - loss: 5.0580 - accuracy: 0.8008\n",
      "Epoch 2/50\n",
      "989/989 [==============================] - 2s 2ms/step - loss: 1.2809 - accuracy: 0.8351\n",
      "Epoch 3/50\n",
      "989/989 [==============================] - 2s 2ms/step - loss: 1.0795 - accuracy: 0.8487\n",
      "Epoch 4/50\n",
      "989/989 [==============================] - 2s 2ms/step - loss: 1.1269 - accuracy: 0.8530\n",
      "Epoch 5/50\n",
      "989/989 [==============================] - 2s 2ms/step - loss: 1.0118 - accuracy: 0.8536\n",
      "Epoch 6/50\n",
      "989/989 [==============================] - 2s 2ms/step - loss: 0.7598 - accuracy: 0.8600\n",
      "Epoch 7/50\n",
      "989/989 [==============================] - 2s 2ms/step - loss: 0.7465 - accuracy: 0.8628\n",
      "Epoch 8/50\n",
      "989/989 [==============================] - 2s 2ms/step - loss: 1.0412 - accuracy: 0.8555\n",
      "Epoch 9/50\n",
      "989/989 [==============================] - 2s 2ms/step - loss: 0.9196 - accuracy: 0.8578\n",
      "Epoch 10/50\n",
      "989/989 [==============================] - 2s 2ms/step - loss: 0.9587 - accuracy: 0.8560\n",
      "Epoch 11/50\n",
      "989/989 [==============================] - 2s 2ms/step - loss: 0.7898 - accuracy: 0.8617\n",
      "Epoch 12/50\n",
      "989/989 [==============================] - 2s 2ms/step - loss: 0.9826 - accuracy: 0.8566\n",
      "Epoch 13/50\n",
      "989/989 [==============================] - 2s 2ms/step - loss: 0.8373 - accuracy: 0.8613\n",
      "Epoch 14/50\n",
      "989/989 [==============================] - 2s 2ms/step - loss: 0.7549 - accuracy: 0.8619\n",
      "Epoch 15/50\n",
      "989/989 [==============================] - 2s 2ms/step - loss: 0.9001 - accuracy: 0.8579\n",
      "Epoch 16/50\n",
      "989/989 [==============================] - 2s 2ms/step - loss: 0.7311 - accuracy: 0.8627\n",
      "Epoch 17/50\n",
      "989/989 [==============================] - 2s 2ms/step - loss: 0.7257 - accuracy: 0.8626\n",
      "Epoch 18/50\n",
      "989/989 [==============================] - 2s 2ms/step - loss: 0.8242 - accuracy: 0.8607\n",
      "Epoch 19/50\n",
      "989/989 [==============================] - 2s 2ms/step - loss: 0.8812 - accuracy: 0.8594\n",
      "Epoch 20/50\n",
      "989/989 [==============================] - 2s 2ms/step - loss: 0.8324 - accuracy: 0.8601\n",
      "Epoch 21/50\n",
      "989/989 [==============================] - 2s 2ms/step - loss: 0.7545 - accuracy: 0.8634\n",
      "Epoch 22/50\n",
      "989/989 [==============================] - 2s 2ms/step - loss: 0.8524 - accuracy: 0.8587\n",
      "Epoch 23/50\n",
      "989/989 [==============================] - 2s 2ms/step - loss: 0.6756 - accuracy: 0.8650\n",
      "Epoch 24/50\n",
      "969/989 [============================>.] - ETA: 0s - loss: 0.8712 - accuracy: 0.8564"
     ]
    }
   ],
   "source": [
    "# compile the model\n",
    "model.compile(optimizer='adam', loss='binary_crossentropy', metrics=['accuracy'])\n",
    "\n",
    "# fit the model\n",
    "model.fit(X_train, y_train, epochs=50)\n",
    "\n"
   ]
  },
  {
   "cell_type": "code",
   "execution_count": 74,
   "id": "017085bf",
   "metadata": {},
   "outputs": [
    {
     "name": "stdout",
     "output_type": "stream",
     "text": [
      "424/424 [==============================] - 1s 1ms/step\n"
     ]
    }
   ],
   "source": [
    "# making predictions\n",
    "preds = model.predict(X_test)"
   ]
  },
  {
   "cell_type": "code",
   "execution_count": null,
   "id": "e86b5f7b",
   "metadata": {},
   "outputs": [],
   "source": []
  },
  {
   "cell_type": "code",
   "execution_count": 83,
   "id": "6f09841a",
   "metadata": {},
   "outputs": [
    {
     "name": "stdout",
     "output_type": "stream",
     "text": [
      "424/424 [==============================] - 1s 2ms/step - loss: 0.3068 - accuracy: 0.8830\n",
      "Test Accuracy: 0.8829991221427917\n"
     ]
    }
   ],
   "source": [
    "# evaluate the model\n",
    "evaluate = model.evaluate(X_test, y_test)\n",
    "print('Test Accuracy:', evaluate[1])"
   ]
  },
  {
   "cell_type": "code",
   "execution_count": null,
   "id": "fac2a802",
   "metadata": {},
   "outputs": [],
   "source": []
  }
 ],
 "metadata": {
  "kernelspec": {
   "display_name": "Python 3 (ipykernel)",
   "language": "python",
   "name": "python3"
  },
  "language_info": {
   "codemirror_mode": {
    "name": "ipython",
    "version": 3
   },
   "file_extension": ".py",
   "mimetype": "text/x-python",
   "name": "python",
   "nbconvert_exporter": "python",
   "pygments_lexer": "ipython3",
   "version": "3.9.12"
  }
 },
 "nbformat": 4,
 "nbformat_minor": 5
}
