{
 "cells": [
  {
   "cell_type": "markdown",
   "id": "67e6d127",
   "metadata": {},
   "source": [
    "# Visualizing data before applying linear regression"
   ]
  },
  {
   "cell_type": "code",
   "execution_count": 34,
   "id": "f53ae696",
   "metadata": {},
   "outputs": [
    {
     "data": {
      "image/png": "[encoded data removed]",
      "text/plain": [
       "<Figure size 432x288 with 1 Axes>"
      ]
     },
     "metadata": {
      "needs_background": "light"
     },
     "output_type": "display_data"
    }
   ],
   "source": [
    "# Importing the modules\n",
    "import pandas as pd\n",
    "import matplotlib.pyplot as plt\n",
    "# Importing the dataset\n",
    "dataset = pd.read_csv('DataForLR.csv')\n",
    "#get a copy of dataset exclude last column\n",
    "Input = dataset.iloc[:, :-1].values \n",
    "#get array of dataset in column 2st\n",
    "output = dataset.iloc[:, 1].values \n",
    "# visualization part \n",
    "viz_train = plt\n",
    "# applying scttered graph\n",
    "viz_train.scatter(Input, output, color='blue')\n",
    "viz_train.title('Hours vs Score')\n",
    "# X label and Y label\n",
    "viz_train.xlabel('Hours')\n",
    "viz_train.ylabel('Score')\n",
    "# showing the graph\n",
    "viz_train.show()"
   ]
  },
  {
   "cell_type": "markdown",
   "id": "22bf1529",
   "metadata": {},
   "source": [
    "Checking the Python version"
   ]
  },
  {
   "cell_type": "code",
   "execution_count": 35,
   "id": "1c938165",
   "metadata": {},
   "outputs": [
    {
     "name": "stdout",
     "output_type": "stream",
     "text": [
      "3.6.13\n"
     ]
    }
   ],
   "source": [
    "#importing the required module\n",
    "from platform import python_version\n",
    "# printing the verison\n",
    "print(python_version())"
   ]
  },
  {
   "cell_type": "code",
   "execution_count": 36,
   "id": "97a3981d",
   "metadata": {
    "scrolled": true
   },
   "outputs": [
    {
     "name": "stdout",
     "output_type": "stream",
     "text": [
      "matplotlib:  3.3.4\n",
      "sklearn : 0.24.1\n",
      "pandas : 1.1.5\n"
     ]
    }
   ],
   "source": [
    "#importing the required modules\n",
    "import matplotlib\n",
    "import sklearn\n",
    "import pandas\n",
    "#printing the versions of installed modules\n",
    "print(\"matplotlib: \", matplotlib.__version__)\n",
    "print(\"sklearn :\", sklearn.__version__)\n",
    "print(\"pandas :\", pandas.__version__)"
   ]
  },
  {
   "cell_type": "markdown",
   "id": "5135de4f",
   "metadata": {},
   "source": [
    "# Implementation of Linear regression using Python"
   ]
  },
  {
   "cell_type": "code",
   "execution_count": 37,
   "id": "906ba9f7",
   "metadata": {},
   "outputs": [],
   "source": [
    "# Importing the required modules for linear regression using python\n",
    "import matplotlib.pyplot as plt\n",
    "import pandas as pd"
   ]
  },
  {
   "cell_type": "code",
   "execution_count": 38,
   "id": "b98bdfc3",
   "metadata": {},
   "outputs": [],
   "source": [
    "# Importing the dataset\n",
    "dataset = pd.read_csv('DataForLR.csv')\n",
    "#get a copy of dataset exclude last column\n",
    "Input = dataset.iloc[:, :-1].values \n",
    "#get array of dataset in column 2st\n",
    "output = dataset.iloc[:, 1].values \n"
   ]
  },
  {
   "cell_type": "code",
   "execution_count": 39,
   "id": "2ec401a6",
   "metadata": {
    "scrolled": true
   },
   "outputs": [
    {
     "name": "stdout",
     "output_type": "stream",
     "text": [
      "training output values: \n",
      " [63 50 86 82 82 90 90 85 74 70 74 96 85 72 81 82 96 99 83 87 66 65 93 94\n",
      " 80 84 63 70 56 80 59 75 92 75 96 90 72]\n",
      "Testing output values:\n",
      " [83 61 83 75 85 87 89 68 67 86 86 88 55 99 69 66]\n"
     ]
    }
   ],
   "source": [
    "# Splitting the dataset into the Training data set and Testing data set\n",
    "from sklearn.model_selection import train_test_split\n",
    "# 30% data for testing, random state 1\n",
    "X_train, X_test, y_train, y_test = train_test_split(Input, output, train_size=.7, random_state=1)\n",
    "#printing the splitted output values\n",
    "print(\"training output values: \\n\",y_train)\n",
    "print(\"Testing output values:\\n\",y_test)"
   ]
  },
  {
   "cell_type": "code",
   "execution_count": 40,
   "id": "1811f298",
   "metadata": {},
   "outputs": [],
   "source": [
    "# Importing linear regression form sklear\n",
    "from sklearn.linear_model import LinearRegression\n",
    "# initializing the algorithm\n",
    "regressor = LinearRegression()\n",
    "# Fitting Simple Linear Regression to the Training set\n",
    "regressor.fit(X_train, y_train)\n",
    "# Predicting the Test set results\n",
    "y_pred = regressor.predict(X_test)"
   ]
  },
  {
   "cell_type": "markdown",
   "id": "6f2deeea",
   "metadata": {},
   "source": [
    "# predicting a single value"
   ]
  },
  {
   "cell_type": "code",
   "execution_count": 42,
   "id": "d171bb5f",
   "metadata": {},
   "outputs": [
    {
     "name": "stdout",
     "output_type": "stream",
     "text": [
      "[75.58485354]\n"
     ]
    }
   ],
   "source": [
    "# Predicting single value\n",
    "Pred_Salary= regressor.predict([[3]])\n",
    "print(Pred_Salary)"
   ]
  },
  {
   "cell_type": "markdown",
   "id": "aecbb4fc",
   "metadata": {},
   "source": [
    "# Visualizing the result"
   ]
  },
  {
   "cell_type": "code",
   "execution_count": 46,
   "id": "fc721925",
   "metadata": {},
   "outputs": [
    {
     "data": {
      "image/png": "[encoded data removed]",
      "text/plain": [
       "<Figure size 432x288 with 1 Axes>"
      ]
     },
     "metadata": {
      "needs_background": "light"
     },
     "output_type": "display_data"
    }
   ],
   "source": [
    "# Visualizing the Training set results\n",
    "viz_train = plt\n",
    "# ploting the training dataset in scattered graph\n",
    "viz_train.scatter(X_train, y_train, color='red')\n",
    "# ploting the testing dataset in line line\n",
    "viz_train.plot(X_train, regressor.predict(X_train), color='blue')\n",
    "viz_train.title('Hours vs Score')\n",
    "# labeling the input and outputs\n",
    "viz_train.xlabel('Hours')\n",
    "viz_train.ylabel('Score')\n",
    "# showing the graph\n",
    "viz_train.show()"
   ]
  },
  {
   "cell_type": "markdown",
   "id": "c59ab848",
   "metadata": {},
   "source": [
    "# visualize the predicted values"
   ]
  },
  {
   "cell_type": "code",
   "execution_count": 45,
   "id": "11bfb001",
   "metadata": {},
   "outputs": [
    {
     "data": {
      "image/png": "[encoded data removed]",
      "text/plain": [
       "<Figure size 432x288 with 1 Axes>"
      ]
     },
     "metadata": {
      "needs_background": "light"
     },
     "output_type": "display_data"
    }
   ],
   "source": [
    "# Visualizing the Test set results\n",
    "viz_test = plt\n",
    "# red dot colors for actual values\n",
    "viz_test.scatter(X_test, y_test, color='red')\n",
    "# Blue line for the predicted values\n",
    "viz_test.plot(X_test, regressor.predict(X_test), color='blue')\n",
    "# defining the title\n",
    "viz_test.title('Hours vs Score')\n",
    "# x lable\n",
    "viz_test.xlabel('Hours')\n",
    "# y label\n",
    "viz_test.ylabel('Score')\n",
    "# showing the graph\n",
    "viz_test.show()"
   ]
  },
  {
   "cell_type": "code",
   "execution_count": null,
   "id": "3dfb0cee",
   "metadata": {},
   "outputs": [],
   "source": []
  }
 ],
 "metadata": {
  "kernelspec": {
   "display_name": "conda_python3",
   "language": "python",
   "name": "conda_python3"
  },
  "language_info": {
   "codemirror_mode": {
    "name": "ipython",
    "version": 3
   },
   "file_extension": ".py",
   "mimetype": "text/x-python",
   "name": "python",
   "nbconvert_exporter": "python",
   "pygments_lexer": "ipython3",
   "version": "3.6.13"
  }
 },
 "nbformat": 4,
 "nbformat_minor": 5
}
