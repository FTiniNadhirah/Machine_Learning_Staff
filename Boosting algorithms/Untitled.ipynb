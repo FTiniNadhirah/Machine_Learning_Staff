{
 "cells": [
  {
   "cell_type": "code",
   "execution_count": 11,
   "id": "ad1b530d",
   "metadata": {},
   "outputs": [
    {
     "data": {
      "text/html": [
       "<div>\n",
       "<style scoped>\n",
       "    .dataframe tbody tr th:only-of-type {\n",
       "        vertical-align: middle;\n",
       "    }\n",
       "\n",
       "    .dataframe tbody tr th {\n",
       "        vertical-align: top;\n",
       "    }\n",
       "\n",
       "    .dataframe thead th {\n",
       "        text-align: right;\n",
       "    }\n",
       "</style>\n",
       "<table border=\"1\" class=\"dataframe\">\n",
       "  <thead>\n",
       "    <tr style=\"text-align: right;\">\n",
       "      <th></th>\n",
       "      <th>0</th>\n",
       "      <th>1</th>\n",
       "      <th>2</th>\n",
       "      <th>3</th>\n",
       "      <th>4</th>\n",
       "      <th>5</th>\n",
       "      <th>6</th>\n",
       "      <th>7</th>\n",
       "      <th>8</th>\n",
       "      <th>9</th>\n",
       "      <th>10</th>\n",
       "      <th>11</th>\n",
       "      <th>12</th>\n",
       "      <th>13</th>\n",
       "      <th>14</th>\n",
       "    </tr>\n",
       "  </thead>\n",
       "  <tbody>\n",
       "    <tr>\n",
       "      <th>0</th>\n",
       "      <td>39</td>\n",
       "      <td>State-gov</td>\n",
       "      <td>77516</td>\n",
       "      <td>Bachelors</td>\n",
       "      <td>13</td>\n",
       "      <td>Never-married</td>\n",
       "      <td>Adm-clerical</td>\n",
       "      <td>Not-in-family</td>\n",
       "      <td>White</td>\n",
       "      <td>Male</td>\n",
       "      <td>2174</td>\n",
       "      <td>0</td>\n",
       "      <td>40</td>\n",
       "      <td>United-States</td>\n",
       "      <td>&lt;=50K</td>\n",
       "    </tr>\n",
       "    <tr>\n",
       "      <th>1</th>\n",
       "      <td>50</td>\n",
       "      <td>Self-emp-not-inc</td>\n",
       "      <td>83311</td>\n",
       "      <td>Bachelors</td>\n",
       "      <td>13</td>\n",
       "      <td>Married-civ-spouse</td>\n",
       "      <td>Exec-managerial</td>\n",
       "      <td>Husband</td>\n",
       "      <td>White</td>\n",
       "      <td>Male</td>\n",
       "      <td>0</td>\n",
       "      <td>0</td>\n",
       "      <td>13</td>\n",
       "      <td>United-States</td>\n",
       "      <td>&lt;=50K</td>\n",
       "    </tr>\n",
       "    <tr>\n",
       "      <th>2</th>\n",
       "      <td>38</td>\n",
       "      <td>Private</td>\n",
       "      <td>215646</td>\n",
       "      <td>HS-grad</td>\n",
       "      <td>9</td>\n",
       "      <td>Divorced</td>\n",
       "      <td>Handlers-cleaners</td>\n",
       "      <td>Not-in-family</td>\n",
       "      <td>White</td>\n",
       "      <td>Male</td>\n",
       "      <td>0</td>\n",
       "      <td>0</td>\n",
       "      <td>40</td>\n",
       "      <td>United-States</td>\n",
       "      <td>&lt;=50K</td>\n",
       "    </tr>\n",
       "    <tr>\n",
       "      <th>3</th>\n",
       "      <td>53</td>\n",
       "      <td>Private</td>\n",
       "      <td>234721</td>\n",
       "      <td>11th</td>\n",
       "      <td>7</td>\n",
       "      <td>Married-civ-spouse</td>\n",
       "      <td>Handlers-cleaners</td>\n",
       "      <td>Husband</td>\n",
       "      <td>Black</td>\n",
       "      <td>Male</td>\n",
       "      <td>0</td>\n",
       "      <td>0</td>\n",
       "      <td>40</td>\n",
       "      <td>United-States</td>\n",
       "      <td>&lt;=50K</td>\n",
       "    </tr>\n",
       "    <tr>\n",
       "      <th>4</th>\n",
       "      <td>28</td>\n",
       "      <td>Private</td>\n",
       "      <td>338409</td>\n",
       "      <td>Bachelors</td>\n",
       "      <td>13</td>\n",
       "      <td>Married-civ-spouse</td>\n",
       "      <td>Prof-specialty</td>\n",
       "      <td>Wife</td>\n",
       "      <td>Black</td>\n",
       "      <td>Female</td>\n",
       "      <td>0</td>\n",
       "      <td>0</td>\n",
       "      <td>40</td>\n",
       "      <td>Cuba</td>\n",
       "      <td>&lt;=50K</td>\n",
       "    </tr>\n",
       "  </tbody>\n",
       "</table>\n",
       "</div>"
      ],
      "text/plain": [
       "   0                  1       2           3   4                    5   \\\n",
       "0  39          State-gov   77516   Bachelors  13        Never-married   \n",
       "1  50   Self-emp-not-inc   83311   Bachelors  13   Married-civ-spouse   \n",
       "2  38            Private  215646     HS-grad   9             Divorced   \n",
       "3  53            Private  234721        11th   7   Married-civ-spouse   \n",
       "4  28            Private  338409   Bachelors  13   Married-civ-spouse   \n",
       "\n",
       "                   6               7       8        9     10  11  12  \\\n",
       "0        Adm-clerical   Not-in-family   White     Male  2174   0  40   \n",
       "1     Exec-managerial         Husband   White     Male     0   0  13   \n",
       "2   Handlers-cleaners   Not-in-family   White     Male     0   0  40   \n",
       "3   Handlers-cleaners         Husband   Black     Male     0   0  40   \n",
       "4      Prof-specialty            Wife   Black   Female     0   0  40   \n",
       "\n",
       "               13      14  \n",
       "0   United-States   <=50K  \n",
       "1   United-States   <=50K  \n",
       "2   United-States   <=50K  \n",
       "3   United-States   <=50K  \n",
       "4            Cuba   <=50K  "
      ]
     },
     "execution_count": 11,
     "metadata": {},
     "output_type": "execute_result"
    }
   ],
   "source": [
    "# importing the pandas module\n",
    "import pandas as pd\n",
    "\n",
    "# importing the dataset\n",
    "dataset = pd.read_csv('adult.data', header=None)\n",
    "\n",
    "# printing rows\n",
    "dataset.head()"
   ]
  },
  {
   "cell_type": "code",
   "execution_count": 21,
   "id": "19bb3724",
   "metadata": {},
   "outputs": [],
   "source": [
    "# importing the module\n",
    "from sklearn import preprocessing \n",
    "\n",
    "# label encoding the dataset\n",
    "dataset =dataset.apply(preprocessing.LabelEncoder().fit_transform)\n"
   ]
  },
  {
   "cell_type": "code",
   "execution_count": 22,
   "id": "835fe41f",
   "metadata": {},
   "outputs": [
    {
     "data": {
      "text/plain": [
       "0     0\n",
       "1     0\n",
       "2     0\n",
       "3     0\n",
       "4     0\n",
       "5     0\n",
       "6     0\n",
       "7     0\n",
       "8     0\n",
       "9     0\n",
       "10    0\n",
       "11    0\n",
       "12    0\n",
       "13    0\n",
       "14    0\n",
       "dtype: int64"
      ]
     },
     "execution_count": 22,
     "metadata": {},
     "output_type": "execute_result"
    }
   ],
   "source": [
    "dataset.isnull().sum()"
   ]
  },
  {
   "cell_type": "code",
   "execution_count": 23,
   "id": "7bc4f009",
   "metadata": {},
   "outputs": [],
   "source": [
    "#Training and testing data\n",
    "from sklearn.model_selection import train_test_split\n",
    "\n",
    "# storing the input values in the X variable\n",
    "x_data = dataset.iloc[:,[0,13]].values\n",
    "\n",
    "# storing all the ouputs in y variable\n",
    "y_data = dataset.iloc[:,14].values\n",
    "\n",
    "# splitting dataset\n",
    "x_train, x_test, y_train, y_test = train_test_split(x_data, y_data, test_size = 0.3, random_state = 0)\n"
   ]
  },
  {
   "cell_type": "code",
   "execution_count": 24,
   "id": "6e9839db",
   "metadata": {},
   "outputs": [
    {
     "data": {
      "text/plain": [
       "array([0, 0, 0, ..., 0, 0, 1])"
      ]
     },
     "execution_count": 24,
     "metadata": {},
     "output_type": "execute_result"
    }
   ],
   "source": [
    "y_data"
   ]
  },
  {
   "cell_type": "code",
   "execution_count": null,
   "id": "e25f24c6",
   "metadata": {},
   "outputs": [],
   "source": []
  },
  {
   "cell_type": "code",
   "execution_count": 121,
   "id": "8b1a2ce1",
   "metadata": {},
   "outputs": [
    {
     "name": "stdout",
     "output_type": "stream",
     "text": [
      "The training time is :  0:00:00.523432\n"
     ]
    }
   ],
   "source": [
    "# importing the adaptive boosting algorithm\n",
    "from sklearn.ensemble import AdaBoostClassifier\n",
    "\n",
    "# importing date and time modue\n",
    "from datetime import datetime as dt\n",
    "\n",
    "# starting the time\n",
    "start = dt.now()\n",
    "\n",
    "# starting the adaptive boosting algorithm\n",
    "Ada_clf = AdaBoostClassifier(n_estimators=100)\n",
    "\n",
    "# training the mode\n",
    "Ada_clf.fit(x_train, y_train)\n",
    "\n",
    "# Ending the time after training\n",
    "running_secs = (dt.now() - start)\n",
    "\n",
    "# printing the training time\n",
    "print(\"The training time is : \", running_secs)\n"
   ]
  },
  {
   "cell_type": "code",
   "execution_count": 122,
   "id": "f151eae1",
   "metadata": {},
   "outputs": [
    {
     "data": {
      "text/plain": [
       "0.7582147609786057"
      ]
     },
     "execution_count": 122,
     "metadata": {},
     "output_type": "execute_result"
    }
   ],
   "source": [
    "# testing the adaptive boosting model\n",
    "ada_pred = Ada_clf.predict(x_test)\n",
    "\n",
    "# importing accuracy score\n",
    "from sklearn.metrics import accuracy_score\n",
    "\n",
    "# finding the accuracy\n",
    "accuracy_score(y_test,ada_pred)"
   ]
  },
  {
   "cell_type": "code",
   "execution_count": null,
   "id": "4c85c097",
   "metadata": {},
   "outputs": [],
   "source": []
  },
  {
   "cell_type": "code",
   "execution_count": null,
   "id": "586c5048",
   "metadata": {},
   "outputs": [],
   "source": []
  },
  {
   "cell_type": "code",
   "execution_count": 126,
   "id": "1a5aff61",
   "metadata": {},
   "outputs": [
    {
     "name": "stdout",
     "output_type": "stream",
     "text": [
      "The training time is :  0:00:00.473071\n"
     ]
    }
   ],
   "source": [
    "# importing the required module\n",
    "from sklearn.ensemble import GradientBoostingClassifier\n",
    "\n",
    "# starting the time\n",
    "start = dt.now()\n",
    "\n",
    "# training with default values\n",
    "GB_classifier=GradientBoostingClassifier(n_estimators=100)\n",
    "\n",
    "# Training the mode\n",
    "GB_classifier.fit(x_train,y_train)\n",
    "\n",
    "# Ending the time after training\n",
    "running_secs = (dt.now() - start)\n",
    "\n",
    "# printing the training time\n",
    "print(\"The training time is : \", running_secs)"
   ]
  },
  {
   "cell_type": "code",
   "execution_count": 115,
   "id": "58404f10",
   "metadata": {},
   "outputs": [
    {
     "data": {
      "text/plain": [
       "0.7581123963558194"
      ]
     },
     "execution_count": 115,
     "metadata": {},
     "output_type": "execute_result"
    }
   ],
   "source": [
    "# testing the adaptive boosting model\n",
    "gbm_pred = GB_classifier.predict(x_test)\n",
    "\n",
    "# finding the accuracy\n",
    "accuracy_score(y_test,gbm_pred)"
   ]
  },
  {
   "cell_type": "code",
   "execution_count": 116,
   "id": "5dc12bb1",
   "metadata": {},
   "outputs": [],
   "source": [
    "# %pip install xgboost"
   ]
  },
  {
   "cell_type": "code",
   "execution_count": null,
   "id": "18341bc8",
   "metadata": {},
   "outputs": [],
   "source": []
  },
  {
   "cell_type": "code",
   "execution_count": 130,
   "id": "7a6b623e",
   "metadata": {},
   "outputs": [
    {
     "name": "stdout",
     "output_type": "stream",
     "text": [
      "[21:57:02] WARNING: ../src/learner.cc:627: \n",
      "Parameters: { \"iterations\" } might not be used.\n",
      "\n",
      "  This could be a false alarm, with some parameters getting used by language bindings but\n",
      "  then being mistakenly passed down to XGBoost core, or some parameter actually being used\n",
      "  but getting flagged wrongly here. Please open an issue if you find any such cases.\n",
      "\n",
      "\n",
      "The training time is :  0:00:00.554319\n"
     ]
    }
   ],
   "source": [
    "# importing xgboost\n",
    "import xgboost as xgb\n",
    "\n",
    "# starting the time\n",
    "start = dt.now()\n",
    "\n",
    "\n",
    "# Default parameters\n",
    "xg_clf = xgb.XGBClassifier(iterations=100)\n",
    "\n",
    "# training the model\n",
    "xg_clf.fit(x_train,y_train)\n",
    "\n",
    "# Ending the time after training\n",
    "running_secs = (dt.now() - start)\n",
    "\n",
    "# printing the training time\n",
    "print(\"The training time is : \", running_secs)"
   ]
  },
  {
   "cell_type": "code",
   "execution_count": 131,
   "id": "9dad34e4",
   "metadata": {},
   "outputs": [
    {
     "data": {
      "text/plain": [
       "0.7567816562595967"
      ]
     },
     "execution_count": 131,
     "metadata": {},
     "output_type": "execute_result"
    }
   ],
   "source": [
    "# testing the adaptive boosting model\n",
    "xg_pred = xg_clf.predict(x_test)\n",
    "\n",
    "# finding the accuracy\n",
    "accuracy_score(y_test,xg_pred)"
   ]
  },
  {
   "cell_type": "code",
   "execution_count": 133,
   "id": "e95da0dc",
   "metadata": {},
   "outputs": [
    {
     "name": "stdout",
     "output_type": "stream",
     "text": [
      "The training time is :  0:00:00.114123\n"
     ]
    }
   ],
   "source": [
    "# importing the lightgbm model\n",
    "import lightgbm as lgbm\n",
    "\n",
    "\n",
    "# starting the time\n",
    "start = dt.now()\n",
    "\n",
    "\n",
    "# Default parameters\n",
    "lgbm_clf = lgbm.LGBMClassifier(iterations=100)\n",
    "\n",
    "# training the model\n",
    "lgbm_clf.fit(x_train,y_train)\n",
    "\n",
    "# Ending the time after training\n",
    "running_secs = (dt.now() - start)\n",
    "\n",
    "# printing the training time\n",
    "print(\"The training time is : \", running_secs)\n"
   ]
  },
  {
   "cell_type": "code",
   "execution_count": 134,
   "id": "fd8cd54a",
   "metadata": {},
   "outputs": [
    {
     "data": {
      "text/plain": [
       "0.756884020882383"
      ]
     },
     "execution_count": 134,
     "metadata": {},
     "output_type": "execute_result"
    }
   ],
   "source": [
    "# testing the adaptive boosting model\n",
    "lgbm_pred = lgbm_clf.predict(x_test)\n",
    "\n",
    "# finding the accuracy\n",
    "accuracy_score(y_test,lgbm_pred)"
   ]
  },
  {
   "cell_type": "code",
   "execution_count": 135,
   "id": "7322a4da",
   "metadata": {},
   "outputs": [],
   "source": [
    "# %pip install catboost"
   ]
  },
  {
   "cell_type": "code",
   "execution_count": 138,
   "id": "a3ba5a57",
   "metadata": {},
   "outputs": [
    {
     "name": "stdout",
     "output_type": "stream",
     "text": [
      "Learning rate set to 0.323376\n",
      "0:\tlearn: 0.6019855\ttotal: 3.72ms\tremaining: 368ms\n",
      "1:\tlearn: 0.5543463\ttotal: 7.62ms\tremaining: 373ms\n",
      "2:\tlearn: 0.5281114\ttotal: 11.8ms\tremaining: 380ms\n",
      "3:\tlearn: 0.5122479\ttotal: 15.8ms\tremaining: 379ms\n",
      "4:\tlearn: 0.5021368\ttotal: 19.7ms\tremaining: 374ms\n",
      "5:\tlearn: 0.4960211\ttotal: 23.4ms\tremaining: 367ms\n",
      "6:\tlearn: 0.4924508\ttotal: 26.3ms\tremaining: 349ms\n",
      "7:\tlearn: 0.4893169\ttotal: 28.7ms\tremaining: 330ms\n",
      "8:\tlearn: 0.4873519\ttotal: 30.9ms\tremaining: 312ms\n",
      "9:\tlearn: 0.4863850\ttotal: 32.8ms\tremaining: 295ms\n",
      "10:\tlearn: 0.4850387\ttotal: 34.8ms\tremaining: 282ms\n",
      "11:\tlearn: 0.4841874\ttotal: 36.5ms\tremaining: 268ms\n",
      "12:\tlearn: 0.4833697\ttotal: 38.2ms\tremaining: 256ms\n",
      "13:\tlearn: 0.4829562\ttotal: 39.9ms\tremaining: 245ms\n",
      "14:\tlearn: 0.4826000\ttotal: 41.4ms\tremaining: 235ms\n",
      "15:\tlearn: 0.4824370\ttotal: 42.9ms\tremaining: 225ms\n",
      "16:\tlearn: 0.4822544\ttotal: 44.4ms\tremaining: 217ms\n",
      "17:\tlearn: 0.4821150\ttotal: 45.8ms\tremaining: 209ms\n",
      "18:\tlearn: 0.4815775\ttotal: 47.2ms\tremaining: 201ms\n",
      "19:\tlearn: 0.4813335\ttotal: 48.6ms\tremaining: 194ms\n",
      "20:\tlearn: 0.4811858\ttotal: 49.9ms\tremaining: 188ms\n",
      "21:\tlearn: 0.4809485\ttotal: 51.4ms\tremaining: 182ms\n",
      "22:\tlearn: 0.4807897\ttotal: 52.7ms\tremaining: 176ms\n",
      "23:\tlearn: 0.4806785\ttotal: 54.1ms\tremaining: 171ms\n",
      "24:\tlearn: 0.4805429\ttotal: 55.4ms\tremaining: 166ms\n",
      "25:\tlearn: 0.4804800\ttotal: 58.5ms\tremaining: 167ms\n",
      "26:\tlearn: 0.4804207\ttotal: 59.4ms\tremaining: 161ms\n",
      "27:\tlearn: 0.4803745\ttotal: 60.7ms\tremaining: 156ms\n",
      "28:\tlearn: 0.4802792\ttotal: 62ms\tremaining: 152ms\n",
      "29:\tlearn: 0.4801590\ttotal: 63.4ms\tremaining: 148ms\n",
      "30:\tlearn: 0.4799143\ttotal: 64.8ms\tremaining: 144ms\n",
      "31:\tlearn: 0.4797794\ttotal: 66.3ms\tremaining: 141ms\n",
      "32:\tlearn: 0.4795572\ttotal: 67.7ms\tremaining: 137ms\n",
      "33:\tlearn: 0.4793959\ttotal: 69.1ms\tremaining: 134ms\n",
      "34:\tlearn: 0.4793075\ttotal: 70.5ms\tremaining: 131ms\n",
      "35:\tlearn: 0.4792168\ttotal: 71.8ms\tremaining: 128ms\n",
      "36:\tlearn: 0.4791709\ttotal: 73.2ms\tremaining: 125ms\n",
      "37:\tlearn: 0.4790243\ttotal: 74.7ms\tremaining: 122ms\n",
      "38:\tlearn: 0.4787557\ttotal: 76.4ms\tremaining: 119ms\n",
      "39:\tlearn: 0.4786562\ttotal: 77.8ms\tremaining: 117ms\n",
      "40:\tlearn: 0.4785570\ttotal: 79.2ms\tremaining: 114ms\n",
      "41:\tlearn: 0.4784787\ttotal: 80.6ms\tremaining: 111ms\n",
      "42:\tlearn: 0.4784172\ttotal: 82ms\tremaining: 109ms\n",
      "43:\tlearn: 0.4783012\ttotal: 83.4ms\tremaining: 106ms\n",
      "44:\tlearn: 0.4782479\ttotal: 84.8ms\tremaining: 104ms\n",
      "45:\tlearn: 0.4781963\ttotal: 86.2ms\tremaining: 101ms\n",
      "46:\tlearn: 0.4780952\ttotal: 87.6ms\tremaining: 98.7ms\n",
      "47:\tlearn: 0.4780209\ttotal: 88.9ms\tremaining: 96.4ms\n",
      "48:\tlearn: 0.4778640\ttotal: 90.4ms\tremaining: 94ms\n",
      "49:\tlearn: 0.4777631\ttotal: 91.7ms\tremaining: 91.7ms\n",
      "50:\tlearn: 0.4776571\ttotal: 93.2ms\tremaining: 89.5ms\n",
      "51:\tlearn: 0.4775704\ttotal: 94.5ms\tremaining: 87.3ms\n",
      "52:\tlearn: 0.4773556\ttotal: 95.8ms\tremaining: 85ms\n",
      "53:\tlearn: 0.4773076\ttotal: 97.1ms\tremaining: 82.7ms\n",
      "54:\tlearn: 0.4772828\ttotal: 98.4ms\tremaining: 80.5ms\n",
      "55:\tlearn: 0.4771841\ttotal: 99.7ms\tremaining: 78.3ms\n",
      "56:\tlearn: 0.4771140\ttotal: 101ms\tremaining: 76.2ms\n",
      "57:\tlearn: 0.4770432\ttotal: 102ms\tremaining: 74.1ms\n",
      "58:\tlearn: 0.4770250\ttotal: 104ms\tremaining: 72.1ms\n",
      "59:\tlearn: 0.4769426\ttotal: 105ms\tremaining: 70ms\n",
      "60:\tlearn: 0.4769273\ttotal: 106ms\tremaining: 68ms\n",
      "61:\tlearn: 0.4769078\ttotal: 108ms\tremaining: 66ms\n",
      "62:\tlearn: 0.4768863\ttotal: 109ms\tremaining: 64ms\n",
      "63:\tlearn: 0.4768215\ttotal: 110ms\tremaining: 62.1ms\n",
      "64:\tlearn: 0.4767868\ttotal: 112ms\tremaining: 60.1ms\n",
      "65:\tlearn: 0.4767729\ttotal: 113ms\tremaining: 58.2ms\n",
      "66:\tlearn: 0.4767124\ttotal: 114ms\tremaining: 56.3ms\n",
      "67:\tlearn: 0.4766210\ttotal: 116ms\tremaining: 54.5ms\n",
      "68:\tlearn: 0.4765781\ttotal: 117ms\tremaining: 52.6ms\n",
      "69:\tlearn: 0.4765500\ttotal: 118ms\tremaining: 50.7ms\n",
      "70:\tlearn: 0.4765006\ttotal: 120ms\tremaining: 48.9ms\n",
      "71:\tlearn: 0.4764347\ttotal: 121ms\tremaining: 47.1ms\n",
      "72:\tlearn: 0.4763729\ttotal: 122ms\tremaining: 45.3ms\n",
      "73:\tlearn: 0.4763128\ttotal: 124ms\tremaining: 43.5ms\n",
      "74:\tlearn: 0.4762965\ttotal: 125ms\tremaining: 41.7ms\n",
      "75:\tlearn: 0.4761509\ttotal: 126ms\tremaining: 39.9ms\n",
      "76:\tlearn: 0.4761318\ttotal: 128ms\tremaining: 38.1ms\n",
      "77:\tlearn: 0.4760051\ttotal: 129ms\tremaining: 36.4ms\n",
      "78:\tlearn: 0.4759528\ttotal: 130ms\tremaining: 34.7ms\n",
      "79:\tlearn: 0.4759153\ttotal: 132ms\tremaining: 32.9ms\n",
      "80:\tlearn: 0.4758885\ttotal: 133ms\tremaining: 31.2ms\n",
      "81:\tlearn: 0.4758492\ttotal: 134ms\tremaining: 29.5ms\n",
      "82:\tlearn: 0.4758310\ttotal: 136ms\tremaining: 27.8ms\n",
      "83:\tlearn: 0.4758158\ttotal: 137ms\tremaining: 26.1ms\n",
      "84:\tlearn: 0.4757783\ttotal: 139ms\tremaining: 24.5ms\n",
      "85:\tlearn: 0.4757304\ttotal: 140ms\tremaining: 22.8ms\n",
      "86:\tlearn: 0.4757131\ttotal: 141ms\tremaining: 21.1ms\n",
      "87:\tlearn: 0.4756946\ttotal: 143ms\tremaining: 19.5ms\n",
      "88:\tlearn: 0.4756061\ttotal: 144ms\tremaining: 17.8ms\n",
      "89:\tlearn: 0.4755334\ttotal: 146ms\tremaining: 16.2ms\n",
      "90:\tlearn: 0.4754754\ttotal: 147ms\tremaining: 14.5ms\n",
      "91:\tlearn: 0.4754552\ttotal: 148ms\tremaining: 12.9ms\n",
      "92:\tlearn: 0.4754054\ttotal: 150ms\tremaining: 11.3ms\n",
      "93:\tlearn: 0.4753911\ttotal: 151ms\tremaining: 9.65ms\n",
      "94:\tlearn: 0.4753257\ttotal: 153ms\tremaining: 8.03ms\n",
      "95:\tlearn: 0.4752918\ttotal: 154ms\tremaining: 6.41ms\n",
      "96:\tlearn: 0.4752040\ttotal: 155ms\tremaining: 4.8ms\n",
      "97:\tlearn: 0.4751910\ttotal: 156ms\tremaining: 3.19ms\n",
      "98:\tlearn: 0.4751240\ttotal: 158ms\tremaining: 1.59ms\n",
      "99:\tlearn: 0.4750993\ttotal: 159ms\tremaining: 0us\n",
      "The training time is :  0:00:00.351296\n"
     ]
    }
   ],
   "source": [
    "# importing the classifier\n",
    "from catboost import CatBoostClassifier\n",
    "\n",
    "# starting the time\n",
    "start = dt.now()\n",
    "\n",
    "\n",
    "# Default parameters\n",
    "cat_clf = CatBoostClassifier(iterations=100)\n",
    "\n",
    "# training the model\n",
    "cat_clf.fit(x_train,y_train)\n",
    "\n",
    "# Ending the time after training\n",
    "running_secs = (dt.now() - start)\n",
    "\n",
    "# printing the training time\n",
    "print(\"The training time is : \", running_secs)\n"
   ]
  },
  {
   "cell_type": "code",
   "execution_count": 139,
   "id": "0a0d9e2b",
   "metadata": {},
   "outputs": [
    {
     "data": {
      "text/plain": [
       "0.757702937864674"
      ]
     },
     "execution_count": 139,
     "metadata": {},
     "output_type": "execute_result"
    }
   ],
   "source": [
    "# testing the adaptive boosting model\n",
    "cat_pred = cat_clf.predict(x_test)\n",
    "\n",
    "# finding the accuracy\n",
    "accuracy_score(y_test,cat_pred)"
   ]
  },
  {
   "cell_type": "code",
   "execution_count": null,
   "id": "15c15fde",
   "metadata": {},
   "outputs": [],
   "source": []
  }
 ],
 "metadata": {
  "kernelspec": {
   "display_name": "Python 3 (ipykernel)",
   "language": "python",
   "name": "python3"
  },
  "language_info": {
   "codemirror_mode": {
    "name": "ipython",
    "version": 3
   },
   "file_extension": ".py",
   "mimetype": "text/x-python",
   "name": "python",
   "nbconvert_exporter": "python",
   "pygments_lexer": "ipython3",
   "version": "3.9.12"
  }
 },
 "nbformat": 4,
 "nbformat_minor": 5
}
