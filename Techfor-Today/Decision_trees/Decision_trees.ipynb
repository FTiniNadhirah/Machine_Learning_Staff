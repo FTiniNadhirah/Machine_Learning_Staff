{
 "cells": [
  {
   "cell_type": "markdown",
   "id": "5015bbba",
   "metadata": {},
   "source": [
    "### Decision trees for regression problem"
   ]
  },
  {
   "cell_type": "code",
   "execution_count": 31,
   "id": "d0dfa514",
   "metadata": {},
   "outputs": [
    {
     "data": {
      "text/html": [
       "<div>\n",
       "<style scoped>\n",
       "    .dataframe tbody tr th:only-of-type {\n",
       "        vertical-align: middle;\n",
       "    }\n",
       "\n",
       "    .dataframe tbody tr th {\n",
       "        vertical-align: top;\n",
       "    }\n",
       "\n",
       "    .dataframe thead th {\n",
       "        text-align: right;\n",
       "    }\n",
       "</style>\n",
       "<table border=\"1\" class=\"dataframe\">\n",
       "  <thead>\n",
       "    <tr style=\"text-align: right;\">\n",
       "      <th></th>\n",
       "      <th>number_of_rooms</th>\n",
       "      <th>floor</th>\n",
       "      <th>area</th>\n",
       "      <th>latitude</th>\n",
       "      <th>longitude</th>\n",
       "      <th>price</th>\n",
       "    </tr>\n",
       "  </thead>\n",
       "  <tbody>\n",
       "    <tr>\n",
       "      <th>0</th>\n",
       "      <td>1</td>\n",
       "      <td>1</td>\n",
       "      <td>58.0</td>\n",
       "      <td>38.585834</td>\n",
       "      <td>68.793715</td>\n",
       "      <td>330000</td>\n",
       "    </tr>\n",
       "    <tr>\n",
       "      <th>1</th>\n",
       "      <td>1</td>\n",
       "      <td>14</td>\n",
       "      <td>68.0</td>\n",
       "      <td>38.522254</td>\n",
       "      <td>68.749918</td>\n",
       "      <td>340000</td>\n",
       "    </tr>\n",
       "    <tr>\n",
       "      <th>2</th>\n",
       "      <td>3</td>\n",
       "      <td>8</td>\n",
       "      <td>50.0</td>\n",
       "      <td>NaN</td>\n",
       "      <td>NaN</td>\n",
       "      <td>700000</td>\n",
       "    </tr>\n",
       "    <tr>\n",
       "      <th>3</th>\n",
       "      <td>3</td>\n",
       "      <td>14</td>\n",
       "      <td>84.0</td>\n",
       "      <td>38.520835</td>\n",
       "      <td>68.747908</td>\n",
       "      <td>700000</td>\n",
       "    </tr>\n",
       "    <tr>\n",
       "      <th>4</th>\n",
       "      <td>3</td>\n",
       "      <td>3</td>\n",
       "      <td>83.0</td>\n",
       "      <td>38.564374</td>\n",
       "      <td>68.739419</td>\n",
       "      <td>415000</td>\n",
       "    </tr>\n",
       "  </tbody>\n",
       "</table>\n",
       "</div>"
      ],
      "text/plain": [
       "   number_of_rooms  floor  area   latitude  longitude   price\n",
       "0                1      1  58.0  38.585834  68.793715  330000\n",
       "1                1     14  68.0  38.522254  68.749918  340000\n",
       "2                3      8  50.0        NaN        NaN  700000\n",
       "3                3     14  84.0  38.520835  68.747908  700000\n",
       "4                3      3  83.0  38.564374  68.739419  415000"
      ]
     },
     "execution_count": 31,
     "metadata": {},
     "output_type": "execute_result"
    }
   ],
   "source": [
    "# importing the module\n",
    "import pandas as pd\n",
    "\n",
    "# importing dataset\n",
    "dataset = pd.read_csv('house.csv')\n",
    "\n",
    "# printing rows\n",
    "dataset.head()"
   ]
  },
  {
   "cell_type": "code",
   "execution_count": 32,
   "id": "db6594e3",
   "metadata": {},
   "outputs": [],
   "source": [
    "# removing null values\n",
    "dataset.dropna(axis=0, inplace=True)"
   ]
  },
  {
   "cell_type": "code",
   "execution_count": 33,
   "id": "cd13ab4c",
   "metadata": {},
   "outputs": [
    {
     "data": {
      "text/plain": [
       "number_of_rooms    0\n",
       "floor              0\n",
       "area               0\n",
       "latitude           0\n",
       "longitude          0\n",
       "price              0\n",
       "dtype: int64"
      ]
     },
     "execution_count": 33,
     "metadata": {},
     "output_type": "execute_result"
    }
   ],
   "source": [
    "# checking for null values\n",
    "dataset.isnull().sum()"
   ]
  },
  {
   "cell_type": "code",
   "execution_count": 34,
   "id": "5eb46352",
   "metadata": {},
   "outputs": [
    {
     "data": {
      "image/png": "[encoded data removed]",
      "text/plain": [
       "<Figure size 432x288 with 2 Axes>"
      ]
     },
     "metadata": {
      "needs_background": "light"
     },
     "output_type": "display_data"
    }
   ],
   "source": [
    "# importing the required modules\n",
    "import seaborn as sns\n",
    "import matplotlib.pyplot as plt\n",
    "\n",
    "\n",
    "# finding the correlation\n",
    "correlation_mat = dataset.corr()\n",
    "\n",
    "\n",
    "# visualizing the matrix\n",
    "sns.heatmap(correlation_mat, annot = True)\n",
    "plt.show()"
   ]
  },
  {
   "cell_type": "code",
   "execution_count": 35,
   "id": "84608625",
   "metadata": {},
   "outputs": [],
   "source": [
    "# dividing into input and output\n",
    "Input = dataset.drop('price', axis=1)\n",
    "output = dataset['price']\n"
   ]
  },
  {
   "cell_type": "code",
   "execution_count": 38,
   "id": "df7072a7",
   "metadata": {},
   "outputs": [],
   "source": [
    "# splitting the dataaset into Training and Testing Data \n",
    "from sklearn.model_selection import train_test_split\n",
    "\n",
    "# test size if 25%\n",
    "X_train, X_test, y_train, y_test = train_test_split(Input,output,test_size=0.25)"
   ]
  },
  {
   "cell_type": "code",
   "execution_count": null,
   "id": "e800720e",
   "metadata": {},
   "outputs": [],
   "source": []
  }
 ],
 "metadata": {
  "kernelspec": {
   "display_name": "Python 3 (ipykernel)",
   "language": "python",
   "name": "python3"
  },
  "language_info": {
   "codemirror_mode": {
    "name": "ipython",
    "version": 3
   },
   "file_extension": ".py",
   "mimetype": "text/x-python",
   "name": "python",
   "nbconvert_exporter": "python",
   "pygments_lexer": "ipython3",
   "version": "3.9.12"
  }
 },
 "nbformat": 4,
 "nbformat_minor": 5
}
