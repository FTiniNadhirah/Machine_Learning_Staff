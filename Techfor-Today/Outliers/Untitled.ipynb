{
 "cells": [
  {
   "cell_type": "code",
   "execution_count": 2,
   "id": "96de18f5",
   "metadata": {},
   "outputs": [],
   "source": [
    "import pandas as pd\n",
    "\n",
    "# importing dataset \n",
    "data = pd.read_csv('house.csv')\n",
    "\n",
    "# dropping the null values\n",
    "data.dropna(inplace=True)"
   ]
  },
  {
   "cell_type": "code",
   "execution_count": 6,
   "id": "a9eea6fc",
   "metadata": {},
   "outputs": [
    {
     "data": {
      "text/plain": [
       "<AxesSubplot:>"
      ]
     },
     "execution_count": 6,
     "metadata": {},
     "output_type": "execute_result"
    },
    {
     "data": {
      "image/png": "[encoded data removed]",
      "text/plain": [
       "<Figure size 432x288 with 1 Axes>"
      ]
     },
     "metadata": {
      "needs_background": "light"
     },
     "output_type": "display_data"
    }
   ],
   "source": [
    "# importing the module\n",
    "import seaborn as sns\n",
    "\n",
    "\n",
    "# plot plot to visualize outliers\n",
    "sns.boxplot( data=data['price'])"
   ]
  },
  {
   "cell_type": "code",
   "execution_count": 7,
   "id": "927551a1",
   "metadata": {},
   "outputs": [
    {
     "data": {
      "image/png": "[encoded data removed]",
      "text/plain": [
       "<Figure size 432x288 with 1 Axes>"
      ]
     },
     "metadata": {},
     "output_type": "display_data"
    }
   ],
   "source": [
    "# setting the theme of the violin plot\n",
    "sns.set_theme(style=\"whitegrid\")\n",
    "\n",
    "# plotting the violin plot\n",
    "ax = sns.violinplot(x=data['price'])"
   ]
  },
  {
   "cell_type": "code",
   "execution_count": 11,
   "id": "0b1a2170",
   "metadata": {},
   "outputs": [
    {
     "data": {
      "text/plain": [
       "[<matplotlib.lines.Line2D at 0x7f0924457fa0>]"
      ]
     },
     "execution_count": 11,
     "metadata": {},
     "output_type": "execute_result"
    },
    {
     "data": {
      "image/png": "[encoded data removed]",
      "text/plain": [
       "<Figure size 432x288 with 1 Axes>"
      ]
     },
     "metadata": {},
     "output_type": "display_data"
    }
   ],
   "source": [
    "# importing the module\n",
    "import matplotlib.pyplot as plt\n",
    "\n",
    "# plotting scattered plot\n",
    "plt.plot([i for i in range(len(data.price))], data.price , c ='m')"
   ]
  },
  {
   "cell_type": "code",
   "execution_count": 40,
   "id": "d06bc54f",
   "metadata": {},
   "outputs": [
    {
     "data": {
      "text/html": [
       "<div>\n",
       "<style scoped>\n",
       "    .dataframe tbody tr th:only-of-type {\n",
       "        vertical-align: middle;\n",
       "    }\n",
       "\n",
       "    .dataframe tbody tr th {\n",
       "        vertical-align: top;\n",
       "    }\n",
       "\n",
       "    .dataframe thead th {\n",
       "        text-align: right;\n",
       "    }\n",
       "</style>\n",
       "<table border=\"1\" class=\"dataframe\">\n",
       "  <thead>\n",
       "    <tr style=\"text-align: right;\">\n",
       "      <th></th>\n",
       "      <th>input</th>\n",
       "      <th>output</th>\n",
       "    </tr>\n",
       "  </thead>\n",
       "  <tbody>\n",
       "    <tr>\n",
       "      <th>0</th>\n",
       "      <td>10</td>\n",
       "      <td>20</td>\n",
       "    </tr>\n",
       "    <tr>\n",
       "      <th>1</th>\n",
       "      <td>20</td>\n",
       "      <td>30</td>\n",
       "    </tr>\n",
       "    <tr>\n",
       "      <th>2</th>\n",
       "      <td>30</td>\n",
       "      <td>40</td>\n",
       "    </tr>\n",
       "    <tr>\n",
       "      <th>3</th>\n",
       "      <td>40</td>\n",
       "      <td>50</td>\n",
       "    </tr>\n",
       "    <tr>\n",
       "      <th>4</th>\n",
       "      <td>50</td>\n",
       "      <td>60</td>\n",
       "    </tr>\n",
       "  </tbody>\n",
       "</table>\n",
       "</div>"
      ],
      "text/plain": [
       "   input  output\n",
       "0     10      20\n",
       "1     20      30\n",
       "2     30      40\n",
       "3     40      50\n",
       "4     50      60"
      ]
     },
     "execution_count": 40,
     "metadata": {},
     "output_type": "execute_result"
    }
   ],
   "source": [
    "# data\n",
    "data = [[10, 20], [20, 30], [30, 40], [40, 50], [50, 60]]\n",
    "\n",
    "# importing pandas\n",
    "import pandas as pd\n",
    "\n",
    "# Create the pandas DataFrame\n",
    "df = pd.DataFrame(data, columns=['input', 'output'])\n",
    "\n",
    "# datahead\n",
    "df.head()"
   ]
  },
  {
   "cell_type": "code",
   "execution_count": 41,
   "id": "39bef05c",
   "metadata": {},
   "outputs": [],
   "source": [
    "# Splitting the dataset into the Training data set and Testing data set\n",
    "from sklearn.model_selection import train_test_split\n",
    "\n",
    "# 20% data for testing, random state 1\n",
    "X_train, X_test, y_train, y_test = train_test_split(df.input, df.output, train_size=.8, random_state=1)"
   ]
  },
  {
   "cell_type": "code",
   "execution_count": 44,
   "id": "e3de706c",
   "metadata": {},
   "outputs": [
    {
     "data": {
      "text/plain": [
       "1    30\n",
       "4    60\n",
       "0    20\n",
       "3    50\n",
       "Name: output, dtype: int64"
      ]
     },
     "execution_count": 44,
     "metadata": {},
     "output_type": "execute_result"
    }
   ],
   "source": []
  },
  {
   "cell_type": "code",
   "execution_count": 45,
   "id": "52709627",
   "metadata": {},
   "outputs": [
    {
     "data": {
      "text/plain": [
       "LinearRegression()"
      ]
     },
     "execution_count": 45,
     "metadata": {},
     "output_type": "execute_result"
    }
   ],
   "source": [
    "\n",
    "\n",
    "# Importing linear regression form sklear\n",
    "from sklearn.linear_model import LinearRegression\n",
    "\n",
    "# initializing the algorithm\n",
    "regressor = LinearRegression()\n",
    "\n",
    "# Fitting Simple Linear Regression to the Training set\n",
    "regressor.fit([X_train], [y_train])"
   ]
  },
  {
   "cell_type": "code",
   "execution_count": 47,
   "id": "a4a63562",
   "metadata": {},
   "outputs": [
    {
     "data": {
      "text/plain": [
       "[<matplotlib.lines.Line2D at 0x7f0921e2dac0>,\n",
       " <matplotlib.lines.Line2D at 0x7f0921e2daf0>,\n",
       " <matplotlib.lines.Line2D at 0x7f0921e2dc10>,\n",
       " <matplotlib.lines.Line2D at 0x7f0921e2dd30>]"
      ]
     },
     "execution_count": 47,
     "metadata": {},
     "output_type": "execute_result"
    },
    {
     "data": {
      "image/png": "[encoded data removed]",
      "text/plain": [
       "<Figure size 432x288 with 1 Axes>"
      ]
     },
     "metadata": {},
     "output_type": "display_data"
    }
   ],
   "source": [
    "# ploting the training dataset in scattered graph\n",
    "plt.scatter([X_train], [y_train], color='red')\n",
    "\n",
    "# ploting the testing dataset in line line\n",
    "plt.plot([X_train], regressor.predict([X_train]), color='blue')"
   ]
  },
  {
   "cell_type": "code",
   "execution_count": 32,
   "id": "25a41dcb",
   "metadata": {},
   "outputs": [
    {
     "data": {
      "text/plain": [
       "array([[20., 30., 40., 50., 60.]])"
      ]
     },
     "execution_count": 32,
     "metadata": {},
     "output_type": "execute_result"
    }
   ],
   "source": []
  },
  {
   "cell_type": "code",
   "execution_count": null,
   "id": "716a328e",
   "metadata": {},
   "outputs": [],
   "source": []
  }
 ],
 "metadata": {
  "kernelspec": {
   "display_name": "Python 3 (ipykernel)",
   "language": "python",
   "name": "python3"
  },
  "language_info": {
   "codemirror_mode": {
    "name": "ipython",
    "version": 3
   },
   "file_extension": ".py",
   "mimetype": "text/x-python",
   "name": "python",
   "nbconvert_exporter": "python",
   "pygments_lexer": "ipython3",
   "version": "3.9.12"
  }
 },
 "nbformat": 4,
 "nbformat_minor": 5
}
