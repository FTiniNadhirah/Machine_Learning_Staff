{
 "cells": [
  {
   "cell_type": "code",
   "execution_count": 5,
   "id": "3cc3c8da",
   "metadata": {},
   "outputs": [],
   "source": [
    "# Importing the numpy module\n",
    "import numpy as np\n",
    "\n",
    "\n",
    "# creating random dataset\n",
    "Input = np.arange(-150, 150, 3) \n",
    "output = np.arange(-150, 150, 3)"
   ]
  },
  {
   "cell_type": "code",
   "execution_count": 8,
   "id": "9b0dd392",
   "metadata": {},
   "outputs": [
    {
     "data": {
      "image/png": "[encoded data removed]",
      "text/plain": [
       "<Figure size 576x432 with 1 Axes>"
      ]
     },
     "metadata": {
      "needs_background": "light"
     },
     "output_type": "display_data"
    }
   ],
   "source": [
    "# importing the matplotlib module\n",
    "import matplotlib.pyplot as plt\n",
    "\n",
    "# fixing the size of the plot\n",
    "plt.figure( figsize = (8,6))\n",
    "\n",
    "# plotting scattered plot \n",
    "plt.scatter(Input, output, label = 'Dataset')\n",
    "\n",
    "# labeling the plot\n",
    "plt.legend()\n",
    "plt.show()"
   ]
  },
  {
   "cell_type": "code",
   "execution_count": 19,
   "id": "c5ef0190",
   "metadata": {},
   "outputs": [],
   "source": [
    "# Splitting training and test data\n",
    "X_train = Input[:80]\n",
    "y_train = output[:80]\n",
    "X_test = Input[80:]\n",
    "y_test = output[80:]"
   ]
  },
  {
   "cell_type": "code",
   "execution_count": 20,
   "id": "3877b921",
   "metadata": {},
   "outputs": [
    {
     "data": {
      "image/png": "[encoded data removed]",
      "text/plain": [
       "<Figure size 576x432 with 1 Axes>"
      ]
     },
     "metadata": {
      "needs_background": "light"
     },
     "output_type": "display_data"
    }
   ],
   "source": [
    "# size of the plot\n",
    "plt.figure( figsize = (8,6))\n",
    "\n",
    "# plotting input and output data\n",
    "plt.scatter(X_train, y_train, c='b', label = 'Training data')\n",
    "plt.scatter(X_test, y_test, c='g', label='Testing data')\n",
    "\n",
    "# labeling\n",
    "plt.legend()\n",
    "plt.show()"
   ]
  },
  {
   "cell_type": "code",
   "execution_count": 29,
   "id": "ac57c9df",
   "metadata": {},
   "outputs": [],
   "source": [
    "# importing tensorflow module\n",
    "import tensorflow as tf\n",
    "\n",
    "# creating input layer and output layer\n",
    "model = tf.keras.Sequential([tf.keras.layers.InputLayer(\n",
    "    input_shape=1),\n",
    "    tf.keras.layers.Dense(1)])"
   ]
  },
  {
   "cell_type": "code",
   "execution_count": 30,
   "id": "8206a921",
   "metadata": {},
   "outputs": [],
   "source": [
    "# second step is to compile model\n",
    "model.compile(loss=tf.keras.losses.mae,\n",
    "                optimizer=tf.keras.optimizers.Adam(),\n",
    "                metrics=['mae'])"
   ]
  },
  {
   "cell_type": "code",
   "execution_count": 31,
   "id": "932f18b2",
   "metadata": {},
   "outputs": [
    {
     "name": "stdout",
     "output_type": "stream",
     "text": [
      "Epoch 1/80\n",
      "3/3 [==============================] - 0s 2ms/step - loss: 83.3144 - mae: 83.3144\n",
      "Epoch 2/80\n",
      "3/3 [==============================] - 0s 3ms/step - loss: 83.1178 - mae: 83.1178\n",
      "Epoch 3/80\n",
      "3/3 [==============================] - 0s 4ms/step - loss: 82.9325 - mae: 82.9325\n",
      "Epoch 4/80\n",
      "3/3 [==============================] - 0s 3ms/step - loss: 82.7394 - mae: 82.7394\n",
      "Epoch 5/80\n",
      "3/3 [==============================] - 0s 3ms/step - loss: 82.5404 - mae: 82.5404\n",
      "Epoch 6/80\n",
      "3/3 [==============================] - 0s 4ms/step - loss: 82.3555 - mae: 82.3555\n",
      "Epoch 7/80\n",
      "3/3 [==============================] - 0s 3ms/step - loss: 82.1565 - mae: 82.1565\n",
      "Epoch 8/80\n",
      "3/3 [==============================] - 0s 3ms/step - loss: 81.9656 - mae: 81.9656\n",
      "Epoch 9/80\n",
      "3/3 [==============================] - 0s 2ms/step - loss: 81.7744 - mae: 81.7744\n",
      "Epoch 10/80\n",
      "3/3 [==============================] - 0s 2ms/step - loss: 81.5833 - mae: 81.5833\n",
      "Epoch 11/80\n",
      "3/3 [==============================] - 0s 2ms/step - loss: 81.3919 - mae: 81.3919\n",
      "Epoch 12/80\n",
      "3/3 [==============================] - 0s 2ms/step - loss: 81.1987 - mae: 81.1987\n",
      "Epoch 13/80\n",
      "3/3 [==============================] - 0s 3ms/step - loss: 81.0050 - mae: 81.0050\n",
      "Epoch 14/80\n",
      "3/3 [==============================] - 0s 2ms/step - loss: 80.8119 - mae: 80.8119\n",
      "Epoch 15/80\n",
      "3/3 [==============================] - 0s 3ms/step - loss: 80.6262 - mae: 80.6262\n",
      "Epoch 16/80\n",
      "3/3 [==============================] - 0s 3ms/step - loss: 80.4371 - mae: 80.4371\n",
      "Epoch 17/80\n",
      "3/3 [==============================] - 0s 3ms/step - loss: 80.2360 - mae: 80.2360\n",
      "Epoch 18/80\n",
      "3/3 [==============================] - 0s 2ms/step - loss: 80.0481 - mae: 80.0481\n",
      "Epoch 19/80\n",
      "3/3 [==============================] - 0s 2ms/step - loss: 79.8584 - mae: 79.8584\n",
      "Epoch 20/80\n",
      "3/3 [==============================] - 0s 2ms/step - loss: 79.6651 - mae: 79.6651\n",
      "Epoch 21/80\n",
      "3/3 [==============================] - 0s 2ms/step - loss: 79.4780 - mae: 79.4780\n",
      "Epoch 22/80\n",
      "3/3 [==============================] - 0s 3ms/step - loss: 79.2807 - mae: 79.2807\n",
      "Epoch 23/80\n",
      "3/3 [==============================] - 0s 3ms/step - loss: 79.0960 - mae: 79.0960\n",
      "Epoch 24/80\n",
      "3/3 [==============================] - 0s 3ms/step - loss: 78.9084 - mae: 78.9084\n",
      "Epoch 25/80\n",
      "3/3 [==============================] - 0s 3ms/step - loss: 78.7092 - mae: 78.7092\n",
      "Epoch 26/80\n",
      "3/3 [==============================] - 0s 3ms/step - loss: 78.5223 - mae: 78.5223\n",
      "Epoch 27/80\n",
      "3/3 [==============================] - 0s 3ms/step - loss: 78.3308 - mae: 78.3308\n",
      "Epoch 28/80\n",
      "3/3 [==============================] - 0s 3ms/step - loss: 78.1419 - mae: 78.1419\n",
      "Epoch 29/80\n",
      "3/3 [==============================] - 0s 3ms/step - loss: 77.9575 - mae: 77.9575\n",
      "Epoch 30/80\n",
      "3/3 [==============================] - 0s 4ms/step - loss: 77.7627 - mae: 77.7627\n",
      "Epoch 31/80\n",
      "3/3 [==============================] - 0s 3ms/step - loss: 77.5674 - mae: 77.5674\n",
      "Epoch 32/80\n",
      "3/3 [==============================] - 0s 3ms/step - loss: 77.3861 - mae: 77.3861\n",
      "Epoch 33/80\n",
      "3/3 [==============================] - 0s 3ms/step - loss: 77.1954 - mae: 77.1954\n",
      "Epoch 34/80\n",
      "3/3 [==============================] - 0s 3ms/step - loss: 77.0017 - mae: 77.0017\n",
      "Epoch 35/80\n",
      "3/3 [==============================] - 0s 3ms/step - loss: 76.8121 - mae: 76.8121\n",
      "Epoch 36/80\n",
      "3/3 [==============================] - 0s 3ms/step - loss: 76.6244 - mae: 76.6244\n",
      "Epoch 37/80\n",
      "3/3 [==============================] - 0s 3ms/step - loss: 76.4270 - mae: 76.4270\n",
      "Epoch 38/80\n",
      "3/3 [==============================] - 0s 3ms/step - loss: 76.2378 - mae: 76.2378\n",
      "Epoch 39/80\n",
      "3/3 [==============================] - 0s 3ms/step - loss: 76.0468 - mae: 76.0468\n",
      "Epoch 40/80\n",
      "3/3 [==============================] - 0s 3ms/step - loss: 75.8521 - mae: 75.8521\n",
      "Epoch 41/80\n",
      "3/3 [==============================] - 0s 4ms/step - loss: 75.6625 - mae: 75.6625\n",
      "Epoch 42/80\n",
      "3/3 [==============================] - 0s 3ms/step - loss: 75.4723 - mae: 75.4723\n",
      "Epoch 43/80\n",
      "3/3 [==============================] - 0s 3ms/step - loss: 75.2843 - mae: 75.2843\n",
      "Epoch 44/80\n",
      "3/3 [==============================] - 0s 3ms/step - loss: 75.0870 - mae: 75.0870\n",
      "Epoch 45/80\n",
      "3/3 [==============================] - 0s 3ms/step - loss: 74.8995 - mae: 74.8995\n",
      "Epoch 46/80\n",
      "3/3 [==============================] - 0s 3ms/step - loss: 74.7096 - mae: 74.7096\n",
      "Epoch 47/80\n",
      "3/3 [==============================] - 0s 2ms/step - loss: 74.5152 - mae: 74.5152\n",
      "Epoch 48/80\n",
      "3/3 [==============================] - 0s 3ms/step - loss: 74.3279 - mae: 74.3279\n",
      "Epoch 49/80\n",
      "3/3 [==============================] - 0s 3ms/step - loss: 74.1329 - mae: 74.1329\n",
      "Epoch 50/80\n",
      "3/3 [==============================] - 0s 3ms/step - loss: 73.9516 - mae: 73.9516\n",
      "Epoch 51/80\n",
      "3/3 [==============================] - 0s 3ms/step - loss: 73.7549 - mae: 73.7549\n",
      "Epoch 52/80\n",
      "3/3 [==============================] - 0s 2ms/step - loss: 73.5613 - mae: 73.5613\n",
      "Epoch 53/80\n",
      "3/3 [==============================] - 0s 3ms/step - loss: 73.3736 - mae: 73.3736\n",
      "Epoch 54/80\n",
      "3/3 [==============================] - 0s 3ms/step - loss: 73.1850 - mae: 73.1850\n",
      "Epoch 55/80\n",
      "3/3 [==============================] - 0s 3ms/step - loss: 72.9912 - mae: 72.9912\n",
      "Epoch 56/80\n",
      "3/3 [==============================] - 0s 4ms/step - loss: 72.8036 - mae: 72.8036\n",
      "Epoch 57/80\n",
      "3/3 [==============================] - 0s 4ms/step - loss: 72.6211 - mae: 72.6211\n",
      "Epoch 58/80\n",
      "3/3 [==============================] - 0s 3ms/step - loss: 72.4236 - mae: 72.4236\n",
      "Epoch 59/80\n",
      "3/3 [==============================] - 0s 3ms/step - loss: 72.2332 - mae: 72.2332\n",
      "Epoch 60/80\n",
      "3/3 [==============================] - 0s 2ms/step - loss: 72.0459 - mae: 72.0459\n",
      "Epoch 61/80\n",
      "3/3 [==============================] - 0s 3ms/step - loss: 71.8505 - mae: 71.8505\n",
      "Epoch 62/80\n",
      "3/3 [==============================] - 0s 3ms/step - loss: 71.6690 - mae: 71.6690\n",
      "Epoch 63/80\n",
      "3/3 [==============================] - 0s 3ms/step - loss: 71.4772 - mae: 71.4772\n",
      "Epoch 64/80\n",
      "3/3 [==============================] - 0s 3ms/step - loss: 71.2854 - mae: 71.2854\n",
      "Epoch 65/80\n",
      "3/3 [==============================] - 0s 3ms/step - loss: 71.0962 - mae: 71.0962\n",
      "Epoch 66/80\n",
      "3/3 [==============================] - 0s 3ms/step - loss: 70.9044 - mae: 70.9044\n",
      "Epoch 67/80\n",
      "3/3 [==============================] - 0s 3ms/step - loss: 70.7160 - mae: 70.7160\n",
      "Epoch 68/80\n",
      "3/3 [==============================] - 0s 3ms/step - loss: 70.5213 - mae: 70.5213\n",
      "Epoch 69/80\n",
      "3/3 [==============================] - 0s 3ms/step - loss: 70.3365 - mae: 70.3365\n",
      "Epoch 70/80\n",
      "3/3 [==============================] - 0s 3ms/step - loss: 70.1440 - mae: 70.1440\n",
      "Epoch 71/80\n",
      "3/3 [==============================] - 0s 3ms/step - loss: 69.9563 - mae: 69.9563\n",
      "Epoch 72/80\n",
      "3/3 [==============================] - 0s 3ms/step - loss: 69.7613 - mae: 69.7613\n",
      "Epoch 73/80\n",
      "3/3 [==============================] - 0s 10ms/step - loss: 69.5774 - mae: 69.5774\n",
      "Epoch 74/80\n",
      "3/3 [==============================] - 0s 3ms/step - loss: 69.3797 - mae: 69.3797\n",
      "Epoch 75/80\n",
      "3/3 [==============================] - 0s 3ms/step - loss: 69.1991 - mae: 69.1991\n",
      "Epoch 76/80\n",
      "3/3 [==============================] - 0s 3ms/step - loss: 69.0035 - mae: 69.0035\n",
      "Epoch 77/80\n",
      "3/3 [==============================] - 0s 3ms/step - loss: 68.8116 - mae: 68.8116\n",
      "Epoch 78/80\n",
      "3/3 [==============================] - 0s 4ms/step - loss: 68.6238 - mae: 68.6238\n",
      "Epoch 79/80\n",
      "3/3 [==============================] - 0s 3ms/step - loss: 68.4324 - mae: 68.4324\n",
      "Epoch 80/80\n",
      "3/3 [==============================] - 0s 2ms/step - loss: 68.2374 - mae: 68.2374\n"
     ]
    },
    {
     "data": {
      "text/plain": [
       "<keras.callbacks.History at 0x7f2a91ee5c40>"
      ]
     },
     "execution_count": 31,
     "metadata": {},
     "output_type": "execute_result"
    }
   ],
   "source": [
    "#traing model with 50 epochs \n",
    "model.fit(tf.expand_dims(X_train, axis=-1), y_train, epochs=80)"
   ]
  },
  {
   "cell_type": "code",
   "execution_count": 32,
   "id": "319fdb7b",
   "metadata": {},
   "outputs": [
    {
     "name": "stdout",
     "output_type": "stream",
     "text": [
      "1/1 [==============================] - 0s 342ms/step\n",
      "R score is : -53.30622327662337\n"
     ]
    }
   ],
   "source": [
    "# making predictions\n",
    "y_preds = model.predict(X_test)\n",
    "\n",
    "# Importing the required module\n",
    "from sklearn.metrics import r2_score\n",
    "\n",
    "# Evaluating the model\n",
    "print('R score is :', r2_score(y_test, y_preds))"
   ]
  },
  {
   "cell_type": "code",
   "execution_count": 34,
   "id": "c8277b83",
   "metadata": {},
   "outputs": [
    {
     "data": {
      "image/png": "[encoded data removed]",
      "text/plain": [
       "<Figure size 576x432 with 1 Axes>"
      ]
     },
     "metadata": {
      "needs_background": "light"
     },
     "output_type": "display_data"
    }
   ],
   "source": [
    "# size of the plot\n",
    "plt.figure(figsize=(8,6))\n",
    "\n",
    "# plotting training data\n",
    "plt.scatter(X_train, y_train, c=\"m\", label=\"Train data\")\n",
    "\n",
    "# plotting testing data\n",
    "plt.scatter(X_test, y_test, c=\"g\", label=\"Testing data\")\n",
    "\n",
    "# plotting predictions\n",
    "plt.scatter(X_test, y_preds, c=\"r\", label=\"Predictions\")\n",
    "\n",
    "# labeling\n",
    "plt.legend()\n",
    "plt.show()"
   ]
  },
  {
   "cell_type": "code",
   "execution_count": 43,
   "id": "74c1d670",
   "metadata": {},
   "outputs": [],
   "source": [
    "# Model defining the model\n",
    "Model = tf.keras.Sequential([tf.keras.layers.InputLayer(input_shape=1,),\n",
    "                             \n",
    "    # building hiden layer with 10 nodes\n",
    "  tf.keras.layers.Dense(10, activation = tf.keras.activations.relu),\n",
    "                             \n",
    "    # adding the output layer \n",
    "  tf.keras.layers.Dense(1)\n",
    "])"
   ]
  },
  {
   "cell_type": "code",
   "execution_count": 44,
   "id": "5d8fb390",
   "metadata": {},
   "outputs": [],
   "source": [
    "# compiling the model\n",
    "Model.compile(loss=tf.keras.losses.mae,\n",
    "                optimizer=tf.keras.optimizers.Adam(),\n",
    "                metrics=['mae'])"
   ]
  },
  {
   "cell_type": "code",
   "execution_count": 45,
   "id": "36bc124f",
   "metadata": {},
   "outputs": [
    {
     "name": "stdout",
     "output_type": "stream",
     "text": [
      "Epoch 1/100\n",
      "3/3 [==============================] - 0s 2ms/step - loss: 69.2584 - mae: 69.2584\n",
      "Epoch 2/100\n",
      "3/3 [==============================] - 0s 2ms/step - loss: 68.8571 - mae: 68.8571\n",
      "Epoch 3/100\n",
      "3/3 [==============================] - 0s 3ms/step - loss: 68.4697 - mae: 68.4697\n",
      "Epoch 4/100\n",
      "3/3 [==============================] - 0s 2ms/step - loss: 68.0630 - mae: 68.0630\n",
      "Epoch 5/100\n",
      "3/3 [==============================] - 0s 2ms/step - loss: 67.6692 - mae: 67.6692\n",
      "Epoch 6/100\n",
      "3/3 [==============================] - 0s 3ms/step - loss: 67.2579 - mae: 67.2579\n",
      "Epoch 7/100\n",
      "3/3 [==============================] - 0s 2ms/step - loss: 66.8748 - mae: 66.8748\n",
      "Epoch 8/100\n",
      "3/3 [==============================] - 0s 2ms/step - loss: 66.4693 - mae: 66.4693\n",
      "Epoch 9/100\n",
      "3/3 [==============================] - 0s 2ms/step - loss: 66.0752 - mae: 66.0752\n",
      "Epoch 10/100\n",
      "3/3 [==============================] - 0s 2ms/step - loss: 65.6738 - mae: 65.6738\n",
      "Epoch 11/100\n",
      "3/3 [==============================] - 0s 2ms/step - loss: 65.2641 - mae: 65.2641\n",
      "Epoch 12/100\n",
      "3/3 [==============================] - 0s 2ms/step - loss: 64.8621 - mae: 64.8621\n",
      "Epoch 13/100\n",
      "3/3 [==============================] - 0s 2ms/step - loss: 64.4482 - mae: 64.4482\n",
      "Epoch 14/100\n",
      "3/3 [==============================] - 0s 2ms/step - loss: 64.0480 - mae: 64.0480\n",
      "Epoch 15/100\n",
      "3/3 [==============================] - 0s 2ms/step - loss: 63.6342 - mae: 63.6342\n",
      "Epoch 16/100\n",
      "3/3 [==============================] - 0s 3ms/step - loss: 63.2190 - mae: 63.2190\n",
      "Epoch 17/100\n",
      "3/3 [==============================] - 0s 3ms/step - loss: 62.8139 - mae: 62.8139\n",
      "Epoch 18/100\n",
      "3/3 [==============================] - 0s 2ms/step - loss: 62.4056 - mae: 62.4056\n",
      "Epoch 19/100\n",
      "3/3 [==============================] - 0s 3ms/step - loss: 61.9535 - mae: 61.9535\n",
      "Epoch 20/100\n",
      "3/3 [==============================] - 0s 3ms/step - loss: 61.5042 - mae: 61.5042\n",
      "Epoch 21/100\n",
      "3/3 [==============================] - 0s 2ms/step - loss: 61.0548 - mae: 61.0548\n",
      "Epoch 22/100\n",
      "3/3 [==============================] - 0s 3ms/step - loss: 60.5790 - mae: 60.5790\n",
      "Epoch 23/100\n",
      "3/3 [==============================] - 0s 2ms/step - loss: 60.1340 - mae: 60.1340\n",
      "Epoch 24/100\n",
      "3/3 [==============================] - 0s 3ms/step - loss: 59.6484 - mae: 59.6484\n",
      "Epoch 25/100\n",
      "3/3 [==============================] - 0s 2ms/step - loss: 59.1807 - mae: 59.1807\n",
      "Epoch 26/100\n",
      "3/3 [==============================] - 0s 2ms/step - loss: 58.7075 - mae: 58.7075\n",
      "Epoch 27/100\n",
      "3/3 [==============================] - 0s 3ms/step - loss: 58.2143 - mae: 58.2143\n",
      "Epoch 28/100\n",
      "3/3 [==============================] - 0s 2ms/step - loss: 57.7168 - mae: 57.7168\n",
      "Epoch 29/100\n",
      "3/3 [==============================] - 0s 3ms/step - loss: 57.2413 - mae: 57.2413\n",
      "Epoch 30/100\n",
      "3/3 [==============================] - 0s 2ms/step - loss: 56.7235 - mae: 56.7235\n",
      "Epoch 31/100\n",
      "3/3 [==============================] - 0s 2ms/step - loss: 56.2208 - mae: 56.2208\n",
      "Epoch 32/100\n",
      "3/3 [==============================] - 0s 3ms/step - loss: 55.7118 - mae: 55.7118\n",
      "Epoch 33/100\n",
      "3/3 [==============================] - 0s 2ms/step - loss: 55.1868 - mae: 55.1868\n",
      "Epoch 34/100\n",
      "3/3 [==============================] - 0s 3ms/step - loss: 54.6651 - mae: 54.6651\n",
      "Epoch 35/100\n",
      "3/3 [==============================] - 0s 3ms/step - loss: 54.1285 - mae: 54.1285\n",
      "Epoch 36/100\n",
      "3/3 [==============================] - 0s 2ms/step - loss: 53.5989 - mae: 53.5989\n",
      "Epoch 37/100\n",
      "3/3 [==============================] - 0s 3ms/step - loss: 53.0579 - mae: 53.0579\n",
      "Epoch 38/100\n",
      "3/3 [==============================] - 0s 2ms/step - loss: 52.5069 - mae: 52.5069\n",
      "Epoch 39/100\n",
      "3/3 [==============================] - 0s 3ms/step - loss: 51.9612 - mae: 51.9612\n",
      "Epoch 40/100\n",
      "3/3 [==============================] - 0s 3ms/step - loss: 51.3960 - mae: 51.3960\n",
      "Epoch 41/100\n",
      "3/3 [==============================] - 0s 3ms/step - loss: 50.8483 - mae: 50.8483\n",
      "Epoch 42/100\n",
      "3/3 [==============================] - 0s 2ms/step - loss: 50.2473 - mae: 50.2473\n",
      "Epoch 43/100\n",
      "3/3 [==============================] - 0s 3ms/step - loss: 49.6961 - mae: 49.6961\n",
      "Epoch 44/100\n",
      "3/3 [==============================] - 0s 3ms/step - loss: 49.1257 - mae: 49.1257\n",
      "Epoch 45/100\n",
      "3/3 [==============================] - 0s 2ms/step - loss: 48.5388 - mae: 48.5388\n",
      "Epoch 46/100\n",
      "3/3 [==============================] - 0s 3ms/step - loss: 47.9535 - mae: 47.9535\n",
      "Epoch 47/100\n",
      "3/3 [==============================] - 0s 3ms/step - loss: 47.3653 - mae: 47.3653\n",
      "Epoch 48/100\n",
      "3/3 [==============================] - 0s 2ms/step - loss: 46.7565 - mae: 46.7565\n",
      "Epoch 49/100\n",
      "3/3 [==============================] - 0s 3ms/step - loss: 46.1502 - mae: 46.1502\n",
      "Epoch 50/100\n",
      "3/3 [==============================] - 0s 3ms/step - loss: 45.5551 - mae: 45.5551\n",
      "Epoch 51/100\n",
      "3/3 [==============================] - 0s 2ms/step - loss: 44.9099 - mae: 44.9099\n",
      "Epoch 52/100\n",
      "3/3 [==============================] - 0s 3ms/step - loss: 44.3168 - mae: 44.3168\n",
      "Epoch 53/100\n",
      "3/3 [==============================] - 0s 2ms/step - loss: 43.6772 - mae: 43.6772\n",
      "Epoch 54/100\n",
      "3/3 [==============================] - 0s 3ms/step - loss: 43.0374 - mae: 43.0374\n",
      "Epoch 55/100\n",
      "3/3 [==============================] - 0s 2ms/step - loss: 42.3866 - mae: 42.3866\n",
      "Epoch 56/100\n",
      "3/3 [==============================] - 0s 3ms/step - loss: 41.7380 - mae: 41.7380\n",
      "Epoch 57/100\n",
      "3/3 [==============================] - 0s 3ms/step - loss: 41.0998 - mae: 41.0998\n",
      "Epoch 58/100\n",
      "3/3 [==============================] - 0s 2ms/step - loss: 40.4152 - mae: 40.4152\n",
      "Epoch 59/100\n",
      "3/3 [==============================] - 0s 3ms/step - loss: 39.7535 - mae: 39.7535\n",
      "Epoch 60/100\n",
      "3/3 [==============================] - 0s 2ms/step - loss: 39.0709 - mae: 39.0709\n",
      "Epoch 61/100\n",
      "3/3 [==============================] - 0s 2ms/step - loss: 38.3701 - mae: 38.3701\n",
      "Epoch 62/100\n",
      "3/3 [==============================] - 0s 2ms/step - loss: 37.6834 - mae: 37.6834\n",
      "Epoch 63/100\n",
      "3/3 [==============================] - 0s 3ms/step - loss: 36.9998 - mae: 36.9998\n",
      "Epoch 64/100\n",
      "3/3 [==============================] - 0s 2ms/step - loss: 36.2895 - mae: 36.2895\n",
      "Epoch 65/100\n",
      "3/3 [==============================] - 0s 2ms/step - loss: 35.5681 - mae: 35.5681\n",
      "Epoch 66/100\n",
      "3/3 [==============================] - 0s 3ms/step - loss: 34.8387 - mae: 34.8387\n",
      "Epoch 67/100\n",
      "3/3 [==============================] - 0s 2ms/step - loss: 34.1208 - mae: 34.1208\n",
      "Epoch 68/100\n",
      "3/3 [==============================] - 0s 2ms/step - loss: 33.3874 - mae: 33.3874\n",
      "Epoch 69/100\n",
      "3/3 [==============================] - 0s 2ms/step - loss: 32.6294 - mae: 32.6294\n",
      "Epoch 70/100\n",
      "3/3 [==============================] - 0s 3ms/step - loss: 31.8963 - mae: 31.8963\n",
      "Epoch 71/100\n",
      "3/3 [==============================] - 0s 2ms/step - loss: 31.1122 - mae: 31.1122\n",
      "Epoch 72/100\n",
      "3/3 [==============================] - 0s 2ms/step - loss: 30.3460 - mae: 30.3460\n",
      "Epoch 73/100\n",
      "3/3 [==============================] - 0s 3ms/step - loss: 29.5728 - mae: 29.5728\n",
      "Epoch 74/100\n",
      "3/3 [==============================] - 0s 2ms/step - loss: 28.8090 - mae: 28.8090\n",
      "Epoch 75/100\n",
      "3/3 [==============================] - 0s 3ms/step - loss: 27.9561 - mae: 27.9561\n",
      "Epoch 76/100\n",
      "3/3 [==============================] - 0s 2ms/step - loss: 27.1792 - mae: 27.1792\n",
      "Epoch 77/100\n",
      "3/3 [==============================] - 0s 3ms/step - loss: 26.3600 - mae: 26.3600\n",
      "Epoch 78/100\n",
      "3/3 [==============================] - 0s 2ms/step - loss: 25.5363 - mae: 25.5363\n",
      "Epoch 79/100\n",
      "3/3 [==============================] - 0s 2ms/step - loss: 24.7052 - mae: 24.7052\n",
      "Epoch 80/100\n",
      "3/3 [==============================] - 0s 3ms/step - loss: 23.8328 - mae: 23.8328\n",
      "Epoch 81/100\n",
      "3/3 [==============================] - 0s 2ms/step - loss: 23.0040 - mae: 23.0040\n",
      "Epoch 82/100\n",
      "3/3 [==============================] - 0s 2ms/step - loss: 22.1793 - mae: 22.1793\n",
      "Epoch 83/100\n",
      "3/3 [==============================] - 0s 2ms/step - loss: 21.2737 - mae: 21.2737\n",
      "Epoch 84/100\n",
      "3/3 [==============================] - 0s 3ms/step - loss: 20.4237 - mae: 20.4237\n",
      "Epoch 85/100\n",
      "3/3 [==============================] - 0s 2ms/step - loss: 19.5661 - mae: 19.5661\n",
      "Epoch 86/100\n",
      "3/3 [==============================] - 0s 2ms/step - loss: 18.6698 - mae: 18.6698\n",
      "Epoch 87/100\n"
     ]
    },
    {
     "name": "stdout",
     "output_type": "stream",
     "text": [
      "3/3 [==============================] - 0s 2ms/step - loss: 17.7946 - mae: 17.7946\n",
      "Epoch 88/100\n",
      "3/3 [==============================] - 0s 2ms/step - loss: 16.8748 - mae: 16.8748\n",
      "Epoch 89/100\n",
      "3/3 [==============================] - 0s 3ms/step - loss: 16.0079 - mae: 16.0079\n",
      "Epoch 90/100\n",
      "3/3 [==============================] - 0s 2ms/step - loss: 15.0765 - mae: 15.0765\n",
      "Epoch 91/100\n",
      "3/3 [==============================] - 0s 2ms/step - loss: 14.1849 - mae: 14.1849\n",
      "Epoch 92/100\n",
      "3/3 [==============================] - 0s 2ms/step - loss: 13.2564 - mae: 13.2564\n",
      "Epoch 93/100\n",
      "3/3 [==============================] - 0s 2ms/step - loss: 12.2875 - mae: 12.2875\n",
      "Epoch 94/100\n",
      "3/3 [==============================] - 0s 3ms/step - loss: 11.3760 - mae: 11.3760\n",
      "Epoch 95/100\n",
      "3/3 [==============================] - 0s 2ms/step - loss: 10.4175 - mae: 10.4175\n",
      "Epoch 96/100\n",
      "3/3 [==============================] - 0s 3ms/step - loss: 9.4502 - mae: 9.4502\n",
      "Epoch 97/100\n",
      "3/3 [==============================] - 0s 2ms/step - loss: 8.4605 - mae: 8.4605\n",
      "Epoch 98/100\n",
      "3/3 [==============================] - 0s 3ms/step - loss: 7.4842 - mae: 7.4842\n",
      "Epoch 99/100\n",
      "3/3 [==============================] - 0s 2ms/step - loss: 6.5132 - mae: 6.5132\n",
      "Epoch 100/100\n",
      "3/3 [==============================] - 0s 2ms/step - loss: 5.5548 - mae: 5.5548\n"
     ]
    },
    {
     "data": {
      "text/plain": [
       "<keras.callbacks.History at 0x7f2a917b1cd0>"
      ]
     },
     "execution_count": 45,
     "metadata": {},
     "output_type": "execute_result"
    }
   ],
   "source": [
    "# Training the model\n",
    "Model.fit(tf.expand_dims(X_train, axis=-1), y_train, epochs=100)\n"
   ]
  },
  {
   "cell_type": "code",
   "execution_count": 46,
   "id": "9e709cad",
   "metadata": {},
   "outputs": [
    {
     "name": "stdout",
     "output_type": "stream",
     "text": [
      "1/1 [==============================] - 0s 465ms/step\n",
      "R score is : 0.9999169008728738\n"
     ]
    }
   ],
   "source": [
    "# making predictions\n",
    "y_preds = Model.predict(X_test)\n",
    "\n",
    "# Evaluating the model\n",
    "print('R score is :', r2_score(y_test, y_preds))"
   ]
  },
  {
   "cell_type": "code",
   "execution_count": 47,
   "id": "00388599",
   "metadata": {},
   "outputs": [
    {
     "data": {
      "image/png": "[encoded data removed]",
      "text/plain": [
       "<Figure size 576x432 with 1 Axes>"
      ]
     },
     "metadata": {
      "needs_background": "light"
     },
     "output_type": "display_data"
    }
   ],
   "source": [
    "# size of the plot\n",
    "plt.figure(figsize=(8,6))\n",
    "\n",
    "# plotting training data\n",
    "plt.scatter(X_train, y_train, c=\"m\", label=\"Train data\")\n",
    "\n",
    "# plotting testing data\n",
    "plt.scatter(X_test, y_test, c=\"g\", label=\"Testing data\")\n",
    "\n",
    "# plotting predictions\n",
    "plt.scatter(X_test, y_preds, c=\"r\", label=\"Predictions\")\n",
    "\n",
    "# labeling\n",
    "plt.legend()\n",
    "plt.show()"
   ]
  },
  {
   "cell_type": "code",
   "execution_count": null,
   "id": "afb2721a",
   "metadata": {},
   "outputs": [],
   "source": []
  }
 ],
 "metadata": {
  "kernelspec": {
   "display_name": "Python 3 (ipykernel)",
   "language": "python",
   "name": "python3"
  },
  "language_info": {
   "codemirror_mode": {
    "name": "ipython",
    "version": 3
   },
   "file_extension": ".py",
   "mimetype": "text/x-python",
   "name": "python",
   "nbconvert_exporter": "python",
   "pygments_lexer": "ipython3",
   "version": "3.9.12"
  }
 },
 "nbformat": 4,
 "nbformat_minor": 5
}
