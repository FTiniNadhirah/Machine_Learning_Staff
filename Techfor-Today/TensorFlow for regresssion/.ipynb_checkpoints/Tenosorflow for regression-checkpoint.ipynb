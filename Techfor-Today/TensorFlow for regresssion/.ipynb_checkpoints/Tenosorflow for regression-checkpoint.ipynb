{
 "cells": [
  {
   "cell_type": "code",
   "execution_count": 1,
   "id": "61ac0d75",
   "metadata": {},
   "outputs": [],
   "source": [
    "# Importing the numpy module\n",
    "import numpy as np\n",
    "\n",
    "\n",
    "# creating random dataset\n",
    "Input = np.arange(-150, 150, 3) \n",
    "output = np.arange(-150, 150, 3)"
   ]
  },
  {
   "cell_type": "code",
   "execution_count": 2,
   "id": "40819f56",
   "metadata": {},
   "outputs": [
    {
     "data": {
      "image/png": "[encoded data removed]",
      "text/plain": [
       "<Figure size 576x432 with 1 Axes>"
      ]
     },
     "metadata": {
      "needs_background": "light"
     },
     "output_type": "display_data"
    }
   ],
   "source": [
    "# importing the matplotlib module\n",
    "import matplotlib.pyplot as plt\n",
    "\n",
    "# fixing the size of the plot\n",
    "plt.figure( figsize = (8,6))\n",
    "\n",
    "# plotting scattered plot \n",
    "plt.scatter(Input, output, label = 'Dataset')\n",
    "\n",
    "# labeling the plot\n",
    "plt.legend()\n",
    "plt.show()"
   ]
  },
  {
   "cell_type": "code",
   "execution_count": 3,
   "id": "c9aa98ae",
   "metadata": {},
   "outputs": [],
   "source": [
    "# Splitting training and test data\n",
    "X_train = Input[:80]\n",
    "y_train = output[:80]\n",
    "X_test = Input[80:]\n",
    "y_test = output[80:]"
   ]
  },
  {
   "cell_type": "code",
   "execution_count": 4,
   "id": "d98e9867",
   "metadata": {},
   "outputs": [
    {
     "data": {
      "image/png": "[encoded data removed]",
      "text/plain": [
       "<Figure size 576x432 with 1 Axes>"
      ]
     },
     "metadata": {
      "needs_background": "light"
     },
     "output_type": "display_data"
    }
   ],
   "source": [
    "# size of the plot\n",
    "plt.figure( figsize = (8,6))\n",
    "\n",
    "# plotting input and output data\n",
    "plt.scatter(X_train, y_train, c='b', label = 'Training data')\n",
    "plt.scatter(X_test, y_test, c='g', label='Testing data')\n",
    "\n",
    "# labeling\n",
    "plt.legend()\n",
    "plt.show()"
   ]
  },
  {
   "cell_type": "code",
   "execution_count": 5,
   "id": "5d6f78e3",
   "metadata": {},
   "outputs": [
    {
     "name": "stderr",
     "output_type": "stream",
     "text": [
      "2022-07-02 11:54:45.190566: W tensorflow/stream_executor/platform/default/dso_loader.cc:64] Could not load dynamic library 'libcudart.so.11.0'; dlerror: libcudart.so.11.0: cannot open shared object file: No such file or directory\n",
      "2022-07-02 11:54:45.190691: I tensorflow/stream_executor/cuda/cudart_stub.cc:29] Ignore above cudart dlerror if you do not have a GPU set up on your machine.\n",
      "2022-07-02 11:55:05.619330: W tensorflow/stream_executor/platform/default/dso_loader.cc:64] Could not load dynamic library 'libcuda.so.1'; dlerror: libcuda.so.1: cannot open shared object file: No such file or directory\n",
      "2022-07-02 11:55:05.619418: W tensorflow/stream_executor/cuda/cuda_driver.cc:269] failed call to cuInit: UNKNOWN ERROR (303)\n",
      "2022-07-02 11:55:05.619474: I tensorflow/stream_executor/cuda/cuda_diagnostics.cc:156] kernel driver does not appear to be running on this host (UCA-Nar): /proc/driver/nvidia/version does not exist\n",
      "2022-07-02 11:55:05.653592: I tensorflow/core/platform/cpu_feature_guard.cc:193] This TensorFlow binary is optimized with oneAPI Deep Neural Network Library (oneDNN) to use the following CPU instructions in performance-critical operations:  AVX2 FMA\n",
      "To enable them in other operations, rebuild TensorFlow with the appropriate compiler flags.\n"
     ]
    }
   ],
   "source": [
    "# importing tensorflow module\n",
    "import tensorflow as tf\n",
    "\n",
    "# creating input layer and output layer\n",
    "model = tf.keras.Sequential([tf.keras.layers.InputLayer(\n",
    "    input_shape=1),\n",
    "    tf.keras.layers.Dense(1)])"
   ]
  },
  {
   "cell_type": "code",
   "execution_count": 30,
   "id": "1ec2c12b",
   "metadata": {},
   "outputs": [],
   "source": [
    "# second step is to compile model\n",
    "model.compile(loss=tf.keras.losses.mae,\n",
    "                optimizer=tf.keras.optimizers.Adam(),\n",
    "                metrics=['mae'])"
   ]
  },
  {
   "cell_type": "code",
   "execution_count": 31,
   "id": "343c44ad",
   "metadata": {},
   "outputs": [
    {
     "name": "stdout",
     "output_type": "stream",
     "text": [
      "Epoch 1/80\n",
      "3/3 [==============================] - 0s 2ms/step - loss: 83.3144 - mae: 83.3144\n",
      "Epoch 2/80\n",
      "3/3 [==============================] - 0s 3ms/step - loss: 83.1178 - mae: 83.1178\n",
      "Epoch 3/80\n",
      "3/3 [==============================] - 0s 4ms/step - loss: 82.9325 - mae: 82.9325\n",
      "Epoch 4/80\n",
      "3/3 [==============================] - 0s 3ms/step - loss: 82.7394 - mae: 82.7394\n",
      "Epoch 5/80\n",
      "3/3 [==============================] - 0s 3ms/step - loss: 82.5404 - mae: 82.5404\n",
      "Epoch 6/80\n",
      "3/3 [==============================] - 0s 4ms/step - loss: 82.3555 - mae: 82.3555\n",
      "Epoch 7/80\n",
      "3/3 [==============================] - 0s 3ms/step - loss: 82.1565 - mae: 82.1565\n",
      "Epoch 8/80\n",
      "3/3 [==============================] - 0s 3ms/step - loss: 81.9656 - mae: 81.9656\n",
      "Epoch 9/80\n",
      "3/3 [==============================] - 0s 2ms/step - loss: 81.7744 - mae: 81.7744\n",
      "Epoch 10/80\n",
      "3/3 [==============================] - 0s 2ms/step - loss: 81.5833 - mae: 81.5833\n",
      "Epoch 11/80\n",
      "3/3 [==============================] - 0s 2ms/step - loss: 81.3919 - mae: 81.3919\n",
      "Epoch 12/80\n",
      "3/3 [==============================] - 0s 2ms/step - loss: 81.1987 - mae: 81.1987\n",
      "Epoch 13/80\n",
      "3/3 [==============================] - 0s 3ms/step - loss: 81.0050 - mae: 81.0050\n",
      "Epoch 14/80\n",
      "3/3 [==============================] - 0s 2ms/step - loss: 80.8119 - mae: 80.8119\n",
      "Epoch 15/80\n",
      "3/3 [==============================] - 0s 3ms/step - loss: 80.6262 - mae: 80.6262\n",
      "Epoch 16/80\n",
      "3/3 [==============================] - 0s 3ms/step - loss: 80.4371 - mae: 80.4371\n",
      "Epoch 17/80\n",
      "3/3 [==============================] - 0s 3ms/step - loss: 80.2360 - mae: 80.2360\n",
      "Epoch 18/80\n",
      "3/3 [==============================] - 0s 2ms/step - loss: 80.0481 - mae: 80.0481\n",
      "Epoch 19/80\n",
      "3/3 [==============================] - 0s 2ms/step - loss: 79.8584 - mae: 79.8584\n",
      "Epoch 20/80\n",
      "3/3 [==============================] - 0s 2ms/step - loss: 79.6651 - mae: 79.6651\n",
      "Epoch 21/80\n",
      "3/3 [==============================] - 0s 2ms/step - loss: 79.4780 - mae: 79.4780\n",
      "Epoch 22/80\n",
      "3/3 [==============================] - 0s 3ms/step - loss: 79.2807 - mae: 79.2807\n",
      "Epoch 23/80\n",
      "3/3 [==============================] - 0s 3ms/step - loss: 79.0960 - mae: 79.0960\n",
      "Epoch 24/80\n",
      "3/3 [==============================] - 0s 3ms/step - loss: 78.9084 - mae: 78.9084\n",
      "Epoch 25/80\n",
      "3/3 [==============================] - 0s 3ms/step - loss: 78.7092 - mae: 78.7092\n",
      "Epoch 26/80\n",
      "3/3 [==============================] - 0s 3ms/step - loss: 78.5223 - mae: 78.5223\n",
      "Epoch 27/80\n",
      "3/3 [==============================] - 0s 3ms/step - loss: 78.3308 - mae: 78.3308\n",
      "Epoch 28/80\n",
      "3/3 [==============================] - 0s 3ms/step - loss: 78.1419 - mae: 78.1419\n",
      "Epoch 29/80\n",
      "3/3 [==============================] - 0s 3ms/step - loss: 77.9575 - mae: 77.9575\n",
      "Epoch 30/80\n",
      "3/3 [==============================] - 0s 4ms/step - loss: 77.7627 - mae: 77.7627\n",
      "Epoch 31/80\n",
      "3/3 [==============================] - 0s 3ms/step - loss: 77.5674 - mae: 77.5674\n",
      "Epoch 32/80\n",
      "3/3 [==============================] - 0s 3ms/step - loss: 77.3861 - mae: 77.3861\n",
      "Epoch 33/80\n",
      "3/3 [==============================] - 0s 3ms/step - loss: 77.1954 - mae: 77.1954\n",
      "Epoch 34/80\n",
      "3/3 [==============================] - 0s 3ms/step - loss: 77.0017 - mae: 77.0017\n",
      "Epoch 35/80\n",
      "3/3 [==============================] - 0s 3ms/step - loss: 76.8121 - mae: 76.8121\n",
      "Epoch 36/80\n",
      "3/3 [==============================] - 0s 3ms/step - loss: 76.6244 - mae: 76.6244\n",
      "Epoch 37/80\n",
      "3/3 [==============================] - 0s 3ms/step - loss: 76.4270 - mae: 76.4270\n",
      "Epoch 38/80\n",
      "3/3 [==============================] - 0s 3ms/step - loss: 76.2378 - mae: 76.2378\n",
      "Epoch 39/80\n",
      "3/3 [==============================] - 0s 3ms/step - loss: 76.0468 - mae: 76.0468\n",
      "Epoch 40/80\n",
      "3/3 [==============================] - 0s 3ms/step - loss: 75.8521 - mae: 75.8521\n",
      "Epoch 41/80\n",
      "3/3 [==============================] - 0s 4ms/step - loss: 75.6625 - mae: 75.6625\n",
      "Epoch 42/80\n",
      "3/3 [==============================] - 0s 3ms/step - loss: 75.4723 - mae: 75.4723\n",
      "Epoch 43/80\n",
      "3/3 [==============================] - 0s 3ms/step - loss: 75.2843 - mae: 75.2843\n",
      "Epoch 44/80\n",
      "3/3 [==============================] - 0s 3ms/step - loss: 75.0870 - mae: 75.0870\n",
      "Epoch 45/80\n",
      "3/3 [==============================] - 0s 3ms/step - loss: 74.8995 - mae: 74.8995\n",
      "Epoch 46/80\n",
      "3/3 [==============================] - 0s 3ms/step - loss: 74.7096 - mae: 74.7096\n",
      "Epoch 47/80\n",
      "3/3 [==============================] - 0s 2ms/step - loss: 74.5152 - mae: 74.5152\n",
      "Epoch 48/80\n",
      "3/3 [==============================] - 0s 3ms/step - loss: 74.3279 - mae: 74.3279\n",
      "Epoch 49/80\n",
      "3/3 [==============================] - 0s 3ms/step - loss: 74.1329 - mae: 74.1329\n",
      "Epoch 50/80\n",
      "3/3 [==============================] - 0s 3ms/step - loss: 73.9516 - mae: 73.9516\n",
      "Epoch 51/80\n",
      "3/3 [==============================] - 0s 3ms/step - loss: 73.7549 - mae: 73.7549\n",
      "Epoch 52/80\n",
      "3/3 [==============================] - 0s 2ms/step - loss: 73.5613 - mae: 73.5613\n",
      "Epoch 53/80\n",
      "3/3 [==============================] - 0s 3ms/step - loss: 73.3736 - mae: 73.3736\n",
      "Epoch 54/80\n",
      "3/3 [==============================] - 0s 3ms/step - loss: 73.1850 - mae: 73.1850\n",
      "Epoch 55/80\n",
      "3/3 [==============================] - 0s 3ms/step - loss: 72.9912 - mae: 72.9912\n",
      "Epoch 56/80\n",
      "3/3 [==============================] - 0s 4ms/step - loss: 72.8036 - mae: 72.8036\n",
      "Epoch 57/80\n",
      "3/3 [==============================] - 0s 4ms/step - loss: 72.6211 - mae: 72.6211\n",
      "Epoch 58/80\n",
      "3/3 [==============================] - 0s 3ms/step - loss: 72.4236 - mae: 72.4236\n",
      "Epoch 59/80\n",
      "3/3 [==============================] - 0s 3ms/step - loss: 72.2332 - mae: 72.2332\n",
      "Epoch 60/80\n",
      "3/3 [==============================] - 0s 2ms/step - loss: 72.0459 - mae: 72.0459\n",
      "Epoch 61/80\n",
      "3/3 [==============================] - 0s 3ms/step - loss: 71.8505 - mae: 71.8505\n",
      "Epoch 62/80\n",
      "3/3 [==============================] - 0s 3ms/step - loss: 71.6690 - mae: 71.6690\n",
      "Epoch 63/80\n",
      "3/3 [==============================] - 0s 3ms/step - loss: 71.4772 - mae: 71.4772\n",
      "Epoch 64/80\n",
      "3/3 [==============================] - 0s 3ms/step - loss: 71.2854 - mae: 71.2854\n",
      "Epoch 65/80\n",
      "3/3 [==============================] - 0s 3ms/step - loss: 71.0962 - mae: 71.0962\n",
      "Epoch 66/80\n",
      "3/3 [==============================] - 0s 3ms/step - loss: 70.9044 - mae: 70.9044\n",
      "Epoch 67/80\n",
      "3/3 [==============================] - 0s 3ms/step - loss: 70.7160 - mae: 70.7160\n",
      "Epoch 68/80\n",
      "3/3 [==============================] - 0s 3ms/step - loss: 70.5213 - mae: 70.5213\n",
      "Epoch 69/80\n",
      "3/3 [==============================] - 0s 3ms/step - loss: 70.3365 - mae: 70.3365\n",
      "Epoch 70/80\n",
      "3/3 [==============================] - 0s 3ms/step - loss: 70.1440 - mae: 70.1440\n",
      "Epoch 71/80\n",
      "3/3 [==============================] - 0s 3ms/step - loss: 69.9563 - mae: 69.9563\n",
      "Epoch 72/80\n",
      "3/3 [==============================] - 0s 3ms/step - loss: 69.7613 - mae: 69.7613\n",
      "Epoch 73/80\n",
      "3/3 [==============================] - 0s 10ms/step - loss: 69.5774 - mae: 69.5774\n",
      "Epoch 74/80\n",
      "3/3 [==============================] - 0s 3ms/step - loss: 69.3797 - mae: 69.3797\n",
      "Epoch 75/80\n",
      "3/3 [==============================] - 0s 3ms/step - loss: 69.1991 - mae: 69.1991\n",
      "Epoch 76/80\n",
      "3/3 [==============================] - 0s 3ms/step - loss: 69.0035 - mae: 69.0035\n",
      "Epoch 77/80\n",
      "3/3 [==============================] - 0s 3ms/step - loss: 68.8116 - mae: 68.8116\n",
      "Epoch 78/80\n",
      "3/3 [==============================] - 0s 4ms/step - loss: 68.6238 - mae: 68.6238\n",
      "Epoch 79/80\n",
      "3/3 [==============================] - 0s 3ms/step - loss: 68.4324 - mae: 68.4324\n",
      "Epoch 80/80\n",
      "3/3 [==============================] - 0s 2ms/step - loss: 68.2374 - mae: 68.2374\n"
     ]
    },
    {
     "data": {
      "text/plain": [
       "<keras.callbacks.History at 0x7f2a91ee5c40>"
      ]
     },
     "execution_count": 31,
     "metadata": {},
     "output_type": "execute_result"
    }
   ],
   "source": [
    "#traing model with 50 epochs \n",
    "model.fit(tf.expand_dims(X_train, axis=-1), y_train, epochs=80)"
   ]
  },
  {
   "cell_type": "code",
   "execution_count": 32,
   "id": "fb7c63bb",
   "metadata": {},
   "outputs": [
    {
     "name": "stdout",
     "output_type": "stream",
     "text": [
      "1/1 [==============================] - 0s 342ms/step\n",
      "R score is : -53.30622327662337\n"
     ]
    }
   ],
   "source": [
    "# making predictions\n",
    "y_preds = model.predict(X_test)\n",
    "\n",
    "# Importing the required module\n",
    "from sklearn.metrics import r2_score\n",
    "\n",
    "# Evaluating the model\n",
    "print('R score is :', r2_score(y_test, y_preds))"
   ]
  },
  {
   "cell_type": "code",
   "execution_count": 34,
   "id": "db6feda8",
   "metadata": {},
   "outputs": [
    {
     "data": {
      "image/png": "[encoded data removed]",
      "text/plain": [
       "<Figure size 576x432 with 1 Axes>"
      ]
     },
     "metadata": {
      "needs_background": "light"
     },
     "output_type": "display_data"
    }
   ],
   "source": [
    "# size of the plot\n",
    "plt.figure(figsize=(8,6))\n",
    "\n",
    "# plotting training data\n",
    "plt.scatter(X_train, y_train, c=\"m\", label=\"Train data\")\n",
    "\n",
    "# plotting testing data\n",
    "plt.scatter(X_test, y_test, c=\"g\", label=\"Testing data\")\n",
    "\n",
    "# plotting predictions\n",
    "plt.scatter(X_test, y_preds, c=\"r\", label=\"Predictions\")\n",
    "\n",
    "# labeling\n",
    "plt.legend()\n",
    "plt.show()"
   ]
  },
  {
   "cell_type": "code",
   "execution_count": 43,
   "id": "cbd1b1cd",
   "metadata": {},
   "outputs": [],
   "source": [
    "# Model defining the model\n",
    "Model = tf.keras.Sequential([tf.keras.layers.InputLayer(input_shape=1,),\n",
    "                             \n",
    "    # building hiden layer with 10 nodes\n",
    "  tf.keras.layers.Dense(10, activation = tf.keras.activations.relu),\n",
    "                             \n",
    "    # adding the output layer \n",
    "  tf.keras.layers.Dense(1)\n",
    "])"
   ]
  },
  {
   "cell_type": "code",
   "execution_count": 44,
   "id": "0f8e5fa2",
   "metadata": {},
   "outputs": [],
   "source": [
    "# compiling the model\n",
    "Model.compile(loss=tf.keras.losses.mae,\n",
    "                optimizer=tf.keras.optimizers.Adam(),\n",
    "                metrics=['mae'])"
   ]
  },
  {
   "cell_type": "code",
   "execution_count": 45,
   "id": "2cbdffce",
   "metadata": {},
   "outputs": [
    {
     "name": "stdout",
     "output_type": "stream",
     "text": [
      "Epoch 1/100\n",
      "3/3 [==============================] - 0s 2ms/step - loss: 69.2584 - mae: 69.2584\n",
      "Epoch 2/100\n",
      "3/3 [==============================] - 0s 2ms/step - loss: 68.8571 - mae: 68.8571\n",
      "Epoch 3/100\n",
      "3/3 [==============================] - 0s 3ms/step - loss: 68.4697 - mae: 68.4697\n",
      "Epoch 4/100\n",
      "3/3 [==============================] - 0s 2ms/step - loss: 68.0630 - mae: 68.0630\n",
      "Epoch 5/100\n",
      "3/3 [==============================] - 0s 2ms/step - loss: 67.6692 - mae: 67.6692\n",
      "Epoch 6/100\n",
      "3/3 [==============================] - 0s 3ms/step - loss: 67.2579 - mae: 67.2579\n",
      "Epoch 7/100\n",
      "3/3 [==============================] - 0s 2ms/step - loss: 66.8748 - mae: 66.8748\n",
      "Epoch 8/100\n",
      "3/3 [==============================] - 0s 2ms/step - loss: 66.4693 - mae: 66.4693\n",
      "Epoch 9/100\n",
      "3/3 [==============================] - 0s 2ms/step - loss: 66.0752 - mae: 66.0752\n",
      "Epoch 10/100\n",
      "3/3 [==============================] - 0s 2ms/step - loss: 65.6738 - mae: 65.6738\n",
      "Epoch 11/100\n",
      "3/3 [==============================] - 0s 2ms/step - loss: 65.2641 - mae: 65.2641\n",
      "Epoch 12/100\n",
      "3/3 [==============================] - 0s 2ms/step - loss: 64.8621 - mae: 64.8621\n",
      "Epoch 13/100\n",
      "3/3 [==============================] - 0s 2ms/step - loss: 64.4482 - mae: 64.4482\n",
      "Epoch 14/100\n",
      "3/3 [==============================] - 0s 2ms/step - loss: 64.0480 - mae: 64.0480\n",
      "Epoch 15/100\n",
      "3/3 [==============================] - 0s 2ms/step - loss: 63.6342 - mae: 63.6342\n",
      "Epoch 16/100\n",
      "3/3 [==============================] - 0s 3ms/step - loss: 63.2190 - mae: 63.2190\n",
      "Epoch 17/100\n",
      "3/3 [==============================] - 0s 3ms/step - loss: 62.8139 - mae: 62.8139\n",
      "Epoch 18/100\n",
      "3/3 [==============================] - 0s 2ms/step - loss: 62.4056 - mae: 62.4056\n",
      "Epoch 19/100\n",
      "3/3 [==============================] - 0s 3ms/step - loss: 61.9535 - mae: 61.9535\n",
      "Epoch 20/100\n",
      "3/3 [==============================] - 0s 3ms/step - loss: 61.5042 - mae: 61.5042\n",
      "Epoch 21/100\n",
      "3/3 [==============================] - 0s 2ms/step - loss: 61.0548 - mae: 61.0548\n",
      "Epoch 22/100\n",
      "3/3 [==============================] - 0s 3ms/step - loss: 60.5790 - mae: 60.5790\n",
      "Epoch 23/100\n",
      "3/3 [==============================] - 0s 2ms/step - loss: 60.1340 - mae: 60.1340\n",
      "Epoch 24/100\n",
      "3/3 [==============================] - 0s 3ms/step - loss: 59.6484 - mae: 59.6484\n",
      "Epoch 25/100\n",
      "3/3 [==============================] - 0s 2ms/step - loss: 59.1807 - mae: 59.1807\n",
      "Epoch 26/100\n",
      "3/3 [==============================] - 0s 2ms/step - loss: 58.7075 - mae: 58.7075\n",
      "Epoch 27/100\n",
      "3/3 [==============================] - 0s 3ms/step - loss: 58.2143 - mae: 58.2143\n",
      "Epoch 28/100\n",
      "3/3 [==============================] - 0s 2ms/step - loss: 57.7168 - mae: 57.7168\n",
      "Epoch 29/100\n",
      "3/3 [==============================] - 0s 3ms/step - loss: 57.2413 - mae: 57.2413\n",
      "Epoch 30/100\n",
      "3/3 [==============================] - 0s 2ms/step - loss: 56.7235 - mae: 56.7235\n",
      "Epoch 31/100\n",
      "3/3 [==============================] - 0s 2ms/step - loss: 56.2208 - mae: 56.2208\n",
      "Epoch 32/100\n",
      "3/3 [==============================] - 0s 3ms/step - loss: 55.7118 - mae: 55.7118\n",
      "Epoch 33/100\n",
      "3/3 [==============================] - 0s 2ms/step - loss: 55.1868 - mae: 55.1868\n",
      "Epoch 34/100\n",
      "3/3 [==============================] - 0s 3ms/step - loss: 54.6651 - mae: 54.6651\n",
      "Epoch 35/100\n",
      "3/3 [==============================] - 0s 3ms/step - loss: 54.1285 - mae: 54.1285\n",
      "Epoch 36/100\n",
      "3/3 [==============================] - 0s 2ms/step - loss: 53.5989 - mae: 53.5989\n",
      "Epoch 37/100\n",
      "3/3 [==============================] - 0s 3ms/step - loss: 53.0579 - mae: 53.0579\n",
      "Epoch 38/100\n",
      "3/3 [==============================] - 0s 2ms/step - loss: 52.5069 - mae: 52.5069\n",
      "Epoch 39/100\n",
      "3/3 [==============================] - 0s 3ms/step - loss: 51.9612 - mae: 51.9612\n",
      "Epoch 40/100\n",
      "3/3 [==============================] - 0s 3ms/step - loss: 51.3960 - mae: 51.3960\n",
      "Epoch 41/100\n",
      "3/3 [==============================] - 0s 3ms/step - loss: 50.8483 - mae: 50.8483\n",
      "Epoch 42/100\n",
      "3/3 [==============================] - 0s 2ms/step - loss: 50.2473 - mae: 50.2473\n",
      "Epoch 43/100\n",
      "3/3 [==============================] - 0s 3ms/step - loss: 49.6961 - mae: 49.6961\n",
      "Epoch 44/100\n",
      "3/3 [==============================] - 0s 3ms/step - loss: 49.1257 - mae: 49.1257\n",
      "Epoch 45/100\n",
      "3/3 [==============================] - 0s 2ms/step - loss: 48.5388 - mae: 48.5388\n",
      "Epoch 46/100\n",
      "3/3 [==============================] - 0s 3ms/step - loss: 47.9535 - mae: 47.9535\n",
      "Epoch 47/100\n",
      "3/3 [==============================] - 0s 3ms/step - loss: 47.3653 - mae: 47.3653\n",
      "Epoch 48/100\n",
      "3/3 [==============================] - 0s 2ms/step - loss: 46.7565 - mae: 46.7565\n",
      "Epoch 49/100\n",
      "3/3 [==============================] - 0s 3ms/step - loss: 46.1502 - mae: 46.1502\n",
      "Epoch 50/100\n",
      "3/3 [==============================] - 0s 3ms/step - loss: 45.5551 - mae: 45.5551\n",
      "Epoch 51/100\n",
      "3/3 [==============================] - 0s 2ms/step - loss: 44.9099 - mae: 44.9099\n",
      "Epoch 52/100\n",
      "3/3 [==============================] - 0s 3ms/step - loss: 44.3168 - mae: 44.3168\n",
      "Epoch 53/100\n",
      "3/3 [==============================] - 0s 2ms/step - loss: 43.6772 - mae: 43.6772\n",
      "Epoch 54/100\n",
      "3/3 [==============================] - 0s 3ms/step - loss: 43.0374 - mae: 43.0374\n",
      "Epoch 55/100\n",
      "3/3 [==============================] - 0s 2ms/step - loss: 42.3866 - mae: 42.3866\n",
      "Epoch 56/100\n",
      "3/3 [==============================] - 0s 3ms/step - loss: 41.7380 - mae: 41.7380\n",
      "Epoch 57/100\n",
      "3/3 [==============================] - 0s 3ms/step - loss: 41.0998 - mae: 41.0998\n",
      "Epoch 58/100\n",
      "3/3 [==============================] - 0s 2ms/step - loss: 40.4152 - mae: 40.4152\n",
      "Epoch 59/100\n",
      "3/3 [==============================] - 0s 3ms/step - loss: 39.7535 - mae: 39.7535\n",
      "Epoch 60/100\n",
      "3/3 [==============================] - 0s 2ms/step - loss: 39.0709 - mae: 39.0709\n",
      "Epoch 61/100\n",
      "3/3 [==============================] - 0s 2ms/step - loss: 38.3701 - mae: 38.3701\n",
      "Epoch 62/100\n",
      "3/3 [==============================] - 0s 2ms/step - loss: 37.6834 - mae: 37.6834\n",
      "Epoch 63/100\n",
      "3/3 [==============================] - 0s 3ms/step - loss: 36.9998 - mae: 36.9998\n",
      "Epoch 64/100\n",
      "3/3 [==============================] - 0s 2ms/step - loss: 36.2895 - mae: 36.2895\n",
      "Epoch 65/100\n",
      "3/3 [==============================] - 0s 2ms/step - loss: 35.5681 - mae: 35.5681\n",
      "Epoch 66/100\n",
      "3/3 [==============================] - 0s 3ms/step - loss: 34.8387 - mae: 34.8387\n",
      "Epoch 67/100\n",
      "3/3 [==============================] - 0s 2ms/step - loss: 34.1208 - mae: 34.1208\n",
      "Epoch 68/100\n",
      "3/3 [==============================] - 0s 2ms/step - loss: 33.3874 - mae: 33.3874\n",
      "Epoch 69/100\n",
      "3/3 [==============================] - 0s 2ms/step - loss: 32.6294 - mae: 32.6294\n",
      "Epoch 70/100\n",
      "3/3 [==============================] - 0s 3ms/step - loss: 31.8963 - mae: 31.8963\n",
      "Epoch 71/100\n",
      "3/3 [==============================] - 0s 2ms/step - loss: 31.1122 - mae: 31.1122\n",
      "Epoch 72/100\n",
      "3/3 [==============================] - 0s 2ms/step - loss: 30.3460 - mae: 30.3460\n",
      "Epoch 73/100\n",
      "3/3 [==============================] - 0s 3ms/step - loss: 29.5728 - mae: 29.5728\n",
      "Epoch 74/100\n",
      "3/3 [==============================] - 0s 2ms/step - loss: 28.8090 - mae: 28.8090\n",
      "Epoch 75/100\n",
      "3/3 [==============================] - 0s 3ms/step - loss: 27.9561 - mae: 27.9561\n",
      "Epoch 76/100\n",
      "3/3 [==============================] - 0s 2ms/step - loss: 27.1792 - mae: 27.1792\n",
      "Epoch 77/100\n",
      "3/3 [==============================] - 0s 3ms/step - loss: 26.3600 - mae: 26.3600\n",
      "Epoch 78/100\n",
      "3/3 [==============================] - 0s 2ms/step - loss: 25.5363 - mae: 25.5363\n",
      "Epoch 79/100\n",
      "3/3 [==============================] - 0s 2ms/step - loss: 24.7052 - mae: 24.7052\n",
      "Epoch 80/100\n",
      "3/3 [==============================] - 0s 3ms/step - loss: 23.8328 - mae: 23.8328\n",
      "Epoch 81/100\n",
      "3/3 [==============================] - 0s 2ms/step - loss: 23.0040 - mae: 23.0040\n",
      "Epoch 82/100\n",
      "3/3 [==============================] - 0s 2ms/step - loss: 22.1793 - mae: 22.1793\n",
      "Epoch 83/100\n",
      "3/3 [==============================] - 0s 2ms/step - loss: 21.2737 - mae: 21.2737\n",
      "Epoch 84/100\n",
      "3/3 [==============================] - 0s 3ms/step - loss: 20.4237 - mae: 20.4237\n",
      "Epoch 85/100\n",
      "3/3 [==============================] - 0s 2ms/step - loss: 19.5661 - mae: 19.5661\n",
      "Epoch 86/100\n",
      "3/3 [==============================] - 0s 2ms/step - loss: 18.6698 - mae: 18.6698\n",
      "Epoch 87/100\n",
      "3/3 [==============================] - 0s 2ms/step - loss: 17.7946 - mae: 17.7946\n",
      "Epoch 88/100\n",
      "3/3 [==============================] - 0s 2ms/step - loss: 16.8748 - mae: 16.8748\n",
      "Epoch 89/100\n",
      "3/3 [==============================] - 0s 3ms/step - loss: 16.0079 - mae: 16.0079\n",
      "Epoch 90/100\n",
      "3/3 [==============================] - 0s 2ms/step - loss: 15.0765 - mae: 15.0765\n",
      "Epoch 91/100\n",
      "3/3 [==============================] - 0s 2ms/step - loss: 14.1849 - mae: 14.1849\n",
      "Epoch 92/100\n",
      "3/3 [==============================] - 0s 2ms/step - loss: 13.2564 - mae: 13.2564\n",
      "Epoch 93/100\n",
      "3/3 [==============================] - 0s 2ms/step - loss: 12.2875 - mae: 12.2875\n",
      "Epoch 94/100\n",
      "3/3 [==============================] - 0s 3ms/step - loss: 11.3760 - mae: 11.3760\n",
      "Epoch 95/100\n",
      "3/3 [==============================] - 0s 2ms/step - loss: 10.4175 - mae: 10.4175\n",
      "Epoch 96/100\n",
      "3/3 [==============================] - 0s 3ms/step - loss: 9.4502 - mae: 9.4502\n",
      "Epoch 97/100\n",
      "3/3 [==============================] - 0s 2ms/step - loss: 8.4605 - mae: 8.4605\n",
      "Epoch 98/100\n",
      "3/3 [==============================] - 0s 3ms/step - loss: 7.4842 - mae: 7.4842\n",
      "Epoch 99/100\n",
      "3/3 [==============================] - 0s 2ms/step - loss: 6.5132 - mae: 6.5132\n",
      "Epoch 100/100\n",
      "3/3 [==============================] - 0s 2ms/step - loss: 5.5548 - mae: 5.5548\n"
     ]
    },
    {
     "data": {
      "text/plain": [
       "<keras.callbacks.History at 0x7f2a917b1cd0>"
      ]
     },
     "execution_count": 45,
     "metadata": {},
     "output_type": "execute_result"
    }
   ],
   "source": [
    "# Training the model\n",
    "Model.fit(tf.expand_dims(X_train, axis=-1), y_train, epochs=100)\n"
   ]
  },
  {
   "cell_type": "code",
   "execution_count": 46,
   "id": "d86139cb",
   "metadata": {},
   "outputs": [
    {
     "name": "stdout",
     "output_type": "stream",
     "text": [
      "1/1 [==============================] - 0s 465ms/step\n",
      "R score is : 0.9999169008728738\n"
     ]
    }
   ],
   "source": [
    "# making predictions\n",
    "y_preds = Model.predict(X_test)\n",
    "\n",
    "# Evaluating the model\n",
    "print('R score is :', r2_score(y_test, y_preds))"
   ]
  },
  {
   "cell_type": "code",
   "execution_count": 47,
   "id": "5964ce87",
   "metadata": {},
   "outputs": [
    {
     "data": {
      "image/png": "[encoded data removed]",
      "text/plain": [
       "<Figure size 576x432 with 1 Axes>"
      ]
     },
     "metadata": {
      "needs_background": "light"
     },
     "output_type": "display_data"
    }
   ],
   "source": [
    "# size of the plot\n",
    "plt.figure(figsize=(8,6))\n",
    "\n",
    "# plotting training data\n",
    "plt.scatter(X_train, y_train, c=\"m\", label=\"Train data\")\n",
    "\n",
    "# plotting testing data\n",
    "plt.scatter(X_test, y_test, c=\"g\", label=\"Testing data\")\n",
    "\n",
    "# plotting predictions\n",
    "plt.scatter(X_test, y_preds, c=\"r\", label=\"Predictions\")\n",
    "\n",
    "# labeling\n",
    "plt.legend()\n",
    "plt.show()"
   ]
  },
  {
   "cell_type": "code",
   "execution_count": 7,
   "id": "1b208024",
   "metadata": {},
   "outputs": [
    {
     "data": {
      "text/html": [
       "<div>\n",
       "<style scoped>\n",
       "    .dataframe tbody tr th:only-of-type {\n",
       "        vertical-align: middle;\n",
       "    }\n",
       "\n",
       "    .dataframe tbody tr th {\n",
       "        vertical-align: top;\n",
       "    }\n",
       "\n",
       "    .dataframe thead th {\n",
       "        text-align: right;\n",
       "    }\n",
       "</style>\n",
       "<table border=\"1\" class=\"dataframe\">\n",
       "  <thead>\n",
       "    <tr style=\"text-align: right;\">\n",
       "      <th></th>\n",
       "      <th>number_of_rooms</th>\n",
       "      <th>floor</th>\n",
       "      <th>area</th>\n",
       "      <th>latitude</th>\n",
       "      <th>longitude</th>\n",
       "      <th>price</th>\n",
       "    </tr>\n",
       "  </thead>\n",
       "  <tbody>\n",
       "    <tr>\n",
       "      <th>0</th>\n",
       "      <td>1</td>\n",
       "      <td>1</td>\n",
       "      <td>58.0</td>\n",
       "      <td>38.585834</td>\n",
       "      <td>68.793715</td>\n",
       "      <td>330000</td>\n",
       "    </tr>\n",
       "    <tr>\n",
       "      <th>1</th>\n",
       "      <td>1</td>\n",
       "      <td>14</td>\n",
       "      <td>68.0</td>\n",
       "      <td>38.522254</td>\n",
       "      <td>68.749918</td>\n",
       "      <td>340000</td>\n",
       "    </tr>\n",
       "    <tr>\n",
       "      <th>2</th>\n",
       "      <td>3</td>\n",
       "      <td>8</td>\n",
       "      <td>50.0</td>\n",
       "      <td>NaN</td>\n",
       "      <td>NaN</td>\n",
       "      <td>700000</td>\n",
       "    </tr>\n",
       "    <tr>\n",
       "      <th>3</th>\n",
       "      <td>3</td>\n",
       "      <td>14</td>\n",
       "      <td>84.0</td>\n",
       "      <td>38.520835</td>\n",
       "      <td>68.747908</td>\n",
       "      <td>700000</td>\n",
       "    </tr>\n",
       "    <tr>\n",
       "      <th>4</th>\n",
       "      <td>3</td>\n",
       "      <td>3</td>\n",
       "      <td>83.0</td>\n",
       "      <td>38.564374</td>\n",
       "      <td>68.739419</td>\n",
       "      <td>415000</td>\n",
       "    </tr>\n",
       "  </tbody>\n",
       "</table>\n",
       "</div>"
      ],
      "text/plain": [
       "   number_of_rooms  floor  area   latitude  longitude   price\n",
       "0                1      1  58.0  38.585834  68.793715  330000\n",
       "1                1     14  68.0  38.522254  68.749918  340000\n",
       "2                3      8  50.0        NaN        NaN  700000\n",
       "3                3     14  84.0  38.520835  68.747908  700000\n",
       "4                3      3  83.0  38.564374  68.739419  415000"
      ]
     },
     "execution_count": 7,
     "metadata": {},
     "output_type": "execute_result"
    }
   ],
   "source": [
    "import pandas as pd\n",
    "# importing the dataset\n",
    "data = pd.read_csv('house.csv')\n",
    "\n",
    "# printing the heading\n",
    "data.head()"
   ]
  },
  {
   "cell_type": "code",
   "execution_count": 8,
   "id": "5d4f54c7",
   "metadata": {},
   "outputs": [
    {
     "data": {
      "text/plain": [
       "number_of_rooms    0\n",
       "floor              0\n",
       "area               0\n",
       "latitude           0\n",
       "longitude          0\n",
       "price              0\n",
       "dtype: int64"
      ]
     },
     "execution_count": 8,
     "metadata": {},
     "output_type": "execute_result"
    }
   ],
   "source": [
    "# removing null values\n",
    "data.dropna(axis=0, inplace=True)\n",
    "\n",
    "# finding sum of null values\n",
    "data.isnull().sum()"
   ]
  },
  {
   "cell_type": "code",
   "execution_count": 22,
   "id": "1cfc6c60",
   "metadata": {},
   "outputs": [
    {
     "data": {
      "image/png": "[encoded data removed]",
      "text/plain": [
       "<Figure size 576x432 with 1 Axes>"
      ]
     },
     "metadata": {
      "needs_background": "light"
     },
     "output_type": "display_data"
    }
   ],
   "source": [
    "# setting the size of the plot\n",
    "plt.figure(figsize=(8, 6))\n",
    "\n",
    "# plotting line plot using matplotlib\n",
    "plt.plot([i for i in range(len(data.price))], data.price, c='m')\n",
    "\n",
    "# showing the plot\n",
    "plt.show()"
   ]
  },
  {
   "cell_type": "code",
   "execution_count": 24,
   "id": "773cecd8",
   "metadata": {},
   "outputs": [],
   "source": [
    "# input and output variables\n",
    "x_data = data.drop('price', axis=1)\n",
    "y_data = data.price\n",
    "\n",
    "\n",
    "# importing the module\n",
    "from sklearn.model_selection import train_test_split\n",
    "\n",
    "# splitting the dataset into test data and training set\n",
    "X_train, X_test, y_train, y_test = train_test_split(x_data, y_data, test_size = 0.3)"
   ]
  },
  {
   "cell_type": "code",
   "execution_count": 25,
   "id": "5cf884d9",
   "metadata": {},
   "outputs": [],
   "source": [
    "# building model\n",
    "model_price = tf.keras.Sequential([tf.keras.layers.InputLayer(\n",
    "    \n",
    "    #nodes in the input layers is 5\n",
    "    input_shape=5,),\n",
    "                                   \n",
    "    #nodes in the hidden layer is 10\n",
    "  tf.keras.layers.Dense(10, activation = tf.keras.activations.relu),\n",
    "  tf.keras.layers.Dense(1)\n",
    "])"
   ]
  },
  {
   "cell_type": "code",
   "execution_count": 26,
   "id": "d6093e76",
   "metadata": {},
   "outputs": [
    {
     "name": "stdout",
     "output_type": "stream",
     "text": [
      "Epoch 1/70\n",
      "82/82 [==============================] - 1s 2ms/step - loss: 532217.3125 - mae: 532217.3125\n",
      "Epoch 2/70\n",
      "82/82 [==============================] - 0s 1ms/step - loss: 532151.0625 - mae: 532151.0625\n",
      "Epoch 3/70\n",
      "82/82 [==============================] - 0s 1ms/step - loss: 532044.3750 - mae: 532044.3750\n",
      "Epoch 4/70\n",
      "82/82 [==============================] - 0s 1ms/step - loss: 531893.0625 - mae: 531893.0625\n",
      "Epoch 5/70\n",
      "82/82 [==============================] - 0s 1ms/step - loss: 531697.0000 - mae: 531697.0000\n",
      "Epoch 6/70\n",
      "82/82 [==============================] - 0s 1ms/step - loss: 531456.8750 - mae: 531456.8750\n",
      "Epoch 7/70\n",
      "82/82 [==============================] - 0s 1ms/step - loss: 531173.9375 - mae: 531173.9375\n",
      "Epoch 8/70\n",
      "82/82 [==============================] - 0s 1ms/step - loss: 530848.6250 - mae: 530848.6250\n",
      "Epoch 9/70\n",
      "82/82 [==============================] - 0s 1ms/step - loss: 530482.2500 - mae: 530482.2500\n",
      "Epoch 10/70\n",
      "82/82 [==============================] - 0s 1ms/step - loss: 530075.9375 - mae: 530075.9375\n",
      "Epoch 11/70\n",
      "82/82 [==============================] - 0s 1ms/step - loss: 529631.1875 - mae: 529631.1875\n",
      "Epoch 12/70\n",
      "82/82 [==============================] - 0s 1ms/step - loss: 529148.5000 - mae: 529148.5000\n",
      "Epoch 13/70\n",
      "82/82 [==============================] - 0s 1ms/step - loss: 528628.9375 - mae: 528628.9375\n",
      "Epoch 14/70\n",
      "82/82 [==============================] - 0s 1ms/step - loss: 528073.3750 - mae: 528073.3750\n",
      "Epoch 15/70\n",
      "82/82 [==============================] - 0s 1ms/step - loss: 527482.6250 - mae: 527482.6250\n",
      "Epoch 16/70\n",
      "82/82 [==============================] - 0s 1ms/step - loss: 526857.8750 - mae: 526857.8750\n",
      "Epoch 17/70\n",
      "82/82 [==============================] - 0s 1ms/step - loss: 526199.5000 - mae: 526199.5000\n",
      "Epoch 18/70\n",
      "82/82 [==============================] - 0s 1ms/step - loss: 525508.3125 - mae: 525508.3125\n",
      "Epoch 19/70\n",
      "82/82 [==============================] - 0s 1ms/step - loss: 524784.9375 - mae: 524784.9375\n",
      "Epoch 20/70\n",
      "82/82 [==============================] - 0s 1ms/step - loss: 524030.4688 - mae: 524030.4688\n",
      "Epoch 21/70\n",
      "82/82 [==============================] - 0s 2ms/step - loss: 523244.8750 - mae: 523244.8750\n",
      "Epoch 22/70\n",
      "82/82 [==============================] - 0s 1ms/step - loss: 522429.6250 - mae: 522429.6250\n",
      "Epoch 23/70\n",
      "82/82 [==============================] - 0s 2ms/step - loss: 521584.5000 - mae: 521584.5000\n",
      "Epoch 24/70\n",
      "82/82 [==============================] - 0s 1ms/step - loss: 520710.6562 - mae: 520710.6562\n",
      "Epoch 25/70\n",
      "82/82 [==============================] - 0s 2ms/step - loss: 519808.5938 - mae: 519808.5938\n",
      "Epoch 26/70\n",
      "82/82 [==============================] - 0s 1ms/step - loss: 518878.2812 - mae: 518878.2812\n",
      "Epoch 27/70\n",
      "82/82 [==============================] - 0s 1ms/step - loss: 517920.9375 - mae: 517920.9375\n",
      "Epoch 28/70\n",
      "82/82 [==============================] - 0s 2ms/step - loss: 516936.8125 - mae: 516936.8125\n",
      "Epoch 29/70\n",
      "82/82 [==============================] - 0s 1ms/step - loss: 515925.5312 - mae: 515925.5312\n",
      "Epoch 30/70\n",
      "82/82 [==============================] - 0s 1ms/step - loss: 514888.6562 - mae: 514888.6562\n",
      "Epoch 31/70\n",
      "82/82 [==============================] - 0s 1ms/step - loss: 513825.6250 - mae: 513825.6250\n",
      "Epoch 32/70\n",
      "82/82 [==============================] - 0s 1ms/step - loss: 512737.8125 - mae: 512737.8125\n",
      "Epoch 33/70\n",
      "82/82 [==============================] - 0s 1ms/step - loss: 511624.0312 - mae: 511624.0312\n",
      "Epoch 34/70\n",
      "82/82 [==============================] - 0s 1ms/step - loss: 510485.9688 - mae: 510485.9688\n",
      "Epoch 35/70\n",
      "82/82 [==============================] - 0s 1ms/step - loss: 509323.0312 - mae: 509323.0312\n",
      "Epoch 36/70\n",
      "82/82 [==============================] - 0s 1ms/step - loss: 508136.6250 - mae: 508136.6250\n",
      "Epoch 37/70\n",
      "82/82 [==============================] - 0s 1ms/step - loss: 506926.6250 - mae: 506926.6250\n",
      "Epoch 38/70\n",
      "82/82 [==============================] - 0s 1ms/step - loss: 505693.6250 - mae: 505693.6250\n",
      "Epoch 39/70\n",
      "82/82 [==============================] - 0s 1ms/step - loss: 504437.2500 - mae: 504437.2500\n",
      "Epoch 40/70\n",
      "82/82 [==============================] - 0s 1ms/step - loss: 503158.0625 - mae: 503158.0625\n",
      "Epoch 41/70\n",
      "82/82 [==============================] - 0s 1ms/step - loss: 501855.0938 - mae: 501855.0938\n",
      "Epoch 42/70\n",
      "82/82 [==============================] - 0s 1ms/step - loss: 500530.0625 - mae: 500530.0625\n",
      "Epoch 43/70\n",
      "82/82 [==============================] - 0s 943us/step - loss: 499182.4062 - mae: 499182.4062\n",
      "Epoch 44/70\n",
      "82/82 [==============================] - 0s 933us/step - loss: 497812.0000 - mae: 497812.0000\n",
      "Epoch 45/70\n",
      "82/82 [==============================] - 0s 1ms/step - loss: 496418.7188 - mae: 496418.7188\n",
      "Epoch 46/70\n",
      "82/82 [==============================] - 0s 1ms/step - loss: 495002.9688 - mae: 495002.9688\n",
      "Epoch 47/70\n",
      "82/82 [==============================] - 0s 1ms/step - loss: 493566.2812 - mae: 493566.2812\n",
      "Epoch 48/70\n",
      "82/82 [==============================] - 0s 2ms/step - loss: 492107.6875 - mae: 492107.6875\n",
      "Epoch 49/70\n",
      "82/82 [==============================] - 0s 1ms/step - loss: 490628.3750 - mae: 490628.3750\n",
      "Epoch 50/70\n",
      "82/82 [==============================] - 0s 1ms/step - loss: 489126.9688 - mae: 489126.9688\n",
      "Epoch 51/70\n",
      "82/82 [==============================] - 0s 1ms/step - loss: 487604.3125 - mae: 487604.3125\n",
      "Epoch 52/70\n",
      "82/82 [==============================] - 0s 2ms/step - loss: 486059.8750 - mae: 486059.8750\n",
      "Epoch 53/70\n",
      "82/82 [==============================] - 0s 1ms/step - loss: 484494.6562 - mae: 484494.6562\n",
      "Epoch 54/70\n",
      "82/82 [==============================] - 0s 1ms/step - loss: 482908.5625 - mae: 482908.5625\n",
      "Epoch 55/70\n",
      "82/82 [==============================] - 0s 2ms/step - loss: 481300.6250 - mae: 481300.6250\n",
      "Epoch 56/70\n",
      "82/82 [==============================] - 0s 1ms/step - loss: 479673.5938 - mae: 479673.5938\n",
      "Epoch 57/70\n",
      "82/82 [==============================] - 0s 1ms/step - loss: 478023.6875 - mae: 478023.6875\n",
      "Epoch 58/70\n",
      "82/82 [==============================] - 0s 1ms/step - loss: 476354.0938 - mae: 476354.0938\n",
      "Epoch 59/70\n",
      "82/82 [==============================] - 0s 1ms/step - loss: 474665.1250 - mae: 474665.1250\n",
      "Epoch 60/70\n",
      "82/82 [==============================] - 0s 1ms/step - loss: 472956.7500 - mae: 472956.7500\n",
      "Epoch 61/70\n",
      "82/82 [==============================] - 0s 1ms/step - loss: 471227.2812 - mae: 471227.2812\n",
      "Epoch 62/70\n",
      "82/82 [==============================] - 0s 2ms/step - loss: 469478.0312 - mae: 469478.0312\n",
      "Epoch 63/70\n",
      "82/82 [==============================] - 0s 1ms/step - loss: 467708.1250 - mae: 467708.1250\n",
      "Epoch 64/70\n",
      "82/82 [==============================] - 0s 1ms/step - loss: 465918.1250 - mae: 465918.1250\n",
      "Epoch 65/70\n",
      "82/82 [==============================] - 0s 992us/step - loss: 464107.2188 - mae: 464107.2188\n",
      "Epoch 66/70\n",
      "82/82 [==============================] - 0s 939us/step - loss: 462275.9062 - mae: 462275.9062\n",
      "Epoch 67/70\n",
      "82/82 [==============================] - 0s 937us/step - loss: 460424.0312 - mae: 460424.0312\n",
      "Epoch 68/70\n",
      "82/82 [==============================] - 0s 935us/step - loss: 458552.5312 - mae: 458552.5312\n",
      "Epoch 69/70\n",
      "82/82 [==============================] - 0s 993us/step - loss: 456662.0312 - mae: 456662.0312\n",
      "Epoch 70/70\n",
      "82/82 [==============================] - 0s 1ms/step - loss: 454749.6250 - mae: 454749.6250\n"
     ]
    },
    {
     "data": {
      "text/plain": [
       "<keras.callbacks.History at 0x7f7f181bc370>"
      ]
     },
     "execution_count": 26,
     "metadata": {},
     "output_type": "execute_result"
    }
   ],
   "source": [
    "# ccompiling the model\n",
    "model_price.compile(loss=tf.keras.losses.mae,\n",
    "                    \n",
    "                # optimizer is adam\n",
    "                optimizer=tf.keras.optimizers.Adam(),\n",
    "                metrics=['mae'])\n",
    "\n",
    "# Training data model\n",
    "model_price.fit(X_train, y_train, epochs=70)\n"
   ]
  },
  {
   "cell_type": "code",
   "execution_count": 27,
   "id": "dfa4e0b8",
   "metadata": {},
   "outputs": [
    {
     "name": "stdout",
     "output_type": "stream",
     "text": [
      "35/35 [==============================] - 0s 2ms/step\n"
     ]
    }
   ],
   "source": [
    "# making predictions\n",
    "preds_price = model_price.predict(X_test)"
   ]
  },
  {
   "cell_type": "code",
   "execution_count": 28,
   "id": "342edfdb",
   "metadata": {},
   "outputs": [
    {
     "data": {
      "image/png": "[encoded data removed]",
      "text/plain": [
       "<Figure size 720x576 with 1 Axes>"
      ]
     },
     "metadata": {
      "needs_background": "light"
     },
     "output_type": "display_data"
    }
   ],
   "source": [
    "# fitting the size of the plot\n",
    "plt.figure(figsize=(10, 8))\n",
    "\n",
    "# plotting training and test\n",
    "plt.plot([i for i in range(len(y_test))],y_test, label=\"actual_values\", c='g')\n",
    "plt.plot([i for i in range(len(y_test))],preds_price, label=\"Predicted_values\", c='m')\n",
    "\n",
    "# showing the plotting\n",
    "plt.legend()\n",
    "plt.show()"
   ]
  },
  {
   "cell_type": "code",
   "execution_count": 29,
   "id": "0cf5b3a4",
   "metadata": {},
   "outputs": [
    {
     "name": "stdout",
     "output_type": "stream",
     "text": [
      "R score is : -1.3577802507468837\n"
     ]
    }
   ],
   "source": [
    "# Importing the required module\n",
    "from sklearn.metrics import r2_score\n",
    "\n",
    "# Evaluating the model\n",
    "print('R score is :', r2_score(y_test, preds_price))"
   ]
  },
  {
   "cell_type": "code",
   "execution_count": 30,
   "id": "d9524ed4",
   "metadata": {},
   "outputs": [
    {
     "name": "stdout",
     "output_type": "stream",
     "text": [
      "Epoch 1/70\n",
      "82/82 [==============================] - 1s 1ms/step - loss: 532267.0625 - mae: 532267.0625\n",
      "Epoch 2/70\n",
      "82/82 [==============================] - 0s 1ms/step - loss: 532196.9375 - mae: 532196.9375\n",
      "Epoch 3/70\n",
      "82/82 [==============================] - 0s 1ms/step - loss: 531938.8750 - mae: 531938.8750\n",
      "Epoch 4/70\n",
      "82/82 [==============================] - 0s 1ms/step - loss: 531221.1250 - mae: 531221.1250\n",
      "Epoch 5/70\n",
      "82/82 [==============================] - 0s 1ms/step - loss: 529768.1875 - mae: 529768.1875\n",
      "Epoch 6/70\n",
      "82/82 [==============================] - 0s 1ms/step - loss: 527398.1875 - mae: 527398.1875\n",
      "Epoch 7/70\n",
      "82/82 [==============================] - 0s 1ms/step - loss: 523936.5625 - mae: 523936.5625\n",
      "Epoch 8/70\n",
      "82/82 [==============================] - 0s 1ms/step - loss: 519221.0000 - mae: 519221.0000\n",
      "Epoch 9/70\n",
      "82/82 [==============================] - 0s 1ms/step - loss: 513109.0000 - mae: 513109.0000\n",
      "Epoch 10/70\n",
      "82/82 [==============================] - 0s 1ms/step - loss: 505472.0938 - mae: 505472.0938\n",
      "Epoch 11/70\n",
      "82/82 [==============================] - 0s 1ms/step - loss: 496199.4375 - mae: 496199.4375\n",
      "Epoch 12/70\n",
      "82/82 [==============================] - 0s 1ms/step - loss: 485173.0938 - mae: 485173.0938\n",
      "Epoch 13/70\n",
      "82/82 [==============================] - 0s 1ms/step - loss: 472289.1250 - mae: 472289.1250\n",
      "Epoch 14/70\n",
      "82/82 [==============================] - 0s 1ms/step - loss: 457468.4688 - mae: 457468.4688\n",
      "Epoch 15/70\n",
      "82/82 [==============================] - 0s 1ms/step - loss: 440622.5312 - mae: 440622.5312\n",
      "Epoch 16/70\n",
      "82/82 [==============================] - 0s 2ms/step - loss: 421745.5000 - mae: 421745.5000\n",
      "Epoch 17/70\n",
      "82/82 [==============================] - 0s 1ms/step - loss: 400905.9688 - mae: 400905.9688\n",
      "Epoch 18/70\n",
      "82/82 [==============================] - 0s 2ms/step - loss: 378249.0625 - mae: 378249.0625\n",
      "Epoch 19/70\n",
      "82/82 [==============================] - 0s 1ms/step - loss: 354222.3750 - mae: 354222.3750\n",
      "Epoch 20/70\n",
      "82/82 [==============================] - 0s 1ms/step - loss: 329165.1875 - mae: 329165.1875\n",
      "Epoch 21/70\n",
      "82/82 [==============================] - 0s 1ms/step - loss: 303906.8750 - mae: 303906.8750\n",
      "Epoch 22/70\n",
      "82/82 [==============================] - 0s 1ms/step - loss: 279628.3438 - mae: 279628.3438\n",
      "Epoch 23/70\n",
      "82/82 [==============================] - 0s 1ms/step - loss: 257436.2188 - mae: 257436.2188\n",
      "Epoch 24/70\n",
      "82/82 [==============================] - 0s 1ms/step - loss: 237538.3438 - mae: 237538.3438\n",
      "Epoch 25/70\n",
      "82/82 [==============================] - 0s 1ms/step - loss: 220946.6250 - mae: 220946.6250\n",
      "Epoch 26/70\n",
      "82/82 [==============================] - 0s 1ms/step - loss: 208154.5156 - mae: 208154.5156\n",
      "Epoch 27/70\n",
      "82/82 [==============================] - 0s 1ms/step - loss: 198708.6094 - mae: 198708.6094\n",
      "Epoch 28/70\n",
      "82/82 [==============================] - 0s 1ms/step - loss: 192058.1719 - mae: 192058.1719\n",
      "Epoch 29/70\n",
      "82/82 [==============================] - 0s 1ms/step - loss: 187647.4062 - mae: 187647.4062\n",
      "Epoch 30/70\n",
      "82/82 [==============================] - 0s 1ms/step - loss: 184932.1250 - mae: 184932.1250\n",
      "Epoch 31/70\n",
      "82/82 [==============================] - 0s 1ms/step - loss: 183244.5469 - mae: 183244.5469\n",
      "Epoch 32/70\n",
      "82/82 [==============================] - 0s 1ms/step - loss: 182223.9219 - mae: 182223.9219\n",
      "Epoch 33/70\n",
      "82/82 [==============================] - 0s 1ms/step - loss: 181537.7344 - mae: 181537.7344\n",
      "Epoch 34/70\n",
      "82/82 [==============================] - 0s 1ms/step - loss: 181089.6562 - mae: 181089.6562\n",
      "Epoch 35/70\n",
      "82/82 [==============================] - 0s 1ms/step - loss: 180744.3750 - mae: 180744.3750\n",
      "Epoch 36/70\n",
      "82/82 [==============================] - 0s 1ms/step - loss: 180426.0938 - mae: 180426.0938\n",
      "Epoch 37/70\n",
      "82/82 [==============================] - 0s 1ms/step - loss: 180108.2188 - mae: 180108.2188\n",
      "Epoch 38/70\n",
      "82/82 [==============================] - 0s 1ms/step - loss: 179786.2344 - mae: 179786.2344\n",
      "Epoch 39/70\n",
      "82/82 [==============================] - 0s 1ms/step - loss: 179470.1250 - mae: 179470.1250\n",
      "Epoch 40/70\n",
      "82/82 [==============================] - 0s 1ms/step - loss: 179153.6719 - mae: 179153.6719\n",
      "Epoch 41/70\n",
      "82/82 [==============================] - 0s 1ms/step - loss: 178834.8281 - mae: 178834.8281\n",
      "Epoch 42/70\n",
      "82/82 [==============================] - 0s 1ms/step - loss: 178485.5938 - mae: 178485.5938\n",
      "Epoch 43/70\n",
      "82/82 [==============================] - 0s 1ms/step - loss: 178141.1719 - mae: 178141.1719\n",
      "Epoch 44/70\n",
      "82/82 [==============================] - 0s 1ms/step - loss: 177791.2969 - mae: 177791.2969\n",
      "Epoch 45/70\n",
      "82/82 [==============================] - 0s 1ms/step - loss: 177416.9375 - mae: 177416.9375\n",
      "Epoch 46/70\n",
      "82/82 [==============================] - 0s 1ms/step - loss: 177054.6094 - mae: 177054.6094\n",
      "Epoch 47/70\n",
      "82/82 [==============================] - 0s 1ms/step - loss: 176705.6719 - mae: 176705.6719\n",
      "Epoch 48/70\n",
      "82/82 [==============================] - 0s 1ms/step - loss: 176309.7344 - mae: 176309.7344\n",
      "Epoch 49/70\n",
      "82/82 [==============================] - 0s 1ms/step - loss: 175931.6562 - mae: 175931.6562\n",
      "Epoch 50/70\n",
      "82/82 [==============================] - 0s 2ms/step - loss: 175544.8906 - mae: 175544.8906\n",
      "Epoch 51/70\n",
      "82/82 [==============================] - 0s 1ms/step - loss: 175159.6094 - mae: 175159.6094\n",
      "Epoch 52/70\n",
      "82/82 [==============================] - 0s 2ms/step - loss: 174758.4531 - mae: 174758.4531\n",
      "Epoch 53/70\n",
      "82/82 [==============================] - 0s 2ms/step - loss: 174376.7188 - mae: 174376.7188\n",
      "Epoch 54/70\n",
      "82/82 [==============================] - 0s 2ms/step - loss: 173955.4375 - mae: 173955.4375\n",
      "Epoch 55/70\n",
      "82/82 [==============================] - 0s 2ms/step - loss: 173560.1875 - mae: 173560.1875\n",
      "Epoch 56/70\n",
      "82/82 [==============================] - 0s 2ms/step - loss: 173154.5625 - mae: 173154.5625\n",
      "Epoch 57/70\n",
      "82/82 [==============================] - 0s 2ms/step - loss: 172735.8594 - mae: 172735.8594\n",
      "Epoch 58/70\n",
      "82/82 [==============================] - 0s 4ms/step - loss: 172331.4688 - mae: 172331.4688\n",
      "Epoch 59/70\n",
      "82/82 [==============================] - 0s 2ms/step - loss: 171944.6094 - mae: 171944.6094\n",
      "Epoch 60/70\n",
      "82/82 [==============================] - 0s 2ms/step - loss: 171514.7188 - mae: 171514.7188\n",
      "Epoch 61/70\n",
      "82/82 [==============================] - 0s 2ms/step - loss: 171097.9688 - mae: 171097.9688\n",
      "Epoch 62/70\n",
      "82/82 [==============================] - 0s 1ms/step - loss: 170699.5625 - mae: 170699.5625\n",
      "Epoch 63/70\n",
      "82/82 [==============================] - 0s 1ms/step - loss: 170303.3438 - mae: 170303.3438\n",
      "Epoch 64/70\n",
      "82/82 [==============================] - 0s 1ms/step - loss: 169880.2344 - mae: 169880.2344\n",
      "Epoch 65/70\n",
      "82/82 [==============================] - 0s 2ms/step - loss: 169509.8281 - mae: 169509.8281\n",
      "Epoch 66/70\n",
      "82/82 [==============================] - 0s 1ms/step - loss: 169065.6719 - mae: 169065.6719\n",
      "Epoch 67/70\n",
      "82/82 [==============================] - 0s 2ms/step - loss: 168661.7344 - mae: 168661.7344\n",
      "Epoch 68/70\n",
      "82/82 [==============================] - 0s 1ms/step - loss: 168244.5625 - mae: 168244.5625\n",
      "Epoch 69/70\n",
      "82/82 [==============================] - 0s 1ms/step - loss: 167837.8750 - mae: 167837.8750\n",
      "Epoch 70/70\n",
      "82/82 [==============================] - 0s 1ms/step - loss: 167429.4062 - mae: 167429.4062\n"
     ]
    },
    {
     "data": {
      "text/plain": [
       "<keras.callbacks.History at 0x7f7f180d9ac0>"
      ]
     },
     "execution_count": 30,
     "metadata": {},
     "output_type": "execute_result"
    }
   ],
   "source": [
    "\n",
    "# building model\n",
    "model_house = tf.keras.Sequential([tf.keras.layers.InputLayer(\n",
    "    \n",
    "    #creating input layer with 5 nodes\n",
    "    input_shape=5,),\n",
    "                    \n",
    "    # first hidden layer with 10 nodes\n",
    "  tf.keras.layers.Dense(10, activation = tf.keras.activations.relu),\n",
    "                                   \n",
    "    # second hidden layer with 20 nodes\n",
    "  tf.keras.layers.Dense(20, activation = tf.keras.activations.relu),\n",
    "                                   \n",
    "  tf.keras.layers.Dense(1)\n",
    "])\n",
    "\n",
    "# compiling the model\n",
    "model_house.compile(loss=tf.keras.losses.mae,\n",
    "                optimizer=tf.keras.optimizers.Adam(),\n",
    "                metrics=['mae'])\n",
    "\n",
    "# Training the model\n",
    "model_house.fit(X_train, y_train, epochs=70)"
   ]
  },
  {
   "cell_type": "code",
   "execution_count": 31,
   "id": "41f80a38",
   "metadata": {},
   "outputs": [
    {
     "name": "stdout",
     "output_type": "stream",
     "text": [
      "35/35 [==============================] - 0s 858us/step\n"
     ]
    },
    {
     "data": {
      "image/png": "[encoded data removed]",
      "text/plain": [
       "<Figure size 720x576 with 1 Axes>"
      ]
     },
     "metadata": {
      "needs_background": "light"
     },
     "output_type": "display_data"
    }
   ],
   "source": [
    "# making predictions\n",
    "preds_house = model_house.predict(X_test)\n",
    "\n",
    "# fitting the size of the plot\n",
    "plt.figure(figsize=(10, 8))\n",
    "\n",
    "# plotting training and test\n",
    "plt.plot([i for i in range(len(y_test))],y_test, label=\"actual_values\", c='g')\n",
    "plt.plot([i for i in range(len(y_test))],preds_house, label=\"Predicted_values\", c='m')\n",
    "\n",
    "# showing the plotting\n",
    "plt.legend()\n",
    "plt.show()"
   ]
  },
  {
   "cell_type": "code",
   "execution_count": 32,
   "id": "de7f2300",
   "metadata": {},
   "outputs": [
    {
     "name": "stdout",
     "output_type": "stream",
     "text": [
      "R score is : 0.3338121064785504\n"
     ]
    }
   ],
   "source": [
    "# Finding the r-square score\n",
    "print('R score is :', r2_score(y_test, preds_house))"
   ]
  },
  {
   "cell_type": "code",
   "execution_count": null,
   "id": "80142542",
   "metadata": {},
   "outputs": [],
   "source": []
  }
 ],
 "metadata": {
  "kernelspec": {
   "display_name": "Python 3 (ipykernel)",
   "language": "python",
   "name": "python3"
  },
  "language_info": {
   "codemirror_mode": {
    "name": "ipython",
    "version": 3
   },
   "file_extension": ".py",
   "mimetype": "text/x-python",
   "name": "python",
   "nbconvert_exporter": "python",
   "pygments_lexer": "ipython3",
   "version": "3.9.12"
  }
 },
 "nbformat": 4,
 "nbformat_minor": 5
}
