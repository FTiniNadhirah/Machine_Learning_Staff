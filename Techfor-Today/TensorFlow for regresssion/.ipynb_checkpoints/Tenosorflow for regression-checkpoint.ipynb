{
 "cells": [
  {
   "cell_type": "code",
   "execution_count": 5,
   "id": "8e665295",
   "metadata": {},
   "outputs": [],
   "source": [
    "# Importing the numpy module\n",
    "import numpy as np\n",
    "\n",
    "\n",
    "# creating random dataset\n",
    "Input = np.arange(-150, 150, 3) \n",
    "output = np.arange(-150, 150, 3)"
   ]
  },
  {
   "cell_type": "code",
   "execution_count": 8,
   "id": "af5a8215",
   "metadata": {},
   "outputs": [
    {
     "data": {
      "image/png": "[encoded data removed]",
      "text/plain": [
       "<Figure size 576x432 with 1 Axes>"
      ]
     },
     "metadata": {
      "needs_background": "light"
     },
     "output_type": "display_data"
    }
   ],
   "source": [
    "# importing the matplotlib module\n",
    "import matplotlib.pyplot as plt\n",
    "\n",
    "# fixing the size of the plot\n",
    "plt.figure( figsize = (8,6))\n",
    "\n",
    "# plotting scattered plot \n",
    "plt.scatter(Input, output, label = 'Dataset')\n",
    "\n",
    "# labeling the plot\n",
    "plt.legend()\n",
    "plt.show()"
   ]
  },
  {
   "cell_type": "code",
   "execution_count": 19,
   "id": "923a1808",
   "metadata": {},
   "outputs": [],
   "source": [
    "# Splitting training and test data\n",
    "X_train = Input[:80]\n",
    "y_train = output[:80]\n",
    "X_test = Input[80:]\n",
    "y_test = output[80:]"
   ]
  },
  {
   "cell_type": "code",
   "execution_count": 20,
   "id": "02c9204e",
   "metadata": {},
   "outputs": [
    {
     "data": {
      "image/png": "[encoded data removed]",
      "text/plain": [
       "<Figure size 576x432 with 1 Axes>"
      ]
     },
     "metadata": {
      "needs_background": "light"
     },
     "output_type": "display_data"
    }
   ],
   "source": [
    "# size of the plot\n",
    "plt.figure( figsize = (8,6))\n",
    "\n",
    "# plotting input and output data\n",
    "plt.scatter(X_train, y_train, c='b', label = 'Training data')\n",
    "plt.scatter(X_test, y_test, c='g', label='Testing data')\n",
    "\n",
    "# labeling\n",
    "plt.legend()\n",
    "plt.show()"
   ]
  },
  {
   "cell_type": "code",
   "execution_count": 29,
   "id": "29264dbe",
   "metadata": {},
   "outputs": [],
   "source": [
    "# importing tensorflow module\n",
    "import tensorflow as tf\n",
    "\n",
    "# creating input layer and output layer\n",
    "model = tf.keras.Sequential([tf.keras.layers.InputLayer(\n",
    "    input_shape=1),\n",
    "    tf.keras.layers.Dense(1)])"
   ]
  },
  {
   "cell_type": "code",
   "execution_count": 30,
   "id": "75dab4e4",
   "metadata": {},
   "outputs": [],
   "source": [
    "# second step is to compile model\n",
    "model.compile(loss=tf.keras.losses.mae,\n",
    "                optimizer=tf.keras.optimizers.Adam(),\n",
    "                metrics=['mae'])"
   ]
  },
  {
   "cell_type": "code",
   "execution_count": 31,
   "id": "a000b57d",
   "metadata": {},
   "outputs": [
    {
     "name": "stdout",
     "output_type": "stream",
     "text": [
      "Epoch 1/80\n",
      "3/3 [==============================] - 0s 2ms/step - loss: 83.3144 - mae: 83.3144\n",
      "Epoch 2/80\n",
      "3/3 [==============================] - 0s 3ms/step - loss: 83.1178 - mae: 83.1178\n",
      "Epoch 3/80\n",
      "3/3 [==============================] - 0s 4ms/step - loss: 82.9325 - mae: 82.9325\n",
      "Epoch 4/80\n",
      "3/3 [==============================] - 0s 3ms/step - loss: 82.7394 - mae: 82.7394\n",
      "Epoch 5/80\n",
      "3/3 [==============================] - 0s 3ms/step - loss: 82.5404 - mae: 82.5404\n",
      "Epoch 6/80\n",
      "3/3 [==============================] - 0s 4ms/step - loss: 82.3555 - mae: 82.3555\n",
      "Epoch 7/80\n",
      "3/3 [==============================] - 0s 3ms/step - loss: 82.1565 - mae: 82.1565\n",
      "Epoch 8/80\n",
      "3/3 [==============================] - 0s 3ms/step - loss: 81.9656 - mae: 81.9656\n",
      "Epoch 9/80\n",
      "3/3 [==============================] - 0s 2ms/step - loss: 81.7744 - mae: 81.7744\n",
      "Epoch 10/80\n",
      "3/3 [==============================] - 0s 2ms/step - loss: 81.5833 - mae: 81.5833\n",
      "Epoch 11/80\n",
      "3/3 [==============================] - 0s 2ms/step - loss: 81.3919 - mae: 81.3919\n",
      "Epoch 12/80\n",
      "3/3 [==============================] - 0s 2ms/step - loss: 81.1987 - mae: 81.1987\n",
      "Epoch 13/80\n",
      "3/3 [==============================] - 0s 3ms/step - loss: 81.0050 - mae: 81.0050\n",
      "Epoch 14/80\n",
      "3/3 [==============================] - 0s 2ms/step - loss: 80.8119 - mae: 80.8119\n",
      "Epoch 15/80\n",
      "3/3 [==============================] - 0s 3ms/step - loss: 80.6262 - mae: 80.6262\n",
      "Epoch 16/80\n",
      "3/3 [==============================] - 0s 3ms/step - loss: 80.4371 - mae: 80.4371\n",
      "Epoch 17/80\n",
      "3/3 [==============================] - 0s 3ms/step - loss: 80.2360 - mae: 80.2360\n",
      "Epoch 18/80\n",
      "3/3 [==============================] - 0s 2ms/step - loss: 80.0481 - mae: 80.0481\n",
      "Epoch 19/80\n",
      "3/3 [==============================] - 0s 2ms/step - loss: 79.8584 - mae: 79.8584\n",
      "Epoch 20/80\n",
      "3/3 [==============================] - 0s 2ms/step - loss: 79.6651 - mae: 79.6651\n",
      "Epoch 21/80\n",
      "3/3 [==============================] - 0s 2ms/step - loss: 79.4780 - mae: 79.4780\n",
      "Epoch 22/80\n",
      "3/3 [==============================] - 0s 3ms/step - loss: 79.2807 - mae: 79.2807\n",
      "Epoch 23/80\n",
      "3/3 [==============================] - 0s 3ms/step - loss: 79.0960 - mae: 79.0960\n",
      "Epoch 24/80\n",
      "3/3 [==============================] - 0s 3ms/step - loss: 78.9084 - mae: 78.9084\n",
      "Epoch 25/80\n",
      "3/3 [==============================] - 0s 3ms/step - loss: 78.7092 - mae: 78.7092\n",
      "Epoch 26/80\n",
      "3/3 [==============================] - 0s 3ms/step - loss: 78.5223 - mae: 78.5223\n",
      "Epoch 27/80\n",
      "3/3 [==============================] - 0s 3ms/step - loss: 78.3308 - mae: 78.3308\n",
      "Epoch 28/80\n",
      "3/3 [==============================] - 0s 3ms/step - loss: 78.1419 - mae: 78.1419\n",
      "Epoch 29/80\n",
      "3/3 [==============================] - 0s 3ms/step - loss: 77.9575 - mae: 77.9575\n",
      "Epoch 30/80\n",
      "3/3 [==============================] - 0s 4ms/step - loss: 77.7627 - mae: 77.7627\n",
      "Epoch 31/80\n",
      "3/3 [==============================] - 0s 3ms/step - loss: 77.5674 - mae: 77.5674\n",
      "Epoch 32/80\n",
      "3/3 [==============================] - 0s 3ms/step - loss: 77.3861 - mae: 77.3861\n",
      "Epoch 33/80\n",
      "3/3 [==============================] - 0s 3ms/step - loss: 77.1954 - mae: 77.1954\n",
      "Epoch 34/80\n",
      "3/3 [==============================] - 0s 3ms/step - loss: 77.0017 - mae: 77.0017\n",
      "Epoch 35/80\n",
      "3/3 [==============================] - 0s 3ms/step - loss: 76.8121 - mae: 76.8121\n",
      "Epoch 36/80\n",
      "3/3 [==============================] - 0s 3ms/step - loss: 76.6244 - mae: 76.6244\n",
      "Epoch 37/80\n",
      "3/3 [==============================] - 0s 3ms/step - loss: 76.4270 - mae: 76.4270\n",
      "Epoch 38/80\n",
      "3/3 [==============================] - 0s 3ms/step - loss: 76.2378 - mae: 76.2378\n",
      "Epoch 39/80\n",
      "3/3 [==============================] - 0s 3ms/step - loss: 76.0468 - mae: 76.0468\n",
      "Epoch 40/80\n",
      "3/3 [==============================] - 0s 3ms/step - loss: 75.8521 - mae: 75.8521\n",
      "Epoch 41/80\n",
      "3/3 [==============================] - 0s 4ms/step - loss: 75.6625 - mae: 75.6625\n",
      "Epoch 42/80\n",
      "3/3 [==============================] - 0s 3ms/step - loss: 75.4723 - mae: 75.4723\n",
      "Epoch 43/80\n",
      "3/3 [==============================] - 0s 3ms/step - loss: 75.2843 - mae: 75.2843\n",
      "Epoch 44/80\n",
      "3/3 [==============================] - 0s 3ms/step - loss: 75.0870 - mae: 75.0870\n",
      "Epoch 45/80\n",
      "3/3 [==============================] - 0s 3ms/step - loss: 74.8995 - mae: 74.8995\n",
      "Epoch 46/80\n",
      "3/3 [==============================] - 0s 3ms/step - loss: 74.7096 - mae: 74.7096\n",
      "Epoch 47/80\n",
      "3/3 [==============================] - 0s 2ms/step - loss: 74.5152 - mae: 74.5152\n",
      "Epoch 48/80\n",
      "3/3 [==============================] - 0s 3ms/step - loss: 74.3279 - mae: 74.3279\n",
      "Epoch 49/80\n",
      "3/3 [==============================] - 0s 3ms/step - loss: 74.1329 - mae: 74.1329\n",
      "Epoch 50/80\n",
      "3/3 [==============================] - 0s 3ms/step - loss: 73.9516 - mae: 73.9516\n",
      "Epoch 51/80\n",
      "3/3 [==============================] - 0s 3ms/step - loss: 73.7549 - mae: 73.7549\n",
      "Epoch 52/80\n",
      "3/3 [==============================] - 0s 2ms/step - loss: 73.5613 - mae: 73.5613\n",
      "Epoch 53/80\n",
      "3/3 [==============================] - 0s 3ms/step - loss: 73.3736 - mae: 73.3736\n",
      "Epoch 54/80\n",
      "3/3 [==============================] - 0s 3ms/step - loss: 73.1850 - mae: 73.1850\n",
      "Epoch 55/80\n",
      "3/3 [==============================] - 0s 3ms/step - loss: 72.9912 - mae: 72.9912\n",
      "Epoch 56/80\n",
      "3/3 [==============================] - 0s 4ms/step - loss: 72.8036 - mae: 72.8036\n",
      "Epoch 57/80\n",
      "3/3 [==============================] - 0s 4ms/step - loss: 72.6211 - mae: 72.6211\n",
      "Epoch 58/80\n",
      "3/3 [==============================] - 0s 3ms/step - loss: 72.4236 - mae: 72.4236\n",
      "Epoch 59/80\n",
      "3/3 [==============================] - 0s 3ms/step - loss: 72.2332 - mae: 72.2332\n",
      "Epoch 60/80\n",
      "3/3 [==============================] - 0s 2ms/step - loss: 72.0459 - mae: 72.0459\n",
      "Epoch 61/80\n",
      "3/3 [==============================] - 0s 3ms/step - loss: 71.8505 - mae: 71.8505\n",
      "Epoch 62/80\n",
      "3/3 [==============================] - 0s 3ms/step - loss: 71.6690 - mae: 71.6690\n",
      "Epoch 63/80\n",
      "3/3 [==============================] - 0s 3ms/step - loss: 71.4772 - mae: 71.4772\n",
      "Epoch 64/80\n",
      "3/3 [==============================] - 0s 3ms/step - loss: 71.2854 - mae: 71.2854\n",
      "Epoch 65/80\n",
      "3/3 [==============================] - 0s 3ms/step - loss: 71.0962 - mae: 71.0962\n",
      "Epoch 66/80\n",
      "3/3 [==============================] - 0s 3ms/step - loss: 70.9044 - mae: 70.9044\n",
      "Epoch 67/80\n",
      "3/3 [==============================] - 0s 3ms/step - loss: 70.7160 - mae: 70.7160\n",
      "Epoch 68/80\n",
      "3/3 [==============================] - 0s 3ms/step - loss: 70.5213 - mae: 70.5213\n",
      "Epoch 69/80\n",
      "3/3 [==============================] - 0s 3ms/step - loss: 70.3365 - mae: 70.3365\n",
      "Epoch 70/80\n",
      "3/3 [==============================] - 0s 3ms/step - loss: 70.1440 - mae: 70.1440\n",
      "Epoch 71/80\n",
      "3/3 [==============================] - 0s 3ms/step - loss: 69.9563 - mae: 69.9563\n",
      "Epoch 72/80\n",
      "3/3 [==============================] - 0s 3ms/step - loss: 69.7613 - mae: 69.7613\n",
      "Epoch 73/80\n",
      "3/3 [==============================] - 0s 10ms/step - loss: 69.5774 - mae: 69.5774\n",
      "Epoch 74/80\n",
      "3/3 [==============================] - 0s 3ms/step - loss: 69.3797 - mae: 69.3797\n",
      "Epoch 75/80\n",
      "3/3 [==============================] - 0s 3ms/step - loss: 69.1991 - mae: 69.1991\n",
      "Epoch 76/80\n",
      "3/3 [==============================] - 0s 3ms/step - loss: 69.0035 - mae: 69.0035\n",
      "Epoch 77/80\n",
      "3/3 [==============================] - 0s 3ms/step - loss: 68.8116 - mae: 68.8116\n",
      "Epoch 78/80\n",
      "3/3 [==============================] - 0s 4ms/step - loss: 68.6238 - mae: 68.6238\n",
      "Epoch 79/80\n",
      "3/3 [==============================] - 0s 3ms/step - loss: 68.4324 - mae: 68.4324\n",
      "Epoch 80/80\n",
      "3/3 [==============================] - 0s 2ms/step - loss: 68.2374 - mae: 68.2374\n"
     ]
    },
    {
     "data": {
      "text/plain": [
       "<keras.callbacks.History at 0x7f2a91ee5c40>"
      ]
     },
     "execution_count": 31,
     "metadata": {},
     "output_type": "execute_result"
    }
   ],
   "source": [
    "#traing model with 50 epochs \n",
    "model.fit(tf.expand_dims(X_train, axis=-1), y_train, epochs=80)"
   ]
  },
  {
   "cell_type": "code",
   "execution_count": 32,
   "id": "2f126ba4",
   "metadata": {},
   "outputs": [
    {
     "name": "stdout",
     "output_type": "stream",
     "text": [
      "1/1 [==============================] - 0s 342ms/step\n",
      "R score is : -53.30622327662337\n"
     ]
    }
   ],
   "source": [
    "# making predictions\n",
    "y_preds = model.predict(X_test)\n",
    "\n",
    "# Importing the required module\n",
    "from sklearn.metrics import r2_score\n",
    "\n",
    "# Evaluating the model\n",
    "print('R score is :', r2_score(y_test, y_preds))"
   ]
  },
  {
   "cell_type": "code",
   "execution_count": 34,
   "id": "cb91864b",
   "metadata": {},
   "outputs": [
    {
     "data": {
      "image/png": "[encoded data removed]",
      "text/plain": [
       "<Figure size 576x432 with 1 Axes>"
      ]
     },
     "metadata": {
      "needs_background": "light"
     },
     "output_type": "display_data"
    }
   ],
   "source": [
    "# size of the plot\n",
    "plt.figure(figsize=(8,6))\n",
    "\n",
    "# plotting training data\n",
    "plt.scatter(X_train, y_train, c=\"m\", label=\"Train data\")\n",
    "\n",
    "# plotting testing data\n",
    "plt.scatter(X_test, y_test, c=\"g\", label=\"Testing data\")\n",
    "\n",
    "# plotting predictions\n",
    "plt.scatter(X_test, y_preds, c=\"r\", label=\"Predictions\")\n",
    "\n",
    "# labeling\n",
    "plt.legend()\n",
    "plt.show()"
   ]
  },
  {
   "cell_type": "code",
   "execution_count": null,
   "id": "a678fe46",
   "metadata": {},
   "outputs": [],
   "source": []
  }
 ],
 "metadata": {
  "kernelspec": {
   "display_name": "Python 3 (ipykernel)",
   "language": "python",
   "name": "python3"
  },
  "language_info": {
   "codemirror_mode": {
    "name": "ipython",
    "version": 3
   },
   "file_extension": ".py",
   "mimetype": "text/x-python",
   "name": "python",
   "nbconvert_exporter": "python",
   "pygments_lexer": "ipython3",
   "version": "3.9.12"
  }
 },
 "nbformat": 4,
 "nbformat_minor": 5
}
