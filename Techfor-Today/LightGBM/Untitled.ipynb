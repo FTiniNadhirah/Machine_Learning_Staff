{
 "cells": [
  {
   "cell_type": "code",
   "execution_count": 1,
   "id": "7bc31483",
   "metadata": {},
   "outputs": [
    {
     "data": {
      "text/html": [
       "<div>\n",
       "<style scoped>\n",
       "    .dataframe tbody tr th:only-of-type {\n",
       "        vertical-align: middle;\n",
       "    }\n",
       "\n",
       "    .dataframe tbody tr th {\n",
       "        vertical-align: top;\n",
       "    }\n",
       "\n",
       "    .dataframe thead th {\n",
       "        text-align: right;\n",
       "    }\n",
       "</style>\n",
       "<table border=\"1\" class=\"dataframe\">\n",
       "  <thead>\n",
       "    <tr style=\"text-align: right;\">\n",
       "      <th></th>\n",
       "      <th>sepal length (cm)</th>\n",
       "      <th>sepal width (cm)</th>\n",
       "      <th>petal length (cm)</th>\n",
       "      <th>petal width (cm)</th>\n",
       "      <th>target</th>\n",
       "    </tr>\n",
       "  </thead>\n",
       "  <tbody>\n",
       "    <tr>\n",
       "      <th>0</th>\n",
       "      <td>5.1</td>\n",
       "      <td>3.5</td>\n",
       "      <td>1.4</td>\n",
       "      <td>0.2</td>\n",
       "      <td>0.0</td>\n",
       "    </tr>\n",
       "    <tr>\n",
       "      <th>1</th>\n",
       "      <td>4.9</td>\n",
       "      <td>3.0</td>\n",
       "      <td>1.4</td>\n",
       "      <td>0.2</td>\n",
       "      <td>0.0</td>\n",
       "    </tr>\n",
       "    <tr>\n",
       "      <th>2</th>\n",
       "      <td>4.7</td>\n",
       "      <td>3.2</td>\n",
       "      <td>1.3</td>\n",
       "      <td>0.2</td>\n",
       "      <td>0.0</td>\n",
       "    </tr>\n",
       "    <tr>\n",
       "      <th>3</th>\n",
       "      <td>4.6</td>\n",
       "      <td>3.1</td>\n",
       "      <td>1.5</td>\n",
       "      <td>0.2</td>\n",
       "      <td>0.0</td>\n",
       "    </tr>\n",
       "    <tr>\n",
       "      <th>4</th>\n",
       "      <td>5.0</td>\n",
       "      <td>3.6</td>\n",
       "      <td>1.4</td>\n",
       "      <td>0.2</td>\n",
       "      <td>0.0</td>\n",
       "    </tr>\n",
       "  </tbody>\n",
       "</table>\n",
       "</div>"
      ],
      "text/plain": [
       "   sepal length (cm)  sepal width (cm)  petal length (cm)  petal width (cm)  \\\n",
       "0                5.1               3.5                1.4               0.2   \n",
       "1                4.9               3.0                1.4               0.2   \n",
       "2                4.7               3.2                1.3               0.2   \n",
       "3                4.6               3.1                1.5               0.2   \n",
       "4                5.0               3.6                1.4               0.2   \n",
       "\n",
       "   target  \n",
       "0     0.0  \n",
       "1     0.0  \n",
       "2     0.0  \n",
       "3     0.0  \n",
       "4     0.0  "
      ]
     },
     "execution_count": 1,
     "metadata": {},
     "output_type": "execute_result"
    }
   ],
   "source": [
    "# importing the required modules\n",
    "from sklearn import datasets\n",
    "import pandas as pd\n",
    "import numpy as np\n",
    "\n",
    "# loading the iris dataset\n",
    "dataset = datasets.load_iris()\n",
    "\n",
    "# converting the data to DataFrame\n",
    "data = pd.DataFrame(data= np.c_[dataset['data'], dataset['target']],\n",
    "                     columns= dataset['feature_names'] + ['target'])\n",
    "\n",
    "# printing the few rows\n",
    "data.head()"
   ]
  },
  {
   "cell_type": "code",
   "execution_count": 2,
   "id": "6b51c3d8",
   "metadata": {},
   "outputs": [],
   "source": [
    "# splitting the dataset into input and output\n",
    "Input = data.drop('target', axis=1)\n",
    "Output =data['target']"
   ]
  },
  {
   "cell_type": "code",
   "execution_count": 3,
   "id": "9db30697",
   "metadata": {},
   "outputs": [],
   "source": [
    "# importing the module\n",
    "from sklearn.model_selection import train_test_split\n",
    "\n",
    "# splitting into testing and training parts\n",
    "X_train, X_test, y_train, y_test = train_test_split(Input, Output, test_size=0.30)"
   ]
  },
  {
   "cell_type": "code",
   "execution_count": 5,
   "id": "4be922c9",
   "metadata": {},
   "outputs": [
    {
     "data": {
      "text/plain": [
       "LGBMClassifier()"
      ]
     },
     "execution_count": 5,
     "metadata": {},
     "output_type": "execute_result"
    }
   ],
   "source": [
    "# importing the lightgbm module\n",
    "import lightgbm as lgb\n",
    "\n",
    "# initializing the model\n",
    "model_Clf = lgb.LGBMClassifier()\n",
    "\n",
    "# training the model\n",
    "model_Clf.fit(X_train, y_train)"
   ]
  },
  {
   "cell_type": "code",
   "execution_count": 6,
   "id": "6eca93fc",
   "metadata": {},
   "outputs": [],
   "source": [
    "# making prediction \n",
    "clf_pred = model_Clf.predict(X_test)"
   ]
  },
  {
   "cell_type": "code",
   "execution_count": 7,
   "id": "7170b0d6",
   "metadata": {},
   "outputs": [
    {
     "data": {
      "image/png": "[encoded data removed]",
      "text/plain": [
       "<Figure size 432x288 with 2 Axes>"
      ]
     },
     "metadata": {
      "needs_background": "light"
     },
     "output_type": "display_data"
    }
   ],
   "source": [
    "# importing modules\n",
    "import matplotlib.pyplot as plt\n",
    "from sklearn.metrics import confusion_matrix, ConfusionMatrixDisplay\n",
    "\n",
    "# confusion matrix plotting\n",
    "cm = confusion_matrix(y_test, clf_pred, labels=model_Clf.classes_)\n",
    "\n",
    "# labelling\n",
    "disp = ConfusionMatrixDisplay(confusion_matrix=cm, display_labels=model_Clf.classes_)\n",
    "disp.plot()\n",
    "plt.show()"
   ]
  },
  {
   "cell_type": "code",
   "execution_count": 8,
   "id": "da83707f",
   "metadata": {},
   "outputs": [
    {
     "name": "stdout",
     "output_type": "stream",
     "text": [
      "The accuracy is:  0.9777777777777777\n"
     ]
    }
   ],
   "source": [
    "# importing the module\n",
    "from sklearn.metrics import accuracy_score\n",
    "\n",
    "# printing\n",
    "print(\"The accuracy is: \", accuracy_score(y_test, clf_pred))"
   ]
  },
  {
   "cell_type": "code",
   "execution_count": 9,
   "id": "67aea901",
   "metadata": {},
   "outputs": [
    {
     "data": {
      "text/html": [
       "<div>\n",
       "<style scoped>\n",
       "    .dataframe tbody tr th:only-of-type {\n",
       "        vertical-align: middle;\n",
       "    }\n",
       "\n",
       "    .dataframe tbody tr th {\n",
       "        vertical-align: top;\n",
       "    }\n",
       "\n",
       "    .dataframe thead th {\n",
       "        text-align: right;\n",
       "    }\n",
       "</style>\n",
       "<table border=\"1\" class=\"dataframe\">\n",
       "  <thead>\n",
       "    <tr style=\"text-align: right;\">\n",
       "      <th></th>\n",
       "      <th>number_of_rooms</th>\n",
       "      <th>floor</th>\n",
       "      <th>area</th>\n",
       "      <th>latitude</th>\n",
       "      <th>longitude</th>\n",
       "      <th>price</th>\n",
       "    </tr>\n",
       "  </thead>\n",
       "  <tbody>\n",
       "    <tr>\n",
       "      <th>0</th>\n",
       "      <td>1</td>\n",
       "      <td>1</td>\n",
       "      <td>58.0</td>\n",
       "      <td>38.585834</td>\n",
       "      <td>68.793715</td>\n",
       "      <td>330000</td>\n",
       "    </tr>\n",
       "    <tr>\n",
       "      <th>1</th>\n",
       "      <td>1</td>\n",
       "      <td>14</td>\n",
       "      <td>68.0</td>\n",
       "      <td>38.522254</td>\n",
       "      <td>68.749918</td>\n",
       "      <td>340000</td>\n",
       "    </tr>\n",
       "    <tr>\n",
       "      <th>2</th>\n",
       "      <td>3</td>\n",
       "      <td>8</td>\n",
       "      <td>50.0</td>\n",
       "      <td>NaN</td>\n",
       "      <td>NaN</td>\n",
       "      <td>700000</td>\n",
       "    </tr>\n",
       "    <tr>\n",
       "      <th>3</th>\n",
       "      <td>3</td>\n",
       "      <td>14</td>\n",
       "      <td>84.0</td>\n",
       "      <td>38.520835</td>\n",
       "      <td>68.747908</td>\n",
       "      <td>700000</td>\n",
       "    </tr>\n",
       "    <tr>\n",
       "      <th>4</th>\n",
       "      <td>3</td>\n",
       "      <td>3</td>\n",
       "      <td>83.0</td>\n",
       "      <td>38.564374</td>\n",
       "      <td>68.739419</td>\n",
       "      <td>415000</td>\n",
       "    </tr>\n",
       "  </tbody>\n",
       "</table>\n",
       "</div>"
      ],
      "text/plain": [
       "   number_of_rooms  floor  area   latitude  longitude   price\n",
       "0                1      1  58.0  38.585834  68.793715  330000\n",
       "1                1     14  68.0  38.522254  68.749918  340000\n",
       "2                3      8  50.0        NaN        NaN  700000\n",
       "3                3     14  84.0  38.520835  68.747908  700000\n",
       "4                3      3  83.0  38.564374  68.739419  415000"
      ]
     },
     "execution_count": 9,
     "metadata": {},
     "output_type": "execute_result"
    }
   ],
   "source": [
    "# importing dataset \n",
    "data = pd.read_csv('house.csv')\n",
    "\n",
    "# heading of the dataset\n",
    "data.head()"
   ]
  },
  {
   "cell_type": "code",
   "execution_count": 10,
   "id": "bee529d1",
   "metadata": {},
   "outputs": [],
   "source": [
    "# input and output variables\n",
    "Input = data.drop('price', axis=1)\n",
    "Output = data.price"
   ]
  },
  {
   "cell_type": "code",
   "execution_count": 11,
   "id": "72d0239a",
   "metadata": {},
   "outputs": [],
   "source": [
    "# importing the module\n",
    "from sklearn.model_selection import train_test_split\n",
    "\n",
    "# splitting into testing and training parts\n",
    "X_train, X_test, y_train, y_test = train_test_split(Input, Output, test_size=0.25)"
   ]
  },
  {
   "cell_type": "code",
   "execution_count": 12,
   "id": "4737fa4a",
   "metadata": {},
   "outputs": [
    {
     "data": {
      "text/plain": [
       "LGBMRegressor()"
      ]
     },
     "execution_count": 12,
     "metadata": {},
     "output_type": "execute_result"
    }
   ],
   "source": [
    "# initialzing the model\n",
    "model_reg = lgb.LGBMRegressor()\n",
    "\n",
    "# train the model\n",
    "model_reg.fit(X_train,y_train)"
   ]
  },
  {
   "cell_type": "code",
   "execution_count": 14,
   "id": "a36009b5",
   "metadata": {},
   "outputs": [],
   "source": [
    "# Making predictions\n",
    "reg_pred = model_reg.predict(X_test)\n"
   ]
  },
  {
   "cell_type": "code",
   "execution_count": 16,
   "id": "09e1f950",
   "metadata": {},
   "outputs": [
    {
     "data": {
      "image/png": "[encoded data removed]",
      "text/plain": [
       "<Figure size 864x576 with 1 Axes>"
      ]
     },
     "metadata": {
      "needs_background": "light"
     },
     "output_type": "display_data"
    }
   ],
   "source": [
    "# importing the module\n",
    "import matplotlib.pyplot as plt\n",
    "\n",
    "# figure size\n",
    "plt.figure(figsize=(12, 8))\n",
    "\n",
    "# acutal values\n",
    "plt.plot([i for i in range(len(y_test))],y_test, c='g', label=\"actual values\")\n",
    "\n",
    "# predicted values\n",
    "plt.plot([i for i in range(len(y_test))],reg_pred, c='m',label=\"predicted values\")\n",
    "plt.legend()\n",
    "plt.show()"
   ]
  },
  {
   "cell_type": "code",
   "execution_count": 18,
   "id": "05a4eb9c",
   "metadata": {},
   "outputs": [
    {
     "name": "stdout",
     "output_type": "stream",
     "text": [
      "R score is : 0.6274307366384565\n"
     ]
    }
   ],
   "source": [
    "#importing the r-square score\n",
    "from sklearn.metrics import r2_score\n",
    "\n",
    "# calculating the r score \n",
    "print('R score is :', r2_score(y_test, reg_pred))"
   ]
  },
  {
   "cell_type": "code",
   "execution_count": null,
   "id": "fa946141",
   "metadata": {},
   "outputs": [],
   "source": []
  }
 ],
 "metadata": {
  "kernelspec": {
   "display_name": "Python 3 (ipykernel)",
   "language": "python",
   "name": "python3"
  },
  "language_info": {
   "codemirror_mode": {
    "name": "ipython",
    "version": 3
   },
   "file_extension": ".py",
   "mimetype": "text/x-python",
   "name": "python",
   "nbconvert_exporter": "python",
   "pygments_lexer": "ipython3",
   "version": "3.9.12"
  }
 },
 "nbformat": 4,
 "nbformat_minor": 5
}
