{
 "cells": [
  {
   "cell_type": "code",
   "execution_count": 1,
   "id": "afe656fb",
   "metadata": {},
   "outputs": [],
   "source": [
    "# importing the required modules\n",
    "import matplotlib.pyplot as plt\n",
    "import pandas as pd\n",
    "#Import the data set for KNN algorithm\n",
    "dataset = pd.read_csv('KNN_Data.csv')\n",
    "# storing the input values in the X variable\n",
    "X=dataset.iloc[:,[0,1]].values\n",
    "# storing all the ouputs in y variable\n",
    "y=dataset.iloc[:,2].values"
   ]
  },
  {
   "cell_type": "code",
   "execution_count": 4,
   "id": "f555df3d",
   "metadata": {},
   "outputs": [],
   "source": [
    "# importing the train_test_split method from sklearn\n",
    "from sklearn.model_selection import train_test_split\n",
    "# splitting the data \n",
    "X_train, X_test, y_train, y_test =train_test_split(X,y,test_size=0.30, random_state=0)\n",
    "# applying standard scale method\n",
    "from sklearn.preprocessing import StandardScaler\n",
    "sc = StandardScaler()\n",
    "# scaling training and testing data set\n",
    "X_train = sc.fit_transform(X_train)\n",
    "X_test = sc.transform(X_test)\n",
    "# importing KNN algorithm\n",
    "from sklearn.neighbors import KNeighborsClassifier\n",
    "# K value set to be 3\n",
    "classifer = KNeighborsClassifier(n_neighbors=3 )\n",
    "# model training\n",
    "classifer.fit(X_train,y_train)\n",
    "# testing the model\n",
    "y_pred= classifer.predict(X_test)"
   ]
  },
  {
   "cell_type": "code",
   "execution_count": 5,
   "id": "0fa5daa8",
   "metadata": {},
   "outputs": [
    {
     "name": "stdout",
     "output_type": "stream",
     "text": [
      "0.8484848484848485\n"
     ]
    }
   ],
   "source": [
    "# importing accuracy_score\n",
    "from sklearn.metrics import accuracy_score\n",
    "# printing accuracy\n",
    "print(accuracy_score(y_test,y_pred))"
   ]
  },
  {
   "cell_type": "code",
   "execution_count": 11,
   "id": "4397dd7c",
   "metadata": {},
   "outputs": [
    {
     "name": "stdout",
     "output_type": "stream",
     "text": [
      "[[50 10]\n",
      " [ 5 34]]\n"
     ]
    },
    {
     "data": {
      "image/png": "[encoded data removed]",
      "text/plain": [
       "<Figure size 432x288 with 2 Axes>"
      ]
     },
     "metadata": {
      "needs_background": "light"
     },
     "output_type": "display_data"
    }
   ],
   "source": [
    "# importing seaborn\n",
    "import seaborn as sns\n",
    "# Making the Confusion Matrix\n",
    "from sklearn.metrics import confusion_matrix\n",
    "# providing actual and predicted values\n",
    "cm = confusion_matrix(y_test, y_pred)\n",
    "# If True, write the data value in each cell\n",
    "sns.heatmap(cm,annot=True)\n",
    "# saving confusion matrix in png form\n",
    "plt.savefig('confusion_Matrix.png')\n",
    "print(cm)\n"
   ]
  },
  {
   "cell_type": "code",
   "execution_count": 12,
   "id": "7c8c3a2e",
   "metadata": {},
   "outputs": [
    {
     "name": "stdout",
     "output_type": "stream",
     "text": [
      "              precision    recall  f1-score   support\n",
      "\n",
      "           0       0.91      0.83      0.87        60\n",
      "           1       0.77      0.87      0.82        39\n",
      "\n",
      "    accuracy                           0.85        99\n",
      "   macro avg       0.84      0.85      0.84        99\n",
      "weighted avg       0.86      0.85      0.85        99\n",
      "\n"
     ]
    }
   ],
   "source": [
    "# importing accuracy score\n",
    "from sklearn.metrics import accuracy_score\n",
    "accuracy_score(y_test,y_pred)\n",
    "# finding the whole report\n",
    "from sklearn.metrics import classification_report\n",
    "print(classification_report(y_test, y_pred))"
   ]
  },
  {
   "cell_type": "code",
   "execution_count": 16,
   "id": "dac3029f",
   "metadata": {},
   "outputs": [
    {
     "name": "stdout",
     "output_type": "stream",
     "text": [
      "[[5 1 1]\n",
      " [1 4 1]\n",
      " [1 1 4]]\n"
     ]
    },
    {
     "data": {
      "image/png": "[encoded data removed]",
      "text/plain": [
       "<Figure size 432x288 with 2 Axes>"
      ]
     },
     "metadata": {
      "needs_background": "light"
     },
     "output_type": "display_data"
    }
   ],
   "source": [
    "# importing the modules\n",
    "import pandas as pd\n",
    "import seaborn as sns\n",
    "#Import the data set from Desktop\n",
    "dataset = pd.read_csv('MultiClass.csv')\n",
    "Actual = dataset.iloc[:,0].values\n",
    "Predicted = dataset.iloc[:,1].values\n",
    "# Making the Confusion Matrix\n",
    "from sklearn.metrics import confusion_matrix\n",
    "cm = confusion_matrix(Actual, Predicted)\n",
    "# If True, write the data value in each cell\n",
    "sns.heatmap(cm,annot=True)\n",
    "plt.savefig('h.png')\n",
    "print(cm)\n",
    "\n",
    "\n",
    "\n",
    "# from sklearn.metrics import accuracy_score\n",
    "# accuracy_score(Actual,Predicted)\n",
    "\n",
    "# from sklearn.metrics import classification_report\n",
    "# print(classification_report(Actual, Predicted))\n",
    "                            "
   ]
  },
  {
   "cell_type": "code",
   "execution_count": 18,
   "id": "d5489892",
   "metadata": {},
   "outputs": [
    {
     "data": {
      "text/plain": [
       "Text(0, 0.5, 'Error Rate')"
      ]
     },
     "execution_count": 18,
     "metadata": {},
     "output_type": "execute_result"
    },
    {
     "data": {
      "image/png": "[encoded data removed]",
      "text/plain": [
       "<Figure size 720x288 with 1 Axes>"
      ]
     },
     "metadata": {
      "needs_background": "light"
     },
     "output_type": "display_data"
    }
   ],
   "source": [
    "error_rate = []\n",
    "for i in range(1,40):\n",
    "    knn = KNeighborsClassifier(n_neighbors=i)\n",
    "    knn.fit(X_train, y_train)\n",
    "    pred_i = knn.predict(X_test)\n",
    "    error_rate.append(np.mean(pred_i != y_test))\n",
    "# Configure and plot error rate over k values\n",
    "plt.figure(figsize=(10,4))\n",
    "plt.plot(range(1,40), error_rate, color='blue', linestyle='dashed', marker='o', markerfacecolor='red', markersize=10)\n",
    "plt.title('Error Rate vs. K-Values')\n",
    "plt.xlabel('K-Values')\n",
    "plt.ylabel('Error Rate')\n",
    "                            "
   ]
  },
  {
   "cell_type": "code",
   "execution_count": null,
   "id": "d6c2b4fd",
   "metadata": {},
   "outputs": [],
   "source": []
  }
 ],
 "metadata": {
  "kernelspec": {
   "display_name": "Python 3",
   "language": "python",
   "name": "python3"
  },
  "language_info": {
   "codemirror_mode": {
    "name": "ipython",
    "version": 3
   },
   "file_extension": ".py",
   "mimetype": "text/x-python",
   "name": "python",
   "nbconvert_exporter": "python",
   "pygments_lexer": "ipython3",
   "version": "3.8.10"
  }
 },
 "nbformat": 4,
 "nbformat_minor": 5
}
