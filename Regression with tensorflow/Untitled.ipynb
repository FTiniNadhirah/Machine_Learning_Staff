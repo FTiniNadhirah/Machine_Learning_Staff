{
 "cells": [
  {
   "cell_type": "code",
   "execution_count": 71,
   "id": "e5600f77",
   "metadata": {},
   "outputs": [],
   "source": [
    "# Importing the numpy module\n",
    "import numpy as np\n",
    "\n",
    "\n",
    "# creating \n",
    "X = np.arange(-210, 210, 3) \n",
    "y = np.arange(-200, 220, 3)"
   ]
  },
  {
   "cell_type": "code",
   "execution_count": 72,
   "id": "5d271fe0",
   "metadata": {},
   "outputs": [
    {
     "data": {
      "text/plain": [
       "((140,), (140,))"
      ]
     },
     "execution_count": 72,
     "metadata": {},
     "output_type": "execute_result"
    }
   ],
   "source": [
    "# printing the shape \n",
    "X.shape, y.shape"
   ]
  },
  {
   "cell_type": "code",
   "execution_count": 73,
   "id": "cf9abe93",
   "metadata": {},
   "outputs": [
    {
     "data": {
      "image/png": "[encoded data removed]",
      "text/plain": [
       "<Figure size 864x432 with 1 Axes>"
      ]
     },
     "metadata": {
      "needs_background": "light"
     },
     "output_type": "display_data"
    }
   ],
   "source": [
    "# importing the matplotlib module\n",
    "import matplotlib.pyplot as plt\n",
    "\n",
    "# fixing the size of the plot\n",
    "plt.figure( figsize = (12,6))\n",
    "\n",
    "# plotting scattered plot\n",
    "plt.scatter(X, y, label = 'Dataset')\n",
    "plt.legend()\n",
    "plt.show()"
   ]
  },
  {
   "cell_type": "code",
   "execution_count": 74,
   "id": "5f07f24d",
   "metadata": {},
   "outputs": [
    {
     "data": {
      "text/plain": [
       "(110, 30)"
      ]
     },
     "execution_count": 74,
     "metadata": {},
     "output_type": "execute_result"
    }
   ],
   "source": [
    "# Splitting the data into testinga nd training parts\n",
    "X_train = X[:110]\n",
    "y_train = y[:110]\n",
    "X_test = X[110:]\n",
    "y_test = y[110:]\n",
    "len(X_train), len(X_test)"
   ]
  },
  {
   "cell_type": "code",
   "execution_count": 75,
   "id": "7ef830b7",
   "metadata": {},
   "outputs": [
    {
     "data": {
      "image/png": "[encoded data removed]",
      "text/plain": [
       "<Figure size 864x432 with 1 Axes>"
      ]
     },
     "metadata": {
      "needs_background": "light"
     },
     "output_type": "display_data"
    }
   ],
   "source": [
    "# size of the plot\n",
    "plt.figure( figsize = (12,6))\n",
    "\n",
    "# plotting training and testing parts\n",
    "plt.scatter(X_train, y_train, c='b', label = 'Training data')\n",
    "plt.scatter(X_test, y_test, c='g', label='Testing data')\n",
    "plt.legend()\n",
    "plt.show()"
   ]
  },
  {
   "cell_type": "code",
   "execution_count": 76,
   "id": "e4e72b82",
   "metadata": {},
   "outputs": [],
   "source": [
    "# importing tensorflow module\n",
    "import tensorflow as tf\n",
    "\n",
    "# creating model and dense layer\n",
    "model = tf.keras.Sequential([tf.keras.layers.Dense(1)])"
   ]
  },
  {
   "cell_type": "code",
   "execution_count": 77,
   "id": "50bfae38",
   "metadata": {},
   "outputs": [],
   "source": [
    "# compiling the model \n",
    "model.compile( loss = tf.keras.losses.mae,\n",
    "              optimizer = 'adam',\n",
    "              metrics = ['mae'])"
   ]
  },
  {
   "cell_type": "code",
   "execution_count": 79,
   "id": "5fb57be5",
   "metadata": {},
   "outputs": [
    {
     "name": "stdout",
     "output_type": "stream",
     "text": [
      "Epoch 1/10\n",
      "4/4 [==============================] - 0s 2ms/step - loss: 24.7668 - mae: 24.7668\n",
      "Epoch 2/10\n",
      "4/4 [==============================] - 0s 3ms/step - loss: 24.4368 - mae: 24.4368\n",
      "Epoch 3/10\n",
      "4/4 [==============================] - 0s 3ms/step - loss: 24.1172 - mae: 24.1172\n",
      "Epoch 4/10\n",
      "4/4 [==============================] - 0s 3ms/step - loss: 23.8018 - mae: 23.8018\n",
      "Epoch 5/10\n",
      "4/4 [==============================] - 0s 3ms/step - loss: 23.4966 - mae: 23.4966\n",
      "Epoch 6/10\n",
      "4/4 [==============================] - 0s 3ms/step - loss: 23.1891 - mae: 23.1891\n",
      "Epoch 7/10\n",
      "4/4 [==============================] - 0s 3ms/step - loss: 22.8796 - mae: 22.8796\n",
      "Epoch 8/10\n",
      "4/4 [==============================] - 0s 2ms/step - loss: 22.5868 - mae: 22.5868\n",
      "Epoch 9/10\n",
      "4/4 [==============================] - 0s 2ms/step - loss: 22.2909 - mae: 22.2909\n",
      "Epoch 10/10\n",
      "4/4 [==============================] - 0s 3ms/step - loss: 21.9730 - mae: 21.9730\n"
     ]
    },
    {
     "data": {
      "text/plain": [
       "<keras.callbacks.History at 0x7f22c450e400>"
      ]
     },
     "execution_count": 79,
     "metadata": {},
     "output_type": "execute_result"
    }
   ],
   "source": [
    "# tensorflow run model/train model\n",
    "model.fit(tf.expand_dims(X_train, axis=-1), y_train, epochs=10)"
   ]
  },
  {
   "cell_type": "code",
   "execution_count": 82,
   "id": "41d34772",
   "metadata": {},
   "outputs": [
    {
     "name": "stdout",
     "output_type": "stream",
     "text": [
      "1/1 [==============================] - 0s 19ms/step\n"
     ]
    }
   ],
   "source": [
    "# Predictions\n",
    "preds = model.predict(X_test)"
   ]
  },
  {
   "cell_type": "code",
   "execution_count": 83,
   "id": "58b848a7",
   "metadata": {},
   "outputs": [
    {
     "name": "stdout",
     "output_type": "stream",
     "text": [
      "R score is : -3.2367792320952944\n"
     ]
    }
   ],
   "source": [
    "import sklearn\n",
    "\n",
    "# Importing the required module\n",
    "from sklearn.metrics import r2_score\n",
    "\n",
    "# Evaluating the model\n",
    "print('R score is :', r2_score(y_test, preds))"
   ]
  },
  {
   "cell_type": "code",
   "execution_count": null,
   "id": "beed8529",
   "metadata": {},
   "outputs": [],
   "source": [
    "def plot_preds(traindata = X_train,\n",
    "               trainlabels = y_train,\n",
    "               testdata = X_test,\n",
    "               testlabels = y_test,\n",
    "               predictions = preds):"
   ]
  },
  {
   "cell_type": "code",
   "execution_count": 85,
   "id": "79793c61",
   "metadata": {},
   "outputs": [
    {
     "data": {
      "image/png": "[encoded data removed]",
      "text/plain": [
       "<Figure size 864x432 with 1 Axes>"
      ]
     },
     "metadata": {
      "needs_background": "light"
     },
     "output_type": "display_data"
    }
   ],
   "source": [
    "# size of the plot\n",
    "plt.figure(figsize=(12,6))\n",
    "\n",
    "# plotting the garah\n",
    "plt.scatter(X_train, y_train, c=\"b\", label=\"Training data\")\n",
    "plt.scatter(X_test, y_test, c=\"g\", label=\"Testing data\")\n",
    "plt.scatter(X_test, preds, c=\"r\", label=\"Predictions\")\n",
    "plt.legend()\n",
    "plt.show()"
   ]
  },
  {
   "cell_type": "code",
   "execution_count": 86,
   "id": "43d3e008",
   "metadata": {},
   "outputs": [
    {
     "name": "stdout",
     "output_type": "stream",
     "text": [
      "Epoch 1/100\n",
      "4/4 [==============================] - 0s 2ms/step - loss: 21.6790 - mae: 21.6790\n",
      "Epoch 2/100\n",
      "4/4 [==============================] - 0s 2ms/step - loss: 21.3736 - mae: 21.3736\n",
      "Epoch 3/100\n",
      "4/4 [==============================] - 0s 3ms/step - loss: 21.0678 - mae: 21.0678\n",
      "Epoch 4/100\n",
      "4/4 [==============================] - 0s 4ms/step - loss: 20.7604 - mae: 20.7604\n",
      "Epoch 5/100\n",
      "4/4 [==============================] - 0s 3ms/step - loss: 20.4598 - mae: 20.4598\n",
      "Epoch 6/100\n",
      "4/4 [==============================] - 0s 4ms/step - loss: 20.1537 - mae: 20.1537\n",
      "Epoch 7/100\n",
      "4/4 [==============================] - 0s 3ms/step - loss: 19.8454 - mae: 19.8454\n",
      "Epoch 8/100\n",
      "4/4 [==============================] - 0s 4ms/step - loss: 19.5498 - mae: 19.5498\n",
      "Epoch 9/100\n",
      "4/4 [==============================] - 0s 4ms/step - loss: 19.2530 - mae: 19.2530\n",
      "Epoch 10/100\n",
      "4/4 [==============================] - 0s 4ms/step - loss: 18.9343 - mae: 18.9343\n",
      "Epoch 11/100\n",
      "4/4 [==============================] - 0s 3ms/step - loss: 18.6333 - mae: 18.6333\n",
      "Epoch 12/100\n",
      "4/4 [==============================] - 0s 3ms/step - loss: 18.3385 - mae: 18.3385\n",
      "Epoch 13/100\n",
      "4/4 [==============================] - 0s 3ms/step - loss: 18.0373 - mae: 18.0373\n",
      "Epoch 14/100\n",
      "4/4 [==============================] - 0s 3ms/step - loss: 17.7376 - mae: 17.7376\n",
      "Epoch 15/100\n",
      "4/4 [==============================] - 0s 3ms/step - loss: 17.4416 - mae: 17.4416\n",
      "Epoch 16/100\n",
      "4/4 [==============================] - 0s 2ms/step - loss: 17.1448 - mae: 17.1448\n",
      "Epoch 17/100\n",
      "4/4 [==============================] - 0s 3ms/step - loss: 16.8629 - mae: 16.8629\n",
      "Epoch 18/100\n",
      "4/4 [==============================] - 0s 2ms/step - loss: 16.5650 - mae: 16.5650\n",
      "Epoch 19/100\n",
      "4/4 [==============================] - 0s 2ms/step - loss: 16.2676 - mae: 16.2676\n",
      "Epoch 20/100\n",
      "4/4 [==============================] - 0s 3ms/step - loss: 15.9799 - mae: 15.9799\n",
      "Epoch 21/100\n",
      "4/4 [==============================] - 0s 3ms/step - loss: 15.6953 - mae: 15.6953\n",
      "Epoch 22/100\n",
      "4/4 [==============================] - 0s 3ms/step - loss: 15.4121 - mae: 15.4121\n",
      "Epoch 23/100\n",
      "4/4 [==============================] - 0s 3ms/step - loss: 15.1136 - mae: 15.1136\n",
      "Epoch 24/100\n",
      "4/4 [==============================] - 0s 3ms/step - loss: 14.8253 - mae: 14.8253\n",
      "Epoch 25/100\n",
      "4/4 [==============================] - 0s 3ms/step - loss: 14.5456 - mae: 14.5456\n",
      "Epoch 26/100\n",
      "4/4 [==============================] - 0s 3ms/step - loss: 14.2642 - mae: 14.2642\n",
      "Epoch 27/100\n",
      "4/4 [==============================] - 0s 3ms/step - loss: 13.9938 - mae: 13.9938\n",
      "Epoch 28/100\n",
      "4/4 [==============================] - 0s 2ms/step - loss: 13.7038 - mae: 13.7038\n",
      "Epoch 29/100\n",
      "4/4 [==============================] - 0s 2ms/step - loss: 13.4358 - mae: 13.4358\n",
      "Epoch 30/100\n",
      "4/4 [==============================] - 0s 3ms/step - loss: 13.1534 - mae: 13.1534\n",
      "Epoch 31/100\n",
      "4/4 [==============================] - 0s 3ms/step - loss: 12.8783 - mae: 12.8783\n",
      "Epoch 32/100\n",
      "4/4 [==============================] - 0s 3ms/step - loss: 12.6166 - mae: 12.6166\n",
      "Epoch 33/100\n",
      "4/4 [==============================] - 0s 3ms/step - loss: 12.3418 - mae: 12.3418\n",
      "Epoch 34/100\n",
      "4/4 [==============================] - 0s 3ms/step - loss: 12.0841 - mae: 12.0841\n",
      "Epoch 35/100\n",
      "4/4 [==============================] - 0s 3ms/step - loss: 11.8204 - mae: 11.8204\n",
      "Epoch 36/100\n",
      "4/4 [==============================] - 0s 4ms/step - loss: 11.5646 - mae: 11.5646\n",
      "Epoch 37/100\n",
      "4/4 [==============================] - 0s 3ms/step - loss: 11.3248 - mae: 11.3248\n",
      "Epoch 38/100\n",
      "4/4 [==============================] - 0s 3ms/step - loss: 11.0771 - mae: 11.0771\n",
      "Epoch 39/100\n",
      "4/4 [==============================] - 0s 2ms/step - loss: 10.8304 - mae: 10.8304\n",
      "Epoch 40/100\n",
      "4/4 [==============================] - 0s 3ms/step - loss: 10.5969 - mae: 10.5969\n",
      "Epoch 41/100\n",
      "4/4 [==============================] - 0s 2ms/step - loss: 10.3628 - mae: 10.3628\n",
      "Epoch 42/100\n",
      "4/4 [==============================] - 0s 3ms/step - loss: 10.1451 - mae: 10.1451\n",
      "Epoch 43/100\n",
      "4/4 [==============================] - 0s 3ms/step - loss: 9.9371 - mae: 9.9371\n",
      "Epoch 44/100\n",
      "4/4 [==============================] - 0s 2ms/step - loss: 9.7197 - mae: 9.7197\n",
      "Epoch 45/100\n",
      "4/4 [==============================] - 0s 3ms/step - loss: 9.5170 - mae: 9.5170\n",
      "Epoch 46/100\n",
      "4/4 [==============================] - 0s 3ms/step - loss: 9.3160 - mae: 9.3160\n",
      "Epoch 47/100\n",
      "4/4 [==============================] - 0s 3ms/step - loss: 9.1341 - mae: 9.1341\n",
      "Epoch 48/100\n",
      "4/4 [==============================] - 0s 3ms/step - loss: 8.9689 - mae: 8.9689\n",
      "Epoch 49/100\n",
      "4/4 [==============================] - 0s 3ms/step - loss: 8.7843 - mae: 8.7843\n",
      "Epoch 50/100\n",
      "4/4 [==============================] - 0s 3ms/step - loss: 8.6329 - mae: 8.6329\n",
      "Epoch 51/100\n",
      "4/4 [==============================] - 0s 2ms/step - loss: 8.4844 - mae: 8.4844\n",
      "Epoch 52/100\n",
      "4/4 [==============================] - 0s 3ms/step - loss: 8.3456 - mae: 8.3456\n",
      "Epoch 53/100\n",
      "4/4 [==============================] - 0s 3ms/step - loss: 8.2000 - mae: 8.2000\n",
      "Epoch 54/100\n",
      "4/4 [==============================] - 0s 3ms/step - loss: 8.1023 - mae: 8.1023\n",
      "Epoch 55/100\n",
      "4/4 [==============================] - 0s 2ms/step - loss: 7.9848 - mae: 7.9848\n",
      "Epoch 56/100\n",
      "4/4 [==============================] - 0s 2ms/step - loss: 7.8882 - mae: 7.8882\n",
      "Epoch 57/100\n",
      "4/4 [==============================] - 0s 2ms/step - loss: 7.7985 - mae: 7.7985\n",
      "Epoch 58/100\n",
      "4/4 [==============================] - 0s 2ms/step - loss: 7.7291 - mae: 7.7291\n",
      "Epoch 59/100\n",
      "4/4 [==============================] - 0s 2ms/step - loss: 7.6692 - mae: 7.6692\n",
      "Epoch 60/100\n",
      "4/4 [==============================] - 0s 2ms/step - loss: 7.6137 - mae: 7.6137\n",
      "Epoch 61/100\n",
      "4/4 [==============================] - 0s 2ms/step - loss: 7.5570 - mae: 7.5570\n",
      "Epoch 62/100\n",
      "4/4 [==============================] - 0s 2ms/step - loss: 7.5278 - mae: 7.5278\n",
      "Epoch 63/100\n",
      "4/4 [==============================] - 0s 3ms/step - loss: 7.4883 - mae: 7.4883\n",
      "Epoch 64/100\n",
      "4/4 [==============================] - 0s 2ms/step - loss: 7.4639 - mae: 7.4639\n",
      "Epoch 65/100\n",
      "4/4 [==============================] - 0s 2ms/step - loss: 7.4457 - mae: 7.4457\n",
      "Epoch 66/100\n",
      "4/4 [==============================] - 0s 2ms/step - loss: 7.4351 - mae: 7.4351\n",
      "Epoch 67/100\n",
      "4/4 [==============================] - 0s 2ms/step - loss: 7.4170 - mae: 7.4170\n",
      "Epoch 68/100\n",
      "4/4 [==============================] - 0s 3ms/step - loss: 7.4095 - mae: 7.4095\n",
      "Epoch 69/100\n",
      "4/4 [==============================] - 0s 2ms/step - loss: 7.4035 - mae: 7.4035\n",
      "Epoch 70/100\n",
      "4/4 [==============================] - 0s 2ms/step - loss: 7.3931 - mae: 7.3931\n",
      "Epoch 71/100\n",
      "4/4 [==============================] - 0s 2ms/step - loss: 7.3877 - mae: 7.3877\n",
      "Epoch 72/100\n",
      "4/4 [==============================] - 0s 2ms/step - loss: 7.3809 - mae: 7.3809\n",
      "Epoch 73/100\n",
      "4/4 [==============================] - 0s 2ms/step - loss: 7.3747 - mae: 7.3747\n",
      "Epoch 74/100\n",
      "4/4 [==============================] - 0s 2ms/step - loss: 7.3685 - mae: 7.3685\n",
      "Epoch 75/100\n",
      "4/4 [==============================] - 0s 2ms/step - loss: 7.3628 - mae: 7.3628\n",
      "Epoch 76/100\n",
      "4/4 [==============================] - 0s 2ms/step - loss: 7.3569 - mae: 7.3569\n",
      "Epoch 77/100\n",
      "4/4 [==============================] - 0s 2ms/step - loss: 7.3513 - mae: 7.3513\n",
      "Epoch 78/100\n",
      "4/4 [==============================] - 0s 2ms/step - loss: 7.3458 - mae: 7.3458\n",
      "Epoch 79/100\n",
      "4/4 [==============================] - 0s 2ms/step - loss: 7.3406 - mae: 7.3406\n",
      "Epoch 80/100\n",
      "4/4 [==============================] - 0s 2ms/step - loss: 7.3352 - mae: 7.3352\n",
      "Epoch 81/100\n",
      "4/4 [==============================] - 0s 2ms/step - loss: 7.3297 - mae: 7.3297\n",
      "Epoch 82/100\n",
      "4/4 [==============================] - 0s 2ms/step - loss: 7.3247 - mae: 7.3247\n",
      "Epoch 83/100\n",
      "4/4 [==============================] - 0s 2ms/step - loss: 7.3196 - mae: 7.3196\n",
      "Epoch 84/100\n",
      "4/4 [==============================] - 0s 2ms/step - loss: 7.3141 - mae: 7.3141\n",
      "Epoch 85/100\n",
      "4/4 [==============================] - 0s 2ms/step - loss: 7.3088 - mae: 7.3088\n",
      "Epoch 86/100\n",
      "4/4 [==============================] - 0s 2ms/step - loss: 7.3040 - mae: 7.3040\n",
      "Epoch 87/100\n",
      "4/4 [==============================] - 0s 2ms/step - loss: 7.2999 - mae: 7.2999\n",
      "Epoch 88/100\n"
     ]
    },
    {
     "name": "stdout",
     "output_type": "stream",
     "text": [
      "4/4 [==============================] - 0s 2ms/step - loss: 7.2952 - mae: 7.2952\n",
      "Epoch 89/100\n",
      "4/4 [==============================] - 0s 2ms/step - loss: 7.2906 - mae: 7.2906\n",
      "Epoch 90/100\n",
      "4/4 [==============================] - 0s 2ms/step - loss: 7.2864 - mae: 7.2864\n",
      "Epoch 91/100\n",
      "4/4 [==============================] - 0s 2ms/step - loss: 7.2812 - mae: 7.2812\n",
      "Epoch 92/100\n",
      "4/4 [==============================] - 0s 2ms/step - loss: 7.2759 - mae: 7.2759\n",
      "Epoch 93/100\n",
      "4/4 [==============================] - 0s 2ms/step - loss: 7.2712 - mae: 7.2712\n",
      "Epoch 94/100\n",
      "4/4 [==============================] - 0s 2ms/step - loss: 7.2659 - mae: 7.2659\n",
      "Epoch 95/100\n",
      "4/4 [==============================] - 0s 2ms/step - loss: 7.2610 - mae: 7.2610\n",
      "Epoch 96/100\n",
      "4/4 [==============================] - 0s 2ms/step - loss: 7.2563 - mae: 7.2563\n",
      "Epoch 97/100\n",
      "4/4 [==============================] - 0s 2ms/step - loss: 7.2516 - mae: 7.2516\n",
      "Epoch 98/100\n",
      "4/4 [==============================] - 0s 2ms/step - loss: 7.2472 - mae: 7.2472\n",
      "Epoch 99/100\n",
      "4/4 [==============================] - 0s 2ms/step - loss: 7.2427 - mae: 7.2427\n",
      "Epoch 100/100\n",
      "4/4 [==============================] - 0s 4ms/step - loss: 7.2379 - mae: 7.2379\n"
     ]
    },
    {
     "data": {
      "text/plain": [
       "<keras.callbacks.History at 0x7f22681414c0>"
      ]
     },
     "execution_count": 86,
     "metadata": {},
     "output_type": "execute_result"
    }
   ],
   "source": [
    "# tensorflow run model/train model\n",
    "model.fit(tf.expand_dims(X_train, axis=-1), y_train, epochs=100)"
   ]
  },
  {
   "cell_type": "code",
   "execution_count": 87,
   "id": "3b682bf8",
   "metadata": {},
   "outputs": [
    {
     "name": "stdout",
     "output_type": "stream",
     "text": [
      "1/1 [==============================] - 0s 23ms/step\n"
     ]
    }
   ],
   "source": [
    "# Predictions\n",
    "preds = model.predict(X_test)"
   ]
  },
  {
   "cell_type": "code",
   "execution_count": 88,
   "id": "23d07198",
   "metadata": {},
   "outputs": [
    {
     "data": {
      "image/png": "[encoded data removed]",
      "text/plain": [
       "<Figure size 864x432 with 1 Axes>"
      ]
     },
     "metadata": {
      "needs_background": "light"
     },
     "output_type": "display_data"
    }
   ],
   "source": [
    "# size of the plot\n",
    "plt.figure(figsize=(12,6))\n",
    "\n",
    "# plotting the garah\n",
    "plt.scatter(X_train, y_train, c=\"b\", label=\"Training data\")\n",
    "plt.scatter(X_test, y_test, c=\"g\", label=\"Testing data\")\n",
    "plt.scatter(X_test, preds, c=\"r\", label=\"Predictions\")\n",
    "plt.legend()\n",
    "plt.show()"
   ]
  },
  {
   "cell_type": "code",
   "execution_count": 89,
   "id": "8cb1760d",
   "metadata": {},
   "outputs": [
    {
     "name": "stdout",
     "output_type": "stream",
     "text": [
      "R score is : 0.4782105850942504\n"
     ]
    }
   ],
   "source": [
    "import sklearn\n",
    "\n",
    "# Importing the required module\n",
    "from sklearn.metrics import r2_score\n",
    "\n",
    "# Evaluating the model\n",
    "print('R score is :', r2_score(y_test, preds))"
   ]
  },
  {
   "cell_type": "code",
   "execution_count": null,
   "id": "fe2553a5",
   "metadata": {},
   "outputs": [],
   "source": []
  },
  {
   "cell_type": "code",
   "execution_count": 117,
   "id": "63d23076",
   "metadata": {},
   "outputs": [
    {
     "name": "stdout",
     "output_type": "stream",
     "text": [
      "Epoch 1/100\n",
      "4/4 [==============================] - 0s 1ms/step - loss: 62.2925 - mae: 62.2925\n",
      "Epoch 2/100\n",
      "4/4 [==============================] - 0s 2ms/step - loss: 60.9366 - mae: 60.9366\n",
      "Epoch 3/100\n",
      "4/4 [==============================] - 0s 2ms/step - loss: 59.5972 - mae: 59.5972\n",
      "Epoch 4/100\n",
      "4/4 [==============================] - 0s 2ms/step - loss: 58.2361 - mae: 58.2361\n",
      "Epoch 5/100\n",
      "4/4 [==============================] - 0s 2ms/step - loss: 56.8881 - mae: 56.8881\n",
      "Epoch 6/100\n",
      "4/4 [==============================] - 0s 2ms/step - loss: 55.5333 - mae: 55.5333\n",
      "Epoch 7/100\n",
      "4/4 [==============================] - 0s 2ms/step - loss: 54.1705 - mae: 54.1705\n",
      "Epoch 8/100\n",
      "4/4 [==============================] - 0s 2ms/step - loss: 52.8523 - mae: 52.8523\n",
      "Epoch 9/100\n",
      "4/4 [==============================] - 0s 2ms/step - loss: 51.5388 - mae: 51.5388\n",
      "Epoch 10/100\n",
      "4/4 [==============================] - 0s 3ms/step - loss: 50.1519 - mae: 50.1519\n",
      "Epoch 11/100\n",
      "4/4 [==============================] - 0s 2ms/step - loss: 48.7992 - mae: 48.7992\n",
      "Epoch 12/100\n",
      "4/4 [==============================] - 0s 2ms/step - loss: 47.5180 - mae: 47.5180\n",
      "Epoch 13/100\n",
      "4/4 [==============================] - 0s 3ms/step - loss: 46.1703 - mae: 46.1703\n",
      "Epoch 14/100\n",
      "4/4 [==============================] - 0s 2ms/step - loss: 44.8387 - mae: 44.8387\n",
      "Epoch 15/100\n",
      "4/4 [==============================] - 0s 2ms/step - loss: 43.5171 - mae: 43.5171\n",
      "Epoch 16/100\n",
      "4/4 [==============================] - 0s 2ms/step - loss: 42.1910 - mae: 42.1910\n",
      "Epoch 17/100\n",
      "4/4 [==============================] - 0s 3ms/step - loss: 40.8922 - mae: 40.8922\n",
      "Epoch 18/100\n",
      "4/4 [==============================] - 0s 2ms/step - loss: 39.5132 - mae: 39.5132\n",
      "Epoch 19/100\n",
      "4/4 [==============================] - 0s 2ms/step - loss: 38.0078 - mae: 38.0078\n",
      "Epoch 20/100\n",
      "4/4 [==============================] - 0s 2ms/step - loss: 36.4619 - mae: 36.4619\n",
      "Epoch 21/100\n",
      "4/4 [==============================] - 0s 2ms/step - loss: 34.9310 - mae: 34.9310\n",
      "Epoch 22/100\n",
      "4/4 [==============================] - 0s 2ms/step - loss: 33.3810 - mae: 33.3810\n",
      "Epoch 23/100\n",
      "4/4 [==============================] - 0s 3ms/step - loss: 31.7507 - mae: 31.7507\n",
      "Epoch 24/100\n",
      "4/4 [==============================] - 0s 2ms/step - loss: 30.1525 - mae: 30.1525\n",
      "Epoch 25/100\n",
      "4/4 [==============================] - 0s 2ms/step - loss: 28.5700 - mae: 28.5700\n",
      "Epoch 26/100\n",
      "4/4 [==============================] - 0s 3ms/step - loss: 26.9909 - mae: 26.9909\n",
      "Epoch 27/100\n",
      "4/4 [==============================] - 0s 2ms/step - loss: 25.4046 - mae: 25.4046\n",
      "Epoch 28/100\n",
      "4/4 [==============================] - 0s 2ms/step - loss: 23.7447 - mae: 23.7447\n",
      "Epoch 29/100\n",
      "4/4 [==============================] - 0s 3ms/step - loss: 22.1692 - mae: 22.1692\n",
      "Epoch 30/100\n",
      "4/4 [==============================] - 0s 3ms/step - loss: 20.5191 - mae: 20.5191\n",
      "Epoch 31/100\n",
      "4/4 [==============================] - 0s 2ms/step - loss: 18.8922 - mae: 18.8922\n",
      "Epoch 32/100\n",
      "4/4 [==============================] - 0s 2ms/step - loss: 17.2815 - mae: 17.2815\n",
      "Epoch 33/100\n",
      "4/4 [==============================] - 0s 3ms/step - loss: 15.6523 - mae: 15.6523\n",
      "Epoch 34/100\n",
      "4/4 [==============================] - 0s 2ms/step - loss: 14.0790 - mae: 14.0790\n",
      "Epoch 35/100\n",
      "4/4 [==============================] - 0s 2ms/step - loss: 12.4486 - mae: 12.4486\n",
      "Epoch 36/100\n",
      "4/4 [==============================] - 0s 2ms/step - loss: 10.9253 - mae: 10.9253\n",
      "Epoch 37/100\n",
      "4/4 [==============================] - 0s 3ms/step - loss: 9.4140 - mae: 9.4140\n",
      "Epoch 38/100\n",
      "4/4 [==============================] - 0s 3ms/step - loss: 7.8431 - mae: 7.8431\n",
      "Epoch 39/100\n",
      "4/4 [==============================] - 0s 2ms/step - loss: 6.5018 - mae: 6.5018\n",
      "Epoch 40/100\n",
      "4/4 [==============================] - 0s 2ms/step - loss: 5.4959 - mae: 5.4959\n",
      "Epoch 41/100\n",
      "4/4 [==============================] - 0s 2ms/step - loss: 4.7820 - mae: 4.7820\n",
      "Epoch 42/100\n",
      "4/4 [==============================] - 0s 2ms/step - loss: 4.3859 - mae: 4.3859\n",
      "Epoch 43/100\n",
      "4/4 [==============================] - 0s 2ms/step - loss: 4.3060 - mae: 4.3060\n",
      "Epoch 44/100\n",
      "4/4 [==============================] - 0s 2ms/step - loss: 4.3532 - mae: 4.3532\n",
      "Epoch 45/100\n",
      "4/4 [==============================] - 0s 2ms/step - loss: 4.3743 - mae: 4.3743\n",
      "Epoch 46/100\n",
      "4/4 [==============================] - 0s 2ms/step - loss: 4.3023 - mae: 4.3023\n",
      "Epoch 47/100\n",
      "4/4 [==============================] - 0s 2ms/step - loss: 4.2167 - mae: 4.2167\n",
      "Epoch 48/100\n",
      "4/4 [==============================] - 0s 3ms/step - loss: 4.1597 - mae: 4.1597\n",
      "Epoch 49/100\n",
      "4/4 [==============================] - 0s 2ms/step - loss: 4.1751 - mae: 4.1751\n",
      "Epoch 50/100\n",
      "4/4 [==============================] - 0s 2ms/step - loss: 4.1659 - mae: 4.1659\n",
      "Epoch 51/100\n",
      "4/4 [==============================] - 0s 3ms/step - loss: 4.1535 - mae: 4.1535\n",
      "Epoch 52/100\n",
      "4/4 [==============================] - 0s 3ms/step - loss: 4.1484 - mae: 4.1484\n",
      "Epoch 53/100\n",
      "4/4 [==============================] - 0s 2ms/step - loss: 4.1346 - mae: 4.1346\n",
      "Epoch 54/100\n",
      "4/4 [==============================] - 0s 2ms/step - loss: 4.1406 - mae: 4.1406\n",
      "Epoch 55/100\n",
      "4/4 [==============================] - 0s 2ms/step - loss: 4.1403 - mae: 4.1403\n",
      "Epoch 56/100\n",
      "4/4 [==============================] - 0s 2ms/step - loss: 4.1298 - mae: 4.1298\n",
      "Epoch 57/100\n",
      "4/4 [==============================] - 0s 2ms/step - loss: 4.1274 - mae: 4.1274\n",
      "Epoch 58/100\n",
      "4/4 [==============================] - 0s 2ms/step - loss: 4.1095 - mae: 4.1095\n",
      "Epoch 59/100\n",
      "4/4 [==============================] - 0s 2ms/step - loss: 4.1019 - mae: 4.1019\n",
      "Epoch 60/100\n",
      "4/4 [==============================] - 0s 3ms/step - loss: 4.1032 - mae: 4.1032\n",
      "Epoch 61/100\n",
      "4/4 [==============================] - 0s 2ms/step - loss: 4.1017 - mae: 4.1017\n",
      "Epoch 62/100\n",
      "4/4 [==============================] - 0s 2ms/step - loss: 4.0910 - mae: 4.0910\n",
      "Epoch 63/100\n",
      "4/4 [==============================] - 0s 3ms/step - loss: 4.0822 - mae: 4.0822\n",
      "Epoch 64/100\n",
      "4/4 [==============================] - 0s 2ms/step - loss: 4.0747 - mae: 4.0747\n",
      "Epoch 65/100\n",
      "4/4 [==============================] - 0s 2ms/step - loss: 4.0748 - mae: 4.0748\n",
      "Epoch 66/100\n",
      "4/4 [==============================] - 0s 2ms/step - loss: 4.0735 - mae: 4.0735\n",
      "Epoch 67/100\n",
      "4/4 [==============================] - 0s 2ms/step - loss: 4.0671 - mae: 4.0671\n",
      "Epoch 68/100\n",
      "4/4 [==============================] - 0s 2ms/step - loss: 4.0587 - mae: 4.0587\n",
      "Epoch 69/100\n",
      "4/4 [==============================] - 0s 2ms/step - loss: 4.0487 - mae: 4.0487\n",
      "Epoch 70/100\n",
      "4/4 [==============================] - 0s 2ms/step - loss: 4.0440 - mae: 4.0440\n",
      "Epoch 71/100\n",
      "4/4 [==============================] - 0s 2ms/step - loss: 4.0414 - mae: 4.0414\n",
      "Epoch 72/100\n",
      "4/4 [==============================] - 0s 2ms/step - loss: 4.0369 - mae: 4.0369\n",
      "Epoch 73/100\n",
      "4/4 [==============================] - 0s 2ms/step - loss: 4.0267 - mae: 4.0267\n",
      "Epoch 74/100\n",
      "4/4 [==============================] - 0s 2ms/step - loss: 4.0230 - mae: 4.0230\n",
      "Epoch 75/100\n",
      "4/4 [==============================] - 0s 2ms/step - loss: 4.0293 - mae: 4.0293\n",
      "Epoch 76/100\n",
      "4/4 [==============================] - 0s 2ms/step - loss: 4.0130 - mae: 4.0130\n",
      "Epoch 77/100\n",
      "4/4 [==============================] - 0s 2ms/step - loss: 4.0270 - mae: 4.0270\n",
      "Epoch 78/100\n",
      "4/4 [==============================] - 0s 2ms/step - loss: 4.0053 - mae: 4.0053\n",
      "Epoch 79/100\n",
      "4/4 [==============================] - 0s 2ms/step - loss: 4.0005 - mae: 4.0005\n",
      "Epoch 80/100\n",
      "4/4 [==============================] - 0s 2ms/step - loss: 3.9912 - mae: 3.9912\n",
      "Epoch 81/100\n",
      "4/4 [==============================] - 0s 2ms/step - loss: 3.9845 - mae: 3.9845\n",
      "Epoch 82/100\n",
      "4/4 [==============================] - 0s 2ms/step - loss: 3.9900 - mae: 3.9900\n",
      "Epoch 83/100\n",
      "4/4 [==============================] - 0s 2ms/step - loss: 3.9812 - mae: 3.9812\n",
      "Epoch 84/100\n",
      "4/4 [==============================] - 0s 2ms/step - loss: 3.9695 - mae: 3.9695\n",
      "Epoch 85/100\n",
      "4/4 [==============================] - 0s 2ms/step - loss: 3.9641 - mae: 3.9641\n",
      "Epoch 86/100\n",
      "4/4 [==============================] - 0s 2ms/step - loss: 3.9629 - mae: 3.9629\n",
      "Epoch 87/100\n",
      "4/4 [==============================] - 0s 2ms/step - loss: 3.9605 - mae: 3.9605\n",
      "Epoch 88/100\n"
     ]
    },
    {
     "name": "stdout",
     "output_type": "stream",
     "text": [
      "4/4 [==============================] - 0s 2ms/step - loss: 3.9597 - mae: 3.9597\n",
      "Epoch 89/100\n",
      "4/4 [==============================] - 0s 2ms/step - loss: 3.9486 - mae: 3.9486\n",
      "Epoch 90/100\n",
      "4/4 [==============================] - 0s 2ms/step - loss: 3.9432 - mae: 3.9432\n",
      "Epoch 91/100\n",
      "4/4 [==============================] - 0s 2ms/step - loss: 3.9337 - mae: 3.9337\n",
      "Epoch 92/100\n",
      "4/4 [==============================] - 0s 2ms/step - loss: 3.9352 - mae: 3.9352\n",
      "Epoch 93/100\n",
      "4/4 [==============================] - 0s 2ms/step - loss: 3.9315 - mae: 3.9315\n",
      "Epoch 94/100\n",
      "4/4 [==============================] - 0s 2ms/step - loss: 3.9256 - mae: 3.9256\n",
      "Epoch 95/100\n",
      "4/4 [==============================] - 0s 2ms/step - loss: 3.9178 - mae: 3.9178\n",
      "Epoch 96/100\n",
      "4/4 [==============================] - 0s 2ms/step - loss: 3.9133 - mae: 3.9133\n",
      "Epoch 97/100\n",
      "4/4 [==============================] - 0s 2ms/step - loss: 3.9076 - mae: 3.9076\n",
      "Epoch 98/100\n",
      "4/4 [==============================] - 0s 2ms/step - loss: 3.8985 - mae: 3.8985\n",
      "Epoch 99/100\n",
      "4/4 [==============================] - 0s 3ms/step - loss: 3.8968 - mae: 3.8968\n",
      "Epoch 100/100\n",
      "4/4 [==============================] - 0s 2ms/step - loss: 3.8875 - mae: 3.8875\n"
     ]
    },
    {
     "data": {
      "text/plain": [
       "<keras.callbacks.History at 0x7f235b7a8f40>"
      ]
     },
     "execution_count": 117,
     "metadata": {},
     "output_type": "execute_result"
    }
   ],
   "source": [
    "model = tf.keras.Sequential([\n",
    "  tf.keras.layers.Dense(10, activation = tf.keras.activations.relu),\n",
    "  tf.keras.layers.Dense(1)\n",
    "])\n",
    "model.compile(loss=tf.keras.losses.mae,\n",
    "                optimizer=tf.keras.optimizers.Adam(),\n",
    "                metrics=['mae'])\n",
    "model.fit(tf.expand_dims(X_train, axis=-1), y_train, epochs=100)"
   ]
  },
  {
   "cell_type": "code",
   "execution_count": 118,
   "id": "c54d69d7",
   "metadata": {},
   "outputs": [
    {
     "name": "stdout",
     "output_type": "stream",
     "text": [
      "WARNING:tensorflow:6 out of the last 12 calls to <function Model.make_predict_function.<locals>.predict_function at 0x7f235b7b6e50> triggered tf.function retracing. Tracing is expensive and the excessive number of tracings could be due to (1) creating @tf.function repeatedly in a loop, (2) passing tensors with different shapes, (3) passing Python objects instead of tensors. For (1), please define your @tf.function outside of the loop. For (2), @tf.function has reduce_retracing=True option that can avoid unnecessary retracing. For (3), please refer to https://www.tensorflow.org/guide/function#controlling_retracing and https://www.tensorflow.org/api_docs/python/tf/function for  more details.\n",
      "1/1 [==============================] - 0s 43ms/step\n"
     ]
    }
   ],
   "source": [
    "preds = model.predict(X_test)"
   ]
  },
  {
   "cell_type": "code",
   "execution_count": 120,
   "id": "81535f2f",
   "metadata": {},
   "outputs": [
    {
     "data": {
      "image/png": "[encoded data removed]",
      "text/plain": [
       "<Figure size 864x432 with 1 Axes>"
      ]
     },
     "metadata": {
      "needs_background": "light"
     },
     "output_type": "display_data"
    }
   ],
   "source": [
    "# size of the plot\n",
    "plt.figure(figsize=(12,6))\n",
    "\n",
    "# plotting the garah\n",
    "plt.scatter(X_train, y_train, c=\"b\", label=\"Training data\")\n",
    "plt.scatter(X_test, y_test, c=\"g\", label=\"Testing data\")\n",
    "plt.scatter(X_test, preds, c=\"r\", label=\"Predictions\")\n",
    "plt.legend()\n",
    "plt.show()"
   ]
  },
  {
   "cell_type": "code",
   "execution_count": null,
   "id": "14f31da4",
   "metadata": {},
   "outputs": [],
   "source": []
  }
 ],
 "metadata": {
  "kernelspec": {
   "display_name": "Python 3 (ipykernel)",
   "language": "python",
   "name": "python3"
  },
  "language_info": {
   "codemirror_mode": {
    "name": "ipython",
    "version": 3
   },
   "file_extension": ".py",
   "mimetype": "text/x-python",
   "name": "python",
   "nbconvert_exporter": "python",
   "pygments_lexer": "ipython3",
   "version": "3.9.12"
  }
 },
 "nbformat": 4,
 "nbformat_minor": 5
}
